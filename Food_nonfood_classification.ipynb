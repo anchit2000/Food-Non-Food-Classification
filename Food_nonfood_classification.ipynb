{
  "nbformat": 4,
  "nbformat_minor": 0,
  "metadata": {
    "colab": {
      "name": "Food nonfood classification.ipynb",
      "provenance": [],
      "collapsed_sections": [
        "n1wlaJ2tHE-R",
        "N0swOIqVHKsy"
      ],
      "include_colab_link": true
    },
    "kernelspec": {
      "display_name": "Python 3",
      "name": "python3"
    },
    "language_info": {
      "name": "python"
    }
  },
  "cells": [
    {
      "cell_type": "markdown",
      "metadata": {
        "id": "view-in-github",
        "colab_type": "text"
      },
      "source": [
        "<a href=\"https://colab.research.google.com/github/anchitshrivastava/Food-Non-Food-classification/blob/main/Food_nonfood_classification.ipynb\" target=\"_parent\"><img src=\"https://colab.research.google.com/assets/colab-badge.svg\" alt=\"Open In Colab\"/></a>"
      ]
    },
    {
      "cell_type": "code",
      "metadata": {
        "colab": {
          "base_uri": "https://localhost:8080/"
        },
        "id": "AKLRyJumDlJ5",
        "outputId": "0c6f0970-15ef-4b0e-a781-4d8ccd947f6b"
      },
      "source": [
        "print(\"hello\")"
      ],
      "execution_count": null,
      "outputs": [
        {
          "output_type": "stream",
          "text": [
            "hello\n"
          ],
          "name": "stdout"
        }
      ]
    },
    {
      "cell_type": "code",
      "metadata": {
        "colab": {
          "base_uri": "https://localhost:8080/"
        },
        "id": "TOQF5tgdDr5W",
        "outputId": "e14a30b2-7710-4c7b-fc75-d9bf17c037ec"
      },
      "source": [
        "from google.colab import drive\n",
        "drive.mount('/content/drive')"
      ],
      "execution_count": null,
      "outputs": [
        {
          "output_type": "stream",
          "text": [
            "Mounted at /content/drive\n"
          ],
          "name": "stdout"
        }
      ]
    },
    {
      "cell_type": "code",
      "metadata": {
        "colab": {
          "base_uri": "https://localhost:8080/"
        },
        "id": "uYuWsr4seYTb",
        "outputId": "874a19e4-8171-40c4-e788-8b2321c335db"
      },
      "source": [
        "cd drive/"
      ],
      "execution_count": null,
      "outputs": [
        {
          "output_type": "stream",
          "text": [
            "/content/drive\n"
          ],
          "name": "stdout"
        }
      ]
    },
    {
      "cell_type": "code",
      "metadata": {
        "colab": {
          "base_uri": "https://localhost:8080/"
        },
        "id": "hB3iA19jFwww",
        "outputId": "13a8941d-5624-4808-f022-35a113b9c1a1"
      },
      "source": [
        "cd MyDrive/"
      ],
      "execution_count": null,
      "outputs": [
        {
          "output_type": "stream",
          "text": [
            "/content/drive/MyDrive\n"
          ],
          "name": "stdout"
        }
      ]
    },
    {
      "cell_type": "code",
      "metadata": {
        "colab": {
          "base_uri": "https://localhost:8080/"
        },
        "id": "KxHzXYylGJz9",
        "outputId": "618df39f-c495-4b53-9b2c-062cb2179bf4"
      },
      "source": [
        "cd Tatras\\ projects"
      ],
      "execution_count": null,
      "outputs": [
        {
          "output_type": "stream",
          "text": [
            "/content/drive/MyDrive/Tatras projects\n"
          ],
          "name": "stdout"
        }
      ]
    },
    {
      "cell_type": "code",
      "metadata": {
        "colab": {
          "base_uri": "https://localhost:8080/"
        },
        "id": "UfdYXxAbep3F",
        "outputId": "234cd52a-6347-4323-9adc-25bb3ec52bc8"
      },
      "source": [
        "ls"
      ],
      "execution_count": null,
      "outputs": [
        {
          "output_type": "stream",
          "text": [
            "\u001b[0m\u001b[01;34m'Food Nonfood data '\u001b[0m/   sample.csv\n"
          ],
          "name": "stdout"
        }
      ]
    },
    {
      "cell_type": "code",
      "metadata": {
        "colab": {
          "base_uri": "https://localhost:8080/"
        },
        "id": "-bfQEF3NGOud",
        "outputId": "5f9ce19d-d8ec-49c0-b64b-0faf3fc8cca6"
      },
      "source": [
        "cd Food\\ Nonfood\\ data\\ "
      ],
      "execution_count": null,
      "outputs": [
        {
          "output_type": "stream",
          "text": [
            "/content/drive/MyDrive/Tatras projects/Food Nonfood data \n"
          ],
          "name": "stdout"
        }
      ]
    },
    {
      "cell_type": "code",
      "metadata": {
        "colab": {
          "base_uri": "https://localhost:8080/"
        },
        "id": "hg9QSqSFGRTi",
        "outputId": "f343c849-86f6-4537-fd70-ebd4add71667"
      },
      "source": [
        "cd training/"
      ],
      "execution_count": null,
      "outputs": [
        {
          "output_type": "stream",
          "text": [
            "/content/drive/MyDrive/Tatras projects/Food Nonfood data /training\n"
          ],
          "name": "stdout"
        }
      ]
    },
    {
      "cell_type": "code",
      "metadata": {
        "id": "TEMHRdzpGSqs"
      },
      "source": [
        "# Reached till data"
      ],
      "execution_count": null,
      "outputs": []
    },
    {
      "cell_type": "code",
      "metadata": {
        "id": "cIrySXSlMxs9"
      },
      "source": [
        "# Loading Train and test images data"
      ],
      "execution_count": null,
      "outputs": []
    },
    {
      "cell_type": "code",
      "metadata": {
        "colab": {
          "base_uri": "https://localhost:8080/"
        },
        "id": "4yAnqU9DUHoo",
        "outputId": "ac9afec2-65c0-415f-bb2b-2e679a19391e"
      },
      "source": [
        "import pandas as pd\n",
        "import os\n",
        "import glob\n",
        "from tqdm import tqdm\n",
        "df_training = pd.DataFrame(columns = ['Image','Food/Non-Food'])\n",
        "print(df_training)\n",
        "#appending names of these files in the csv file with lables food or nonfood \n",
        "training_direc = os.getcwd()\n",
        "print(training_direc)\n",
        "\n",
        "# for food directory\n",
        "food_direc = training_direc+\"/food/\"\n",
        "nonfood_direc = training_direc+\"/non_food/\"\n",
        "print(food_direc)\n",
        "print(nonfood_direc)"
      ],
      "execution_count": null,
      "outputs": [
        {
          "output_type": "stream",
          "text": [
            "Empty DataFrame\n",
            "Columns: [Image, Food/Non-Food]\n",
            "Index: []\n",
            "/content/drive/MyDrive/Tatras projects/Food Nonfood data /training\n",
            "/content/drive/MyDrive/Tatras projects/Food Nonfood data /training/food/\n",
            "/content/drive/MyDrive/Tatras projects/Food Nonfood data /training/non_food/\n"
          ],
          "name": "stdout"
        }
      ]
    },
    {
      "cell_type": "code",
      "metadata": {
        "colab": {
          "base_uri": "https://localhost:8080/",
          "height": 470
        },
        "id": "aG3aqWoOWEDC",
        "outputId": "785e1cd9-9003-4c51-e78f-26062ced0e3b"
      },
      "source": [
        "list_food_items = [f for f in tqdm(glob.glob(food_direc+\"*.jpg\"))]\n",
        "list_nonfood_items = [f for f in tqdm(glob.glob(nonfood_direc+\"*.jpg\"))]\n",
        "print(len(list_food_items),len(list_nonfood_items))\n",
        "df_training['Image'] = list_food_items + list_nonfood_items\n",
        "for i in range(len(df_training['Image'])):\n",
        "  if df_training['Image'][i] in list_food_items:\n",
        "    df_training['Food/Non-Food'][i] = 1\n",
        "  else:\n",
        "    df_training['Food/Non-Food'][i] = 0\n",
        "df_training\n",
        "# 1 is for food images and 0 is for non-fod images"
      ],
      "execution_count": null,
      "outputs": [
        {
          "output_type": "stream",
          "text": [
            "100%|██████████| 1500/1500 [00:00<00:00, 948794.45it/s]\n",
            "100%|██████████| 1500/1500 [00:00<00:00, 426365.95it/s]\n"
          ],
          "name": "stderr"
        },
        {
          "output_type": "stream",
          "text": [
            "1500 1500\n"
          ],
          "name": "stdout"
        },
        {
          "output_type": "execute_result",
          "data": {
            "text/html": [
              "<div>\n",
              "<style scoped>\n",
              "    .dataframe tbody tr th:only-of-type {\n",
              "        vertical-align: middle;\n",
              "    }\n",
              "\n",
              "    .dataframe tbody tr th {\n",
              "        vertical-align: top;\n",
              "    }\n",
              "\n",
              "    .dataframe thead th {\n",
              "        text-align: right;\n",
              "    }\n",
              "</style>\n",
              "<table border=\"1\" class=\"dataframe\">\n",
              "  <thead>\n",
              "    <tr style=\"text-align: right;\">\n",
              "      <th></th>\n",
              "      <th>Image</th>\n",
              "      <th>Food/Non-Food</th>\n",
              "    </tr>\n",
              "  </thead>\n",
              "  <tbody>\n",
              "    <tr>\n",
              "      <th>0</th>\n",
              "      <td>/content/drive/MyDrive/Tatras projects/Food No...</td>\n",
              "      <td>1</td>\n",
              "    </tr>\n",
              "    <tr>\n",
              "      <th>1</th>\n",
              "      <td>/content/drive/MyDrive/Tatras projects/Food No...</td>\n",
              "      <td>1</td>\n",
              "    </tr>\n",
              "    <tr>\n",
              "      <th>2</th>\n",
              "      <td>/content/drive/MyDrive/Tatras projects/Food No...</td>\n",
              "      <td>1</td>\n",
              "    </tr>\n",
              "    <tr>\n",
              "      <th>3</th>\n",
              "      <td>/content/drive/MyDrive/Tatras projects/Food No...</td>\n",
              "      <td>1</td>\n",
              "    </tr>\n",
              "    <tr>\n",
              "      <th>4</th>\n",
              "      <td>/content/drive/MyDrive/Tatras projects/Food No...</td>\n",
              "      <td>1</td>\n",
              "    </tr>\n",
              "    <tr>\n",
              "      <th>...</th>\n",
              "      <td>...</td>\n",
              "      <td>...</td>\n",
              "    </tr>\n",
              "    <tr>\n",
              "      <th>2995</th>\n",
              "      <td>/content/drive/MyDrive/Tatras projects/Food No...</td>\n",
              "      <td>0</td>\n",
              "    </tr>\n",
              "    <tr>\n",
              "      <th>2996</th>\n",
              "      <td>/content/drive/MyDrive/Tatras projects/Food No...</td>\n",
              "      <td>0</td>\n",
              "    </tr>\n",
              "    <tr>\n",
              "      <th>2997</th>\n",
              "      <td>/content/drive/MyDrive/Tatras projects/Food No...</td>\n",
              "      <td>0</td>\n",
              "    </tr>\n",
              "    <tr>\n",
              "      <th>2998</th>\n",
              "      <td>/content/drive/MyDrive/Tatras projects/Food No...</td>\n",
              "      <td>0</td>\n",
              "    </tr>\n",
              "    <tr>\n",
              "      <th>2999</th>\n",
              "      <td>/content/drive/MyDrive/Tatras projects/Food No...</td>\n",
              "      <td>0</td>\n",
              "    </tr>\n",
              "  </tbody>\n",
              "</table>\n",
              "<p>3000 rows × 2 columns</p>\n",
              "</div>"
            ],
            "text/plain": [
              "                                                  Image Food/Non-Food\n",
              "0     /content/drive/MyDrive/Tatras projects/Food No...             1\n",
              "1     /content/drive/MyDrive/Tatras projects/Food No...             1\n",
              "2     /content/drive/MyDrive/Tatras projects/Food No...             1\n",
              "3     /content/drive/MyDrive/Tatras projects/Food No...             1\n",
              "4     /content/drive/MyDrive/Tatras projects/Food No...             1\n",
              "...                                                 ...           ...\n",
              "2995  /content/drive/MyDrive/Tatras projects/Food No...             0\n",
              "2996  /content/drive/MyDrive/Tatras projects/Food No...             0\n",
              "2997  /content/drive/MyDrive/Tatras projects/Food No...             0\n",
              "2998  /content/drive/MyDrive/Tatras projects/Food No...             0\n",
              "2999  /content/drive/MyDrive/Tatras projects/Food No...             0\n",
              "\n",
              "[3000 rows x 2 columns]"
            ]
          },
          "metadata": {
            "tags": []
          },
          "execution_count": 13
        }
      ]
    },
    {
      "cell_type": "code",
      "metadata": {
        "id": "x_iHrW13Zrgq"
      },
      "source": [
        "import keras\n",
        "from keras.models import Sequential\n",
        "from keras.layers import Dense, Dropout, Flatten\n",
        "from keras.layers import Conv2D, MaxPooling2D\n",
        "from tensorflow.keras.utils import to_categorical\n",
        "from keras.preprocessing import image\n",
        "import numpy as np\n",
        "import pandas as pd\n",
        "import matplotlib.pyplot as plt\n",
        "from sklearn.model_selection import train_test_split\n",
        "from tensorflow.keras.utils import to_categorical\n",
        "from tqdm import tqdm"
      ],
      "execution_count": null,
      "outputs": []
    },
    {
      "cell_type": "code",
      "metadata": {
        "colab": {
          "base_uri": "https://localhost:8080/"
        },
        "id": "KsnmiK8OZ6Nz",
        "outputId": "a3b62358-b292-41f0-b7ba-b2f4512d75f0"
      },
      "source": [
        "train_image = []\n",
        "for i in tqdm(range(df_training.shape[0])):\n",
        "    img = image.load_img(df_training['Image'][i], target_size=(28,28,3), grayscale=False)\n",
        "    img = image.img_to_array(img)\n",
        "    img = img/255\n",
        "    train_image.append(img)\n",
        "X = np.array(train_image)\n",
        "X"
      ],
      "execution_count": null,
      "outputs": [
        {
          "output_type": "stream",
          "text": [
            "100%|██████████| 3000/3000 [00:26<00:00, 111.29it/s]\n"
          ],
          "name": "stderr"
        },
        {
          "output_type": "execute_result",
          "data": {
            "text/plain": [
              "array([[[[1.        , 1.        , 1.        ],\n",
              "         [1.        , 1.        , 1.        ],\n",
              "         [1.        , 1.        , 1.        ],\n",
              "         ...,\n",
              "         [1.        , 1.        , 1.        ],\n",
              "         [1.        , 1.        , 1.        ],\n",
              "         [1.        , 1.        , 1.        ]],\n",
              "\n",
              "        [[1.        , 1.        , 1.        ],\n",
              "         [1.        , 1.        , 1.        ],\n",
              "         [1.        , 1.        , 1.        ],\n",
              "         ...,\n",
              "         [1.        , 1.        , 1.        ],\n",
              "         [1.        , 1.        , 1.        ],\n",
              "         [1.        , 1.        , 1.        ]],\n",
              "\n",
              "        [[1.        , 1.        , 1.        ],\n",
              "         [1.        , 1.        , 1.        ],\n",
              "         [1.        , 1.        , 1.        ],\n",
              "         ...,\n",
              "         [1.        , 1.        , 1.        ],\n",
              "         [1.        , 1.        , 1.        ],\n",
              "         [1.        , 1.        , 1.        ]],\n",
              "\n",
              "        ...,\n",
              "\n",
              "        [[1.        , 1.        , 1.        ],\n",
              "         [1.        , 1.        , 1.        ],\n",
              "         [1.        , 1.        , 1.        ],\n",
              "         ...,\n",
              "         [1.        , 1.        , 1.        ],\n",
              "         [1.        , 1.        , 1.        ],\n",
              "         [1.        , 1.        , 1.        ]],\n",
              "\n",
              "        [[1.        , 1.        , 1.        ],\n",
              "         [1.        , 1.        , 1.        ],\n",
              "         [1.        , 1.        , 1.        ],\n",
              "         ...,\n",
              "         [1.        , 1.        , 1.        ],\n",
              "         [1.        , 1.        , 1.        ],\n",
              "         [1.        , 1.        , 1.        ]],\n",
              "\n",
              "        [[1.        , 1.        , 1.        ],\n",
              "         [1.        , 1.        , 1.        ],\n",
              "         [1.        , 1.        , 1.        ],\n",
              "         ...,\n",
              "         [1.        , 1.        , 1.        ],\n",
              "         [1.        , 1.        , 1.        ],\n",
              "         [1.        , 1.        , 1.        ]]],\n",
              "\n",
              "\n",
              "       [[[0.17254902, 0.12941177, 0.14509805],\n",
              "         [0.18039216, 0.07843138, 0.02745098],\n",
              "         [0.18431373, 0.07058824, 0.03921569],\n",
              "         ...,\n",
              "         [0.54509807, 0.5803922 , 0.64705884],\n",
              "         [0.23137255, 0.1882353 , 0.21176471],\n",
              "         [0.20784314, 0.13725491, 0.12941177]],\n",
              "\n",
              "        [[0.07450981, 0.0627451 , 0.04313726],\n",
              "         [0.19215687, 0.10588235, 0.05490196],\n",
              "         [0.37254903, 0.2901961 , 0.21568628],\n",
              "         ...,\n",
              "         [0.9607843 , 1.        , 0.99607843],\n",
              "         [0.23921569, 0.24705882, 0.32941177],\n",
              "         [0.23137255, 0.17254902, 0.18431373]],\n",
              "\n",
              "        [[0.18431373, 0.13725491, 0.08235294],\n",
              "         [0.21176471, 0.13333334, 0.09019608],\n",
              "         [0.34509805, 0.28235295, 0.21960784],\n",
              "         ...,\n",
              "         [0.98039216, 1.        , 0.99607843],\n",
              "         [0.85490197, 0.8980392 , 0.9764706 ],\n",
              "         [0.23921569, 0.19215687, 0.23137255]],\n",
              "\n",
              "        ...,\n",
              "\n",
              "        [[0.00784314, 0.00784314, 0.00784314],\n",
              "         [0.02352941, 0.02352941, 0.02352941],\n",
              "         [0.04705882, 0.03137255, 0.01960784],\n",
              "         ...,\n",
              "         [0.5647059 , 0.6313726 , 0.7411765 ],\n",
              "         [0.5921569 , 0.68235296, 0.8156863 ],\n",
              "         [0.60784316, 0.6862745 , 0.8235294 ]],\n",
              "\n",
              "        [[0.00392157, 0.00392157, 0.00392157],\n",
              "         [0.00392157, 0.00392157, 0.00392157],\n",
              "         [0.00784314, 0.00784314, 0.01568628],\n",
              "         ...,\n",
              "         [0.41960785, 0.3647059 , 0.36078432],\n",
              "         [0.27058825, 0.17254902, 0.1882353 ],\n",
              "         [0.38039216, 0.31764707, 0.32156864]],\n",
              "\n",
              "        [[0.00392157, 0.00392157, 0.00392157],\n",
              "         [0.00392157, 0.00392157, 0.00392157],\n",
              "         [0.00784314, 0.00784314, 0.00784314],\n",
              "         ...,\n",
              "         [0.40392157, 0.36078432, 0.38431373],\n",
              "         [0.3882353 , 0.28627452, 0.3372549 ],\n",
              "         [0.33333334, 0.21176471, 0.27058825]]],\n",
              "\n",
              "\n",
              "       [[[0.7411765 , 0.5686275 , 0.43137255],\n",
              "         [0.5647059 , 0.41960785, 0.30588236],\n",
              "         [0.45882353, 0.3882353 , 0.34117648],\n",
              "         ...,\n",
              "         [0.37254903, 0.2627451 , 0.25882354],\n",
              "         [0.40784314, 0.29803923, 0.28627452],\n",
              "         [0.47843137, 0.32941177, 0.31764707]],\n",
              "\n",
              "        [[0.83137256, 0.64705884, 0.46666667],\n",
              "         [0.69803923, 0.5686275 , 0.44705883],\n",
              "         [0.58431375, 0.48235294, 0.43137255],\n",
              "         ...,\n",
              "         [0.34509805, 0.20392157, 0.20392157],\n",
              "         [0.37254903, 0.23921569, 0.23137255],\n",
              "         [0.4       , 0.2509804 , 0.23921569]],\n",
              "\n",
              "        [[0.8       , 0.6117647 , 0.45490196],\n",
              "         [0.7137255 , 0.5647059 , 0.49019608],\n",
              "         [0.6       , 0.5019608 , 0.42352942],\n",
              "         ...,\n",
              "         [0.2784314 , 0.14509805, 0.13725491],\n",
              "         [0.31764707, 0.18431373, 0.1882353 ],\n",
              "         [0.30980393, 0.1882353 , 0.1764706 ]],\n",
              "\n",
              "        ...,\n",
              "\n",
              "        [[0.78039217, 0.52156866, 0.15294118],\n",
              "         [0.8       , 0.5529412 , 0.18039216],\n",
              "         [0.8117647 , 0.53333336, 0.08627451],\n",
              "         ...,\n",
              "         [0.9882353 , 0.99215686, 0.9607843 ],\n",
              "         [0.9882353 , 0.99607843, 0.9529412 ],\n",
              "         [0.9882353 , 0.99215686, 0.92941177]],\n",
              "\n",
              "        [[0.96862745, 0.7529412 , 0.39607844],\n",
              "         [0.84313726, 0.627451  , 0.2627451 ],\n",
              "         [0.8039216 , 0.54901963, 0.18039216],\n",
              "         ...,\n",
              "         [0.9882353 , 0.99215686, 0.96862745],\n",
              "         [0.9843137 , 0.99607843, 0.9529412 ],\n",
              "         [0.9882353 , 0.99215686, 0.92941177]],\n",
              "\n",
              "        [[0.99215686, 0.84705883, 0.5294118 ],\n",
              "         [0.93333334, 0.6666667 , 0.23921569],\n",
              "         [0.84705883, 0.6509804 , 0.38039216],\n",
              "         ...,\n",
              "         [0.9843137 , 0.95686275, 0.84313726],\n",
              "         [0.9843137 , 0.9882353 , 0.9254902 ],\n",
              "         [0.99607843, 0.99215686, 0.92156863]]],\n",
              "\n",
              "\n",
              "       ...,\n",
              "\n",
              "\n",
              "       [[[0.8156863 , 0.79607844, 0.78431374],\n",
              "         [0.80784315, 0.7921569 , 0.78039217],\n",
              "         [0.8156863 , 0.79607844, 0.78431374],\n",
              "         ...,\n",
              "         [0.7254902 , 0.6862745 , 0.6784314 ],\n",
              "         [0.7294118 , 0.6862745 , 0.6627451 ],\n",
              "         [0.7529412 , 0.7176471 , 0.72156864]],\n",
              "\n",
              "        [[0.8156863 , 0.81960785, 0.8       ],\n",
              "         [0.81960785, 0.80784315, 0.77254903],\n",
              "         [0.3647059 , 0.25490198, 0.21176471],\n",
              "         ...,\n",
              "         [0.7882353 , 0.7647059 , 0.7647059 ],\n",
              "         [0.7882353 , 0.76862746, 0.75686276],\n",
              "         [0.7882353 , 0.75686276, 0.7490196 ]],\n",
              "\n",
              "        [[0.827451  , 0.8235294 , 0.80784315],\n",
              "         [0.47843137, 0.29803923, 0.23921569],\n",
              "         [0.53333336, 0.30980393, 0.20392157],\n",
              "         ...,\n",
              "         [0.34117648, 0.19215687, 0.14117648],\n",
              "         [0.3019608 , 0.22745098, 0.16862746],\n",
              "         [0.8039216 , 0.7647059 , 0.76862746]],\n",
              "\n",
              "        ...,\n",
              "\n",
              "        [[0.8039216 , 0.78431374, 0.7607843 ],\n",
              "         [0.7411765 , 0.7490196 , 0.7058824 ],\n",
              "         [0.29411766, 0.18431373, 0.12941177],\n",
              "         ...,\n",
              "         [0.7176471 , 0.7058824 , 0.6784314 ],\n",
              "         [0.74509805, 0.7254902 , 0.70980394],\n",
              "         [0.7411765 , 0.72156864, 0.7058824 ]],\n",
              "\n",
              "        [[0.74509805, 0.73333335, 0.7058824 ],\n",
              "         [0.7490196 , 0.7294118 , 0.7058824 ],\n",
              "         [0.72156864, 0.7058824 , 0.67058825],\n",
              "         ...,\n",
              "         [0.72156864, 0.7019608 , 0.6862745 ],\n",
              "         [0.7411765 , 0.70980394, 0.69803923],\n",
              "         [0.73333335, 0.7137255 , 0.69803923]],\n",
              "\n",
              "        [[0.7372549 , 0.70980394, 0.6784314 ],\n",
              "         [0.7294118 , 0.7176471 , 0.6901961 ],\n",
              "         [0.7372549 , 0.70980394, 0.6862745 ],\n",
              "         ...,\n",
              "         [0.7372549 , 0.7176471 , 0.69411767],\n",
              "         [0.73333335, 0.72156864, 0.7019608 ],\n",
              "         [0.74509805, 0.73333335, 0.7137255 ]]],\n",
              "\n",
              "\n",
              "       [[[0.7294118 , 0.7058824 , 0.72156864],\n",
              "         [0.9372549 , 0.972549  , 0.85882354],\n",
              "         [0.39215687, 0.3882353 , 0.38039216],\n",
              "         ...,\n",
              "         [0.3137255 , 0.34509805, 0.10980392],\n",
              "         [0.30588236, 0.3372549 , 0.13725491],\n",
              "         [0.11372549, 0.15294118, 0.01568628]],\n",
              "\n",
              "        [[0.65882355, 0.6901961 , 0.6313726 ],\n",
              "         [0.39215687, 0.34509805, 0.28235295],\n",
              "         [0.43137255, 0.4745098 , 0.30980393],\n",
              "         ...,\n",
              "         [0.24705882, 0.2627451 , 0.06666667],\n",
              "         [0.19215687, 0.21568628, 0.06666667],\n",
              "         [0.16862746, 0.15294118, 0.04705882]],\n",
              "\n",
              "        [[0.38431373, 0.43529412, 0.1254902 ],\n",
              "         [0.47058824, 0.4627451 , 0.3137255 ],\n",
              "         [0.98039216, 0.99607843, 1.        ],\n",
              "         ...,\n",
              "         [0.23529412, 0.24705882, 0.07843138],\n",
              "         [0.23921569, 0.23137255, 0.08235294],\n",
              "         [0.16078432, 0.16078432, 0.02745098]],\n",
              "\n",
              "        ...,\n",
              "\n",
              "        [[0.64705884, 0.6862745 , 0.44705883],\n",
              "         [0.49411765, 0.49803922, 0.27450982],\n",
              "         [0.47058824, 0.47058824, 0.26666668],\n",
              "         ...,\n",
              "         [0.5254902 , 0.5803922 , 0.09803922],\n",
              "         [0.44313726, 0.42352942, 0.02352941],\n",
              "         [0.28627452, 0.16862746, 0.05882353]],\n",
              "\n",
              "        [[0.7137255 , 0.7529412 , 0.5137255 ],\n",
              "         [0.6745098 , 0.7019608 , 0.42745098],\n",
              "         [0.6431373 , 0.6784314 , 0.36862746],\n",
              "         ...,\n",
              "         [0.44705883, 0.4862745 , 0.00784314],\n",
              "         [0.40392157, 0.45490196, 0.        ],\n",
              "         [0.49411765, 0.5019608 , 0.10588235]],\n",
              "\n",
              "        [[1.        , 0.99607843, 1.        ],\n",
              "         [0.69411767, 0.75686276, 0.47843137],\n",
              "         [0.67058825, 0.7058824 , 0.39607844],\n",
              "         ...,\n",
              "         [0.4509804 , 0.41568628, 0.        ],\n",
              "         [0.21568628, 0.15686275, 0.        ],\n",
              "         [0.24705882, 0.22352941, 0.03529412]]],\n",
              "\n",
              "\n",
              "       [[[0.94509804, 0.9372549 , 0.9411765 ],\n",
              "         [0.9647059 , 0.9647059 , 0.9647059 ],\n",
              "         [0.9647059 , 0.9647059 , 0.9647059 ],\n",
              "         ...,\n",
              "         [0.88235295, 0.8784314 , 0.8627451 ],\n",
              "         [0.88235295, 0.8784314 , 0.8627451 ],\n",
              "         [1.        , 0.99607843, 1.        ]],\n",
              "\n",
              "        [[0.9490196 , 0.93333334, 0.9372549 ],\n",
              "         [0.9529412 , 0.9529412 , 0.9529412 ],\n",
              "         [0.9647059 , 0.9647059 , 0.9647059 ],\n",
              "         ...,\n",
              "         [0.8980392 , 0.89411765, 0.8745098 ],\n",
              "         [0.89411765, 0.8901961 , 0.87058824],\n",
              "         [0.9882353 , 0.98039216, 0.99215686]],\n",
              "\n",
              "        [[0.94509804, 0.9372549 , 0.9411765 ],\n",
              "         [0.9607843 , 0.9607843 , 0.9607843 ],\n",
              "         [0.96862745, 0.96862745, 0.96862745],\n",
              "         ...,\n",
              "         [0.9019608 , 0.8901961 , 0.85490197],\n",
              "         [0.9019608 , 0.89411765, 0.84705883],\n",
              "         [0.9843137 , 0.9764706 , 0.98039216]],\n",
              "\n",
              "        ...,\n",
              "\n",
              "        [[0.8901961 , 0.8901961 , 0.88235295],\n",
              "         [0.90588236, 0.90588236, 0.8980392 ],\n",
              "         [0.93333334, 0.93333334, 0.93333334],\n",
              "         ...,\n",
              "         [0.8862745 , 0.8862745 , 0.85490197],\n",
              "         [0.8862745 , 0.8745098 , 0.84705883],\n",
              "         [0.89411765, 0.8901961 , 0.87058824]],\n",
              "\n",
              "        [[0.8901961 , 0.8901961 , 0.8901961 ],\n",
              "         [0.90588236, 0.90588236, 0.90588236],\n",
              "         [0.92941177, 0.92941177, 0.92941177],\n",
              "         ...,\n",
              "         [0.9019608 , 0.9019608 , 0.87058824],\n",
              "         [0.89411765, 0.88235295, 0.85490197],\n",
              "         [0.9137255 , 0.9098039 , 0.8901961 ]],\n",
              "\n",
              "        [[0.8745098 , 0.87058824, 0.8509804 ],\n",
              "         [0.8392157 , 0.84705883, 0.8039216 ],\n",
              "         [0.8627451 , 0.8627451 , 0.8627451 ],\n",
              "         ...,\n",
              "         [0.8745098 , 0.85490197, 0.83137256],\n",
              "         [0.8901961 , 0.87058824, 0.84705883],\n",
              "         [0.8901961 , 0.8862745 , 0.8666667 ]]]], dtype=float32)"
            ]
          },
          "metadata": {
            "tags": []
          },
          "execution_count": 42
        }
      ]
    },
    {
      "cell_type": "code",
      "metadata": {
        "colab": {
          "base_uri": "https://localhost:8080/"
        },
        "id": "XIANWzHElb68",
        "outputId": "2b9a234c-448f-4470-f104-749a3223c237"
      },
      "source": [
        "X.shape"
      ],
      "execution_count": null,
      "outputs": [
        {
          "output_type": "execute_result",
          "data": {
            "text/plain": [
              "(3000, 28, 28, 3)"
            ]
          },
          "metadata": {
            "tags": []
          },
          "execution_count": 43
        }
      ]
    },
    {
      "cell_type": "code",
      "metadata": {
        "colab": {
          "base_uri": "https://localhost:8080/"
        },
        "id": "kOzYCBjCbnYc",
        "outputId": "0edb044c-2c71-4147-d134-61213a5a6349"
      },
      "source": [
        "y=df_training['Food/Non-Food'].values\n",
        "y = np.asarray(y).astype('int')\n",
        "y.shape"
      ],
      "execution_count": null,
      "outputs": [
        {
          "output_type": "execute_result",
          "data": {
            "text/plain": [
              "(3000,)"
            ]
          },
          "metadata": {
            "tags": []
          },
          "execution_count": 44
        }
      ]
    },
    {
      "cell_type": "code",
      "metadata": {
        "colab": {
          "base_uri": "https://localhost:8080/"
        },
        "id": "KAZVDw6Ffg3Y",
        "outputId": "b07bf695-2f12-4407-897f-955363b8b7a2"
      },
      "source": [
        "X_train, X_test, y_train, y_test = train_test_split(X, y, random_state=42, test_size=0.2)\n",
        "X_train.shape"
      ],
      "execution_count": null,
      "outputs": [
        {
          "output_type": "execute_result",
          "data": {
            "text/plain": [
              "(2400, 28, 28, 3)"
            ]
          },
          "metadata": {
            "tags": []
          },
          "execution_count": 45
        }
      ]
    },
    {
      "cell_type": "code",
      "metadata": {
        "colab": {
          "base_uri": "https://localhost:8080/"
        },
        "id": "wvSzRXghlu1U",
        "outputId": "c634ef6e-09ea-40a6-d4e3-01e1d948a953"
      },
      "source": [
        "y_train.shape"
      ],
      "execution_count": null,
      "outputs": [
        {
          "output_type": "execute_result",
          "data": {
            "text/plain": [
              "(2400,)"
            ]
          },
          "metadata": {
            "tags": []
          },
          "execution_count": 46
        }
      ]
    },
    {
      "cell_type": "markdown",
      "metadata": {
        "id": "n1wlaJ2tHE-R"
      },
      "source": [
        "#Sequential Model"
      ]
    },
    {
      "cell_type": "code",
      "metadata": {
        "id": "7wSRDwxwfPi2"
      },
      "source": [
        "model = Sequential()\n",
        "model.add(Conv2D(32, kernel_size=(3, 3),activation='relu',input_shape=(28,28,3)))\n",
        "model.add(Conv2D(64, (3, 3), activation='relu'))\n",
        "model.add(MaxPooling2D(pool_size=(2, 2)))\n",
        "model.add(Dropout(0.25))\n",
        "model.add(Flatten())\n",
        "model.add(Dense(128, activation='relu'))\n",
        "model.add(Dropout(0.5))\n",
        "model.add(Dense(1, activation='softmax'))"
      ],
      "execution_count": null,
      "outputs": []
    },
    {
      "cell_type": "code",
      "metadata": {
        "id": "xRzvtAaBfWNF"
      },
      "source": [
        "model.compile(loss='categorical_crossentropy',optimizer='Adam',metrics=['accuracy'])"
      ],
      "execution_count": null,
      "outputs": []
    },
    {
      "cell_type": "code",
      "metadata": {
        "colab": {
          "base_uri": "https://localhost:8080/"
        },
        "id": "_oVK7aSZp5eV",
        "outputId": "fe1ef43f-1449-451a-bfe6-446bb420ea65"
      },
      "source": [
        "print(X.shape)\n",
        "# X_train = X_train.reshape(X_train.shape[0],-1).T\n",
        "# X_test = X_test.reshape(X_test.shape[0],-1).T\n",
        "print(X_train,X_test)\n",
        "X_train.shape"
      ],
      "execution_count": null,
      "outputs": [
        {
          "output_type": "stream",
          "text": [
            "(2, 3)\n",
            "[[[[0.49019608 0.45882353 0.4509804 ]\n",
            "   [0.49803922 0.47058824 0.44705883]\n",
            "   [0.5058824  0.4862745  0.47058824]\n",
            "   ...\n",
            "   [0.5137255  0.5294118  0.4745098 ]\n",
            "   [0.5058824  0.5176471  0.4745098 ]\n",
            "   [0.5019608  0.50980395 0.45882353]]\n",
            "\n",
            "  [[0.5176471  0.49019608 0.46666667]\n",
            "   [0.53333336 0.5019608  0.49019608]\n",
            "   [0.6666667  0.6509804  0.64705884]\n",
            "   ...\n",
            "   [0.5529412  0.5647059  0.5294118 ]\n",
            "   [0.53333336 0.54509807 0.5019608 ]\n",
            "   [0.53333336 0.5411765  0.49019608]]\n",
            "\n",
            "  [[0.9882353  0.9647059  0.9647059 ]\n",
            "   [0.9882353  0.9764706  0.95686275]\n",
            "   [0.9647059  0.9647059  0.93333334]\n",
            "   ...\n",
            "   [0.9882353  0.9882353  0.98039216]\n",
            "   [0.9882353  0.9843137  0.9764706 ]\n",
            "   [0.69411767 0.7019608  0.64705884]]\n",
            "\n",
            "  ...\n",
            "\n",
            "  [[0.61960787 0.58431375 0.54901963]\n",
            "   [0.63529414 0.59607846 0.56078434]\n",
            "   [0.6313726  0.59607846 0.56078434]\n",
            "   ...\n",
            "   [0.627451   0.5921569  0.5647059 ]\n",
            "   [0.5137255  0.45490196 0.44313726]\n",
            "   [0.12156863 0.11764706 0.10196079]]\n",
            "\n",
            "  [[0.41960785 0.3764706  0.3529412 ]\n",
            "   [0.6901961  0.654902   0.627451  ]\n",
            "   [0.6156863  0.5803922  0.5529412 ]\n",
            "   ...\n",
            "   [0.13725491 0.11372549 0.12156863]\n",
            "   [0.1254902  0.10588235 0.09411765]\n",
            "   [0.0627451  0.05882353 0.07843138]]\n",
            "\n",
            "  [[0.12156863 0.09803922 0.10588235]\n",
            "   [0.22352941 0.16862746 0.13333334]\n",
            "   [0.24705882 0.2        0.13725491]\n",
            "   ...\n",
            "   [0.12156863 0.10196079 0.11764706]\n",
            "   [0.04313726 0.04705882 0.0627451 ]\n",
            "   [0.01568628 0.03529412 0.04705882]]]\n",
            "\n",
            "\n",
            " [[[0.43529412 0.2        0.05882353]\n",
            "   [0.3882353  0.1764706  0.07450981]\n",
            "   [0.26666668 0.14901961 0.14901961]\n",
            "   ...\n",
            "   [0.41960785 0.32156864 0.4392157 ]\n",
            "   [0.4392157  0.3372549  0.4509804 ]\n",
            "   [0.42745098 0.33333334 0.42745098]]\n",
            "\n",
            "  [[0.36078432 0.15686275 0.0627451 ]\n",
            "   [0.2901961  0.13725491 0.07843138]\n",
            "   [0.34117648 0.19215687 0.18039216]\n",
            "   ...\n",
            "   [0.43529412 0.34509805 0.45490196]\n",
            "   [0.45490196 0.35686275 0.4745098 ]\n",
            "   [0.45882353 0.39215687 0.5647059 ]]\n",
            "\n",
            "  [[0.44313726 0.26666668 0.25490198]\n",
            "   [0.45882353 0.27058825 0.25490198]\n",
            "   [0.43137255 0.2627451  0.23529412]\n",
            "   ...\n",
            "   [0.45490196 0.3647059  0.4745098 ]\n",
            "   [0.47843137 0.3882353  0.5019608 ]\n",
            "   [0.56078434 0.53333336 0.8       ]]\n",
            "\n",
            "  ...\n",
            "\n",
            "  [[0.6862745  0.56078434 0.6039216 ]\n",
            "   [0.6509804  0.5294118  0.54901963]\n",
            "   [0.50980395 0.4        0.39607844]\n",
            "   ...\n",
            "   [0.61960787 0.5294118  0.60784316]\n",
            "   [0.61960787 0.5411765  0.6392157 ]\n",
            "   [0.6784314  0.6117647  0.7529412 ]]\n",
            "\n",
            "  [[0.6901961  0.5647059  0.654902  ]\n",
            "   [0.6745098  0.5568628  0.5882353 ]\n",
            "   [0.654902   0.5372549  0.54509807]\n",
            "   ...\n",
            "   [0.627451   0.5647059  0.7058824 ]\n",
            "   [0.7058824  0.654902   0.8745098 ]\n",
            "   [0.7137255  0.654902   0.80784315]]\n",
            "\n",
            "  [[0.9019608  0.83137256 0.8784314 ]\n",
            "   [0.9764706  0.99607843 0.972549  ]\n",
            "   [1.         0.98039216 0.9882353 ]\n",
            "   ...\n",
            "   [0.72156864 0.68235296 0.91764706]\n",
            "   [0.8        0.78039217 0.8980392 ]\n",
            "   [0.34509805 0.25490198 0.31764707]]]\n",
            "\n",
            "\n",
            " [[[0.07450981 0.07450981 0.06666667]\n",
            "   [0.09019608 0.09019608 0.08235294]\n",
            "   [0.11372549 0.09803922 0.09411765]\n",
            "   ...\n",
            "   [0.         0.00784314 0.        ]\n",
            "   [0.         0.00784314 0.        ]\n",
            "   [0.         0.00784314 0.        ]]\n",
            "\n",
            "  [[0.07058824 0.07058824 0.0627451 ]\n",
            "   [0.09019608 0.08627451 0.07843138]\n",
            "   [0.10588235 0.10196079 0.09411765]\n",
            "   ...\n",
            "   [0.01568628 0.01568628 0.01568628]\n",
            "   [0.01176471 0.01176471 0.00392157]\n",
            "   [0.00784314 0.00784314 0.        ]]\n",
            "\n",
            "  [[0.10196079 0.10196079 0.10980392]\n",
            "   [0.11372549 0.10588235 0.11764706]\n",
            "   [0.0627451  0.0627451  0.05490196]\n",
            "   ...\n",
            "   [0.03921569 0.03921569 0.03921569]\n",
            "   [0.03529412 0.03529412 0.03529412]\n",
            "   [0.03137255 0.03137255 0.02352941]]\n",
            "\n",
            "  ...\n",
            "\n",
            "  [[0.99607843 1.         1.        ]\n",
            "   [1.         1.         1.        ]\n",
            "   [1.         1.         1.        ]\n",
            "   ...\n",
            "   [0.5137255  0.49411765 0.47843137]\n",
            "   [0.49411765 0.4627451  0.4509804 ]\n",
            "   [0.4509804  0.43137255 0.41568628]]\n",
            "\n",
            "  [[0.72156864 0.69803923 0.6509804 ]\n",
            "   [0.7647059  0.7254902  0.6784314 ]\n",
            "   [0.7647059  0.7411765  0.6862745 ]\n",
            "   ...\n",
            "   [0.5254902  0.5058824  0.48235294]\n",
            "   [0.50980395 0.49019608 0.46666667]\n",
            "   [0.5176471  0.4862745  0.4745098 ]]\n",
            "\n",
            "  [[0.69411767 0.6666667  0.59607846]\n",
            "   [0.73333335 0.69803923 0.6313726 ]\n",
            "   [0.78039217 0.74509805 0.6784314 ]\n",
            "   ...\n",
            "   [0.5803922  0.5686275  0.54901963]\n",
            "   [0.57254905 0.56078434 0.5411765 ]\n",
            "   [0.5058824  0.47058824 0.4509804 ]]]\n",
            "\n",
            "\n",
            " ...\n",
            "\n",
            "\n",
            " [[[0.9411765  0.61960787 0.03921569]\n",
            "   [0.9490196  0.63529414 0.01960784]\n",
            "   [0.92941177 0.6117647  0.01568628]\n",
            "   ...\n",
            "   [0.7137255  0.49803922 0.23529412]\n",
            "   [0.68235296 0.4627451  0.22352941]\n",
            "   [0.6666667  0.42745098 0.18039216]]\n",
            "\n",
            "  [[0.95686275 0.6627451  0.05882353]\n",
            "   [0.9607843  0.6627451  0.02352941]\n",
            "   [0.9529412  0.64705884 0.02745098]\n",
            "   ...\n",
            "   [0.6862745  0.47058824 0.21960784]\n",
            "   [0.6509804  0.43137255 0.2       ]\n",
            "   [0.61960787 0.38039216 0.16470589]]\n",
            "\n",
            "  [[0.93333334 0.6313726  0.02745098]\n",
            "   [0.91764706 0.62352943 0.01960784]\n",
            "   [0.9137255  0.59607846 0.        ]\n",
            "   ...\n",
            "   [0.5803922  0.36078432 0.13725491]\n",
            "   [0.54509807 0.3254902  0.1254902 ]\n",
            "   [0.49803922 0.24313726 0.01568628]]\n",
            "\n",
            "  ...\n",
            "\n",
            "  [[0.78039217 0.5764706  0.24705882]\n",
            "   [0.7490196  0.5254902  0.1764706 ]\n",
            "   [0.5294118  0.3529412  0.03529412]\n",
            "   ...\n",
            "   [0.7019608  0.47843137 0.20784314]\n",
            "   [0.7176471  0.5019608  0.1882353 ]\n",
            "   [0.68235296 0.47058824 0.22745098]]\n",
            "\n",
            "  [[0.8980392  0.7176471  0.37254903]\n",
            "   [0.7294118  0.50980395 0.18431373]\n",
            "   [0.72156864 0.5019608  0.1764706 ]\n",
            "   ...\n",
            "   [0.69411767 0.45882353 0.21568628]\n",
            "   [0.69411767 0.4627451  0.1882353 ]\n",
            "   [0.77254903 0.54901963 0.24705882]]\n",
            "\n",
            "  [[0.9843137  0.8392157  0.57254905]\n",
            "   [0.77254903 0.5529412  0.25882354]\n",
            "   [0.75686276 0.53333336 0.21568628]\n",
            "   ...\n",
            "   [0.6666667  0.45882353 0.24705882]\n",
            "   [0.74509805 0.49411765 0.2509804 ]\n",
            "   [0.76862746 0.5176471  0.23921569]]]\n",
            "\n",
            "\n",
            " [[[0.28235295 0.13725491 0.0627451 ]\n",
            "   [0.3019608  0.15294118 0.07843138]\n",
            "   [0.37254903 0.21568628 0.11372549]\n",
            "   ...\n",
            "   [1.         1.         1.        ]\n",
            "   [0.99215686 0.99607843 0.93333334]\n",
            "   [0.99215686 0.99607843 0.9647059 ]]\n",
            "\n",
            "  [[0.28235295 0.1764706  0.14117648]\n",
            "   [0.30588236 0.18039216 0.12941177]\n",
            "   [0.3882353  0.22745098 0.11764706]\n",
            "   ...\n",
            "   [0.99607843 0.98039216 0.8745098 ]\n",
            "   [1.         0.99607843 1.        ]\n",
            "   [1.         1.         1.        ]]\n",
            "\n",
            "  [[0.30980393 0.2        0.14509805]\n",
            "   [0.28627452 0.14509805 0.08235294]\n",
            "   [0.27450982 0.16078432 0.09019608]\n",
            "   ...\n",
            "   [1.         0.95686275 0.83137256]\n",
            "   [0.6431373  0.5372549  0.42352942]\n",
            "   [0.7607843  0.654902   0.47058824]]\n",
            "\n",
            "  ...\n",
            "\n",
            "  [[0.07843138 0.09411765 0.10588235]\n",
            "   [0.07843138 0.08235294 0.09019608]\n",
            "   [0.07450981 0.09019608 0.09411765]\n",
            "   ...\n",
            "   [0.42352942 0.42745098 0.37254903]\n",
            "   [0.3764706  0.3529412  0.2901961 ]\n",
            "   [0.3019608  0.23529412 0.15686275]]\n",
            "\n",
            "  [[0.07843138 0.09411765 0.09803922]\n",
            "   [0.08627451 0.10196079 0.10588235]\n",
            "   [0.08235294 0.08627451 0.09411765]\n",
            "   ...\n",
            "   [0.49411765 0.5058824  0.47058824]\n",
            "   [0.41568628 0.40392157 0.36862746]\n",
            "   [0.23529412 0.2        0.14117648]]\n",
            "\n",
            "  [[0.05098039 0.06666667 0.07058824]\n",
            "   [0.08235294 0.08627451 0.09411765]\n",
            "   [0.07450981 0.09019608 0.09411765]\n",
            "   ...\n",
            "   [0.5019608  0.54901963 0.53333336]\n",
            "   [0.47058824 0.4745098  0.44313726]\n",
            "   [0.38039216 0.3647059  0.31764707]]]\n",
            "\n",
            "\n",
            " [[[0.26666668 0.09411765 0.08235294]\n",
            "   [0.29803923 0.10980392 0.09411765]\n",
            "   [0.31764707 0.15294118 0.10588235]\n",
            "   ...\n",
            "   [0.05882353 0.03529412 0.04313726]\n",
            "   [0.09411765 0.07058824 0.08627451]\n",
            "   [0.06666667 0.04313726 0.05882353]]\n",
            "\n",
            "  [[0.25490198 0.10980392 0.08627451]\n",
            "   [0.34117648 0.19215687 0.15686275]\n",
            "   [0.26666668 0.10588235 0.08235294]\n",
            "   ...\n",
            "   [0.5764706  0.5294118  0.4745098 ]\n",
            "   [0.654902   0.61960787 0.56078434]\n",
            "   [0.72156864 0.69803923 0.6431373 ]]\n",
            "\n",
            "  [[0.28235295 0.16470589 0.13333334]\n",
            "   [0.25490198 0.10980392 0.07450981]\n",
            "   [0.24313726 0.08235294 0.06666667]\n",
            "   ...\n",
            "   [0.2627451  0.21568628 0.22352941]\n",
            "   [0.9019608  0.87058824 0.79607844]\n",
            "   [0.90588236 0.8627451  0.7764706 ]]\n",
            "\n",
            "  ...\n",
            "\n",
            "  [[0.91764706 0.72156864 0.48235294]\n",
            "   [0.96862745 0.78431374 0.5647059 ]\n",
            "   [0.95686275 0.74509805 0.50980395]\n",
            "   ...\n",
            "   [0.7490196  0.69411767 0.6431373 ]\n",
            "   [0.8627451  0.7882353  0.67058825]\n",
            "   [0.8627451  0.8156863  0.72156864]]\n",
            "\n",
            "  [[0.93333334 0.7490196  0.5294118 ]\n",
            "   [0.92156863 0.7058824  0.4862745 ]\n",
            "   [0.8862745  0.63529414 0.39215687]\n",
            "   ...\n",
            "   [0.627451   0.54509807 0.4627451 ]\n",
            "   [0.8352941  0.77254903 0.6745098 ]\n",
            "   [0.8745098  0.8235294  0.75686276]]\n",
            "\n",
            "  [[0.8039216  0.52156866 0.2901961 ]\n",
            "   [0.78039217 0.5019608  0.2509804 ]\n",
            "   [0.74509805 0.4392157  0.19607843]\n",
            "   ...\n",
            "   [0.79607844 0.7254902  0.64705884]\n",
            "   [0.96862745 0.94509804 0.84313726]\n",
            "   [0.99215686 0.99607843 0.93333334]]]] [[[[0.39607844 0.41568628 0.43137255]\n",
            "   [0.34901962 0.36078432 0.3882353 ]\n",
            "   [0.9019608  0.9137255  0.9411765 ]\n",
            "   ...\n",
            "   [0.84313726 0.8666667  0.9137255 ]\n",
            "   [0.8392157  0.8666667  0.90588236]\n",
            "   [0.8235294  0.84705883 0.89411765]]\n",
            "\n",
            "  [[0.3019608  0.32156864 0.34509805]\n",
            "   [0.36862746 0.38039216 0.4       ]\n",
            "   [0.32941177 0.34117648 0.36862746]\n",
            "   ...\n",
            "   [0.8666667  0.88235295 0.91764706]\n",
            "   [0.8784314  0.89411765 0.92941177]\n",
            "   [0.84313726 0.85882354 0.9019608 ]]\n",
            "\n",
            "  [[0.2784314  0.29803923 0.3137255 ]\n",
            "   [0.2901961  0.30980393 0.3254902 ]\n",
            "   [0.3019608  0.3137255  0.34117648]\n",
            "   ...\n",
            "   [0.4745098  0.52156866 0.5686275 ]\n",
            "   [0.54509807 0.5921569  0.6392157 ]\n",
            "   [0.54509807 0.58431375 0.62352943]]\n",
            "\n",
            "  ...\n",
            "\n",
            "  [[0.5294118  0.5372549  0.5254902 ]\n",
            "   [0.5764706  0.57254905 0.5568628 ]\n",
            "   [0.2627451  0.19215687 0.09803922]\n",
            "   ...\n",
            "   [0.6117647  0.5647059  0.47843137]\n",
            "   [0.5764706  0.5372549  0.49019608]\n",
            "   [0.58431375 0.5372549  0.4745098 ]]\n",
            "\n",
            "  [[0.4627451  0.46666667 0.4745098 ]\n",
            "   [0.4862745  0.4862745  0.4862745 ]\n",
            "   [0.5058824  0.5058824  0.5058824 ]\n",
            "   ...\n",
            "   [0.44705883 0.4117647  0.38431373]\n",
            "   [0.45490196 0.42745098 0.40392157]\n",
            "   [0.54901963 0.52156866 0.49803922]]\n",
            "\n",
            "  [[0.7058824  0.6627451  0.6392157 ]\n",
            "   [0.5372549  0.50980395 0.4862745 ]\n",
            "   [0.5529412  0.53333336 0.52156866]\n",
            "   ...\n",
            "   [0.17254902 0.14509805 0.12156863]\n",
            "   [0.10196079 0.07058824 0.0627451 ]\n",
            "   [0.44705883 0.4117647  0.3764706 ]]]\n",
            "\n",
            "\n",
            " [[[0.09411765 0.04705882 0.05490196]\n",
            "   [0.07058824 0.02745098 0.04313726]\n",
            "   [0.07058824 0.02745098 0.05098039]\n",
            "   ...\n",
            "   [0.14509805 0.06666667 0.0627451 ]\n",
            "   [0.11764706 0.04313726 0.05098039]\n",
            "   [0.11764706 0.04705882 0.04705882]]\n",
            "\n",
            "  [[0.10588235 0.07450981 0.0627451 ]\n",
            "   [0.14509805 0.09803922 0.09803922]\n",
            "   [0.07843138 0.05882353 0.04705882]\n",
            "   ...\n",
            "   [0.1764706  0.08235294 0.03529412]\n",
            "   [0.11372549 0.03529412 0.        ]\n",
            "   [0.10588235 0.03921569 0.01176471]]\n",
            "\n",
            "  [[0.07450981 0.02745098 0.02745098]\n",
            "   [0.10588235 0.05490196 0.03137255]\n",
            "   [0.7294118  0.57254905 0.43137255]\n",
            "   ...\n",
            "   [0.6392157  0.5019608  0.3372549 ]\n",
            "   [0.627451   0.4862745  0.3529412 ]\n",
            "   [0.60784316 0.46666667 0.34117648]]\n",
            "\n",
            "  ...\n",
            "\n",
            "  [[0.9843137  0.8156863  0.6156863 ]\n",
            "   [0.9882353  0.80784315 0.6039216 ]\n",
            "   [0.91764706 0.6313726  0.45490196]\n",
            "   ...\n",
            "   [0.9490196  0.7529412  0.54509807]\n",
            "   [0.7882353  0.5921569  0.4       ]\n",
            "   [0.92941177 0.73333335 0.5411765 ]]\n",
            "\n",
            "  [[0.9882353  0.81960785 0.6039216 ]\n",
            "   [0.9882353  0.81960785 0.61960787]\n",
            "   [0.99215686 0.827451   0.6       ]\n",
            "   ...\n",
            "   [0.94509804 0.75686276 0.5647059 ]\n",
            "   [0.90588236 0.72156864 0.50980395]\n",
            "   [0.8862745  0.68235296 0.4862745 ]]\n",
            "\n",
            "  [[0.9882353  0.8117647  0.59607846]\n",
            "   [0.98039216 0.8156863  0.5803922 ]\n",
            "   [0.98039216 0.78431374 0.5764706 ]\n",
            "   ...\n",
            "   [0.92941177 0.7411765  0.54901963]\n",
            "   [0.92156863 0.7372549  0.5176471 ]\n",
            "   [0.9411765  0.75686276 0.5529412 ]]]\n",
            "\n",
            "\n",
            " [[[0.92941177 0.8980392  0.84705883]\n",
            "   [0.9372549  0.9137255  0.85882354]\n",
            "   [0.9411765  0.9137255  0.8745098 ]\n",
            "   ...\n",
            "   [0.9843137  0.96862745 0.9254902 ]\n",
            "   [0.9843137  0.96862745 0.9254902 ]\n",
            "   [0.99215686 0.9764706  0.93333334]]\n",
            "\n",
            "  [[0.92941177 0.8980392  0.84705883]\n",
            "   [0.93333334 0.9098039  0.85490197]\n",
            "   [0.9372549  0.9137255  0.8666667 ]\n",
            "   ...\n",
            "   [0.99607843 0.98039216 0.94509804]\n",
            "   [1.         0.9843137  0.9490196 ]\n",
            "   [0.99607843 0.98039216 0.94509804]]\n",
            "\n",
            "  [[0.9254902  0.9019608  0.84705883]\n",
            "   [0.94509804 0.92156863 0.8745098 ]\n",
            "   [0.93333334 0.9098039  0.8627451 ]\n",
            "   ...\n",
            "   [0.99607843 0.98039216 0.94509804]\n",
            "   [0.99215686 0.9764706  0.9411765 ]\n",
            "   [0.99215686 0.9764706  0.9411765 ]]\n",
            "\n",
            "  ...\n",
            "\n",
            "  [[0.6784314  0.4862745  0.36078432]\n",
            "   [0.80784315 0.74509805 0.64705884]\n",
            "   [0.29803923 0.2509804  0.16470589]\n",
            "   ...\n",
            "   [0.50980395 0.7372549  0.7411765 ]\n",
            "   [0.8745098  0.89411765 0.87058824]\n",
            "   [0.9254902  0.92156863 0.90588236]]\n",
            "\n",
            "  [[0.65882355 0.46666667 0.3372549 ]\n",
            "   [0.8156863  0.75686276 0.68235296]\n",
            "   [0.32156864 0.2784314  0.2       ]\n",
            "   ...\n",
            "   [0.29803923 0.34117648 0.35686275]\n",
            "   [0.92941177 0.9137255  0.9019608 ]\n",
            "   [0.91764706 0.9137255  0.89411765]]\n",
            "\n",
            "  [[0.67058825 0.47058824 0.34901962]\n",
            "   [0.79607844 0.7411765  0.6392157 ]\n",
            "   [0.28627452 0.24313726 0.15686275]\n",
            "   ...\n",
            "   [0.3372549  0.38039216 0.3882353 ]\n",
            "   [0.9098039  0.8980392  0.87058824]\n",
            "   [0.92156863 0.91764706 0.8980392 ]]]\n",
            "\n",
            "\n",
            " ...\n",
            "\n",
            "\n",
            " [[[0.9882353  0.972549   0.9607843 ]\n",
            "   [0.9882353  0.972549   0.9607843 ]\n",
            "   [0.9882353  0.972549   0.9607843 ]\n",
            "   ...\n",
            "   [0.9411765  0.9098039  0.8980392 ]\n",
            "   [0.9098039  0.8666667  0.84313726]\n",
            "   [0.8666667  0.8117647  0.7764706 ]]\n",
            "\n",
            "  [[0.99215686 0.9764706  0.9647059 ]\n",
            "   [0.99215686 0.9764706  0.9647059 ]\n",
            "   [0.99607843 0.98039216 0.96862745]\n",
            "   ...\n",
            "   [0.9529412  0.9137255  0.8666667 ]\n",
            "   [0.9764706  0.9490196  0.9098039 ]\n",
            "   [0.95686275 0.9372549  0.9254902 ]]\n",
            "\n",
            "  [[0.99215686 0.9882353  0.972549  ]\n",
            "   [0.99215686 0.9882353  0.96862745]\n",
            "   [0.99215686 0.9882353  0.96862745]\n",
            "   ...\n",
            "   [0.9647059  0.92941177 0.87058824]\n",
            "   [0.9647059  0.92941177 0.8627451 ]\n",
            "   [0.95686275 0.92156863 0.8627451 ]]\n",
            "\n",
            "  ...\n",
            "\n",
            "  [[0.9647059  0.9019608  0.8117647 ]\n",
            "   [0.9529412  0.7882353  0.3882353 ]\n",
            "   [0.9372549  0.8        0.44705883]\n",
            "   ...\n",
            "   [0.90588236 0.8392157  0.76862746]\n",
            "   [0.92941177 0.8784314  0.8117647 ]\n",
            "   [0.9607843  0.92941177 0.8862745 ]]\n",
            "\n",
            "  [[0.9607843  0.9098039  0.84313726]\n",
            "   [0.9607843  0.9019608  0.81960785]\n",
            "   [0.9529412  0.8156863  0.49411765]\n",
            "   ...\n",
            "   [0.93333334 0.8784314  0.827451  ]\n",
            "   [0.9607843  0.9254902  0.8901961 ]\n",
            "   [0.96862745 0.93333334 0.8980392 ]]\n",
            "\n",
            "  [[0.9607843  0.9098039  0.84705883]\n",
            "   [0.9607843  0.9098039  0.84313726]\n",
            "   [0.95686275 0.90588236 0.83137256]\n",
            "   ...\n",
            "   [0.9647059  0.93333334 0.88235295]\n",
            "   [0.9647059  0.92941177 0.89411765]\n",
            "   [0.972549   0.9372549  0.9019608 ]]]\n",
            "\n",
            "\n",
            " [[[0.05098039 0.09803922 0.15294118]\n",
            "   [0.04705882 0.1254902  0.21960784]\n",
            "   [0.08627451 0.16470589 0.2627451 ]\n",
            "   ...\n",
            "   [0.05882353 0.05882353 0.19215687]\n",
            "   [0.11764706 0.07843138 0.41568628]\n",
            "   [0.10980392 0.1254902  0.4117647 ]]\n",
            "\n",
            "  [[0.01176471 0.03529412 0.09019608]\n",
            "   [0.01568628 0.1254902  0.21960784]\n",
            "   [0.09803922 0.09803922 0.10588235]\n",
            "   ...\n",
            "   [0.11372549 0.10588235 0.1882353 ]\n",
            "   [0.07058824 0.0627451  0.25490198]\n",
            "   [0.10588235 0.12156863 0.4       ]]\n",
            "\n",
            "  [[0.03921569 0.05098039 0.08627451]\n",
            "   [0.07058824 0.08235294 0.10196079]\n",
            "   [0.15686275 0.16470589 0.16078432]\n",
            "   ...\n",
            "   [0.1254902  0.14117648 0.23921569]\n",
            "   [0.08235294 0.09411765 0.25490198]\n",
            "   [0.21176471 0.21176471 0.41568628]]\n",
            "\n",
            "  ...\n",
            "\n",
            "  [[0.24705882 0.37254903 0.1764706 ]\n",
            "   [0.14117648 0.22352941 0.07058824]\n",
            "   [0.28235295 0.32941177 0.18039216]\n",
            "   ...\n",
            "   [0.04705882 0.07843138 0.03529412]\n",
            "   [0.09019608 0.11372549 0.06666667]\n",
            "   [0.39607844 0.3529412  0.38431373]]\n",
            "\n",
            "  [[0.21176471 0.31764707 0.14117648]\n",
            "   [0.09411765 0.19215687 0.03529412]\n",
            "   [0.4392157  0.58431375 0.3137255 ]\n",
            "   ...\n",
            "   [0.05490196 0.09803922 0.04313726]\n",
            "   [0.4        0.2509804  0.34117648]\n",
            "   [0.5921569  0.36078432 0.5411765 ]]\n",
            "\n",
            "  [[0.16470589 0.24313726 0.10588235]\n",
            "   [0.18431373 0.3137255  0.09803922]\n",
            "   [0.28627452 0.39215687 0.18431373]\n",
            "   ...\n",
            "   [0.30588236 0.16862746 0.25490198]\n",
            "   [0.2901961  0.2        0.27058825]\n",
            "   [0.16470589 0.13725491 0.16470589]]]\n",
            "\n",
            "\n",
            " [[[0.10980392 0.07450981 0.04705882]\n",
            "   [0.10588235 0.07843138 0.05490196]\n",
            "   [0.1254902  0.07058824 0.05882353]\n",
            "   ...\n",
            "   [0.14117648 0.07058824 0.02352941]\n",
            "   [0.20784314 0.08627451 0.00784314]\n",
            "   [0.13333334 0.07843138 0.03529412]]\n",
            "\n",
            "  [[0.10588235 0.0627451  0.03921569]\n",
            "   [0.10980392 0.07450981 0.04705882]\n",
            "   [0.11764706 0.07450981 0.05098039]\n",
            "   ...\n",
            "   [0.21176471 0.17254902 0.13333334]\n",
            "   [0.10588235 0.06666667 0.03137255]\n",
            "   [0.13333334 0.08235294 0.04705882]]\n",
            "\n",
            "  [[0.10196079 0.05882353 0.03529412]\n",
            "   [0.11764706 0.07450981 0.05098039]\n",
            "   [0.16078432 0.12941177 0.11764706]\n",
            "   ...\n",
            "   [0.09019608 0.05490196 0.02745098]\n",
            "   [0.07843138 0.05098039 0.02745098]\n",
            "   [0.13333334 0.07843138 0.03529412]]\n",
            "\n",
            "  ...\n",
            "\n",
            "  [[0.89411765 0.13333334 0.16862746]\n",
            "   [0.8862745  0.7411765  0.8117647 ]\n",
            "   [0.84705883 0.6862745  0.7411765 ]\n",
            "   ...\n",
            "   [0.92941177 0.94509804 0.9490196 ]\n",
            "   [0.9607843  0.9647059  0.972549  ]\n",
            "   [0.6392157  0.32941177 0.34901962]]\n",
            "\n",
            "  [[0.9372549  0.8901961  0.9372549 ]\n",
            "   [0.84313726 0.6627451  0.7058824 ]\n",
            "   [0.91764706 0.13333334 0.18431373]\n",
            "   ...\n",
            "   [0.972549   0.9764706  0.9843137 ]\n",
            "   [0.49803922 0.32156864 0.34901962]\n",
            "   [0.85490197 0.54901963 0.54901963]]\n",
            "\n",
            "  [[0.7647059  0.5764706  0.6313726 ]\n",
            "   [0.8862745  0.58431375 0.62352943]\n",
            "   [0.9490196  0.9372549  0.98039216]\n",
            "   ...\n",
            "   [0.60784316 0.5137255  0.5137255 ]\n",
            "   [0.8392157  0.75686276 0.78431374]\n",
            "   [0.83137256 0.25882354 0.2627451 ]]]]\n"
          ],
          "name": "stdout"
        },
        {
          "output_type": "execute_result",
          "data": {
            "text/plain": [
              "(2400, 28, 28, 3)"
            ]
          },
          "metadata": {
            "tags": []
          },
          "execution_count": 77
        }
      ]
    },
    {
      "cell_type": "code",
      "metadata": {
        "colab": {
          "base_uri": "https://localhost:8080/"
        },
        "id": "_ON4RundfZqM",
        "outputId": "9e5bfa36-e142-413e-b1ef-31e04690b524"
      },
      "source": [
        "model.fit(X_train, y_train, epochs=10, validation_data=(X_test, y_test))"
      ],
      "execution_count": null,
      "outputs": [
        {
          "output_type": "stream",
          "text": [
            "Epoch 1/10\n",
            "75/75 [==============================] - 9s 103ms/step - loss: 0.0000e+00 - accuracy: 0.4849 - val_loss: 0.0000e+00 - val_accuracy: 0.5217\n",
            "Epoch 2/10\n",
            "75/75 [==============================] - 7s 94ms/step - loss: 0.0000e+00 - accuracy: 0.5013 - val_loss: 0.0000e+00 - val_accuracy: 0.5217\n",
            "Epoch 3/10\n",
            "75/75 [==============================] - 7s 94ms/step - loss: 0.0000e+00 - accuracy: 0.4824 - val_loss: 0.0000e+00 - val_accuracy: 0.5217\n",
            "Epoch 4/10\n",
            "75/75 [==============================] - 7s 95ms/step - loss: 0.0000e+00 - accuracy: 0.5063 - val_loss: 0.0000e+00 - val_accuracy: 0.5217\n",
            "Epoch 5/10\n",
            "75/75 [==============================] - 7s 94ms/step - loss: 0.0000e+00 - accuracy: 0.4843 - val_loss: 0.0000e+00 - val_accuracy: 0.5217\n",
            "Epoch 6/10\n",
            "75/75 [==============================] - 7s 95ms/step - loss: 0.0000e+00 - accuracy: 0.5004 - val_loss: 0.0000e+00 - val_accuracy: 0.5217\n",
            "Epoch 7/10\n",
            "75/75 [==============================] - 7s 93ms/step - loss: 0.0000e+00 - accuracy: 0.4984 - val_loss: 0.0000e+00 - val_accuracy: 0.5217\n",
            "Epoch 8/10\n",
            "75/75 [==============================] - 7s 95ms/step - loss: 0.0000e+00 - accuracy: 0.4954 - val_loss: 0.0000e+00 - val_accuracy: 0.5217\n",
            "Epoch 9/10\n",
            "75/75 [==============================] - 7s 93ms/step - loss: 0.0000e+00 - accuracy: 0.4916 - val_loss: 0.0000e+00 - val_accuracy: 0.5217\n",
            "Epoch 10/10\n",
            "75/75 [==============================] - 7s 94ms/step - loss: 0.0000e+00 - accuracy: 0.5037 - val_loss: 0.0000e+00 - val_accuracy: 0.5217\n"
          ],
          "name": "stdout"
        },
        {
          "output_type": "execute_result",
          "data": {
            "text/plain": [
              "<keras.callbacks.History at 0x7fe901d4bc50>"
            ]
          },
          "metadata": {
            "tags": []
          },
          "execution_count": 78
        }
      ]
    },
    {
      "cell_type": "code",
      "metadata": {
        "id": "eFq1W-BdGXQC"
      },
      "source": [
        "# https://www.datasciencecentral.com/profiles/blogs/how-to-choose-a-machine-learning-model-some-guidelines. delete after reading "
      ],
      "execution_count": null,
      "outputs": []
    },
    {
      "cell_type": "markdown",
      "metadata": {
        "id": "N0swOIqVHKsy"
      },
      "source": [
        "#Logistic Regression"
      ]
    },
    {
      "cell_type": "code",
      "metadata": {
        "id": "oRPq8hDAHNLW"
      },
      "source": [
        "import numpy as np\n",
        "import matplotlib.pyplot as plt\n",
        "import h5py\n",
        "import scipy\n",
        "from PIL import Image\n",
        "from scipy import ndimage\n",
        "%matplotlib inline"
      ],
      "execution_count": null,
      "outputs": []
    },
    {
      "cell_type": "code",
      "metadata": {
        "colab": {
          "base_uri": "https://localhost:8080/"
        },
        "id": "NGfSZK9TMoDN",
        "outputId": "c3365d69-82e8-46d8-9b47-fdea2f2b5e35"
      },
      "source": [
        "train_set_x = X_train.reshape(X_train.shape[0],-1).T\n",
        "test_set_x = X_test.reshape(X_test.shape[0],-1).T\n",
        "print(train_set_x.shape)\n",
        "print(test_set_x.shape)\n",
        "train_set_x"
      ],
      "execution_count": null,
      "outputs": [
        {
          "output_type": "stream",
          "text": [
            "(2352, 2400)\n",
            "(2352, 600)\n"
          ],
          "name": "stdout"
        },
        {
          "output_type": "execute_result",
          "data": {
            "text/plain": [
              "array([[0.49019608, 0.43529412, 0.07450981, ..., 0.9411765 , 0.28235295,\n",
              "        0.26666668],\n",
              "       [0.45882353, 0.2       , 0.07450981, ..., 0.61960787, 0.13725491,\n",
              "        0.09411765],\n",
              "       [0.4509804 , 0.05882353, 0.06666667, ..., 0.03921569, 0.0627451 ,\n",
              "        0.08235294],\n",
              "       ...,\n",
              "       [0.01568628, 0.34509805, 0.5058824 , ..., 0.76862746, 0.38039216,\n",
              "        0.99215686],\n",
              "       [0.03529412, 0.25490198, 0.47058824, ..., 0.5176471 , 0.3647059 ,\n",
              "        0.99607843],\n",
              "       [0.04705882, 0.31764707, 0.4509804 , ..., 0.23921569, 0.31764707,\n",
              "        0.93333334]], dtype=float32)"
            ]
          },
          "metadata": {
            "tags": []
          },
          "execution_count": 47
        }
      ]
    },
    {
      "cell_type": "code",
      "metadata": {
        "id": "O1-UPxlCuPBi"
      },
      "source": [
        "def sigmoid(z):\n",
        "    s = 1/(1+np.exp(-z))\n",
        "    return s"
      ],
      "execution_count": null,
      "outputs": []
    },
    {
      "cell_type": "code",
      "metadata": {
        "colab": {
          "base_uri": "https://localhost:8080/"
        },
        "id": "YMhIChfcu5Ab",
        "outputId": "56f9b9c7-ac54-432d-e45a-123551496351"
      },
      "source": [
        "print (\"sigmoid([0, 2]) = \" + str(sigmoid(np.array([0,2]))))"
      ],
      "execution_count": null,
      "outputs": [
        {
          "output_type": "stream",
          "text": [
            "sigmoid([0, 2]) = [0.5        0.88079708]\n"
          ],
          "name": "stdout"
        }
      ]
    },
    {
      "cell_type": "code",
      "metadata": {
        "id": "8ixnLNEou5o4"
      },
      "source": [
        "def initialize_with_zeros(dim):\n",
        "    w = np.zeros((dim,1))\n",
        "    b = 0\n",
        "    assert(w.shape == (dim, 1))\n",
        "    assert(isinstance(b, float) or isinstance(b, int))\n",
        "    \n",
        "    return w, b"
      ],
      "execution_count": null,
      "outputs": []
    },
    {
      "cell_type": "code",
      "metadata": {
        "colab": {
          "base_uri": "https://localhost:8080/"
        },
        "id": "8J8wvryxvDnI",
        "outputId": "4d163fd7-f616-40fd-efcd-b2f6b5cf6ce0"
      },
      "source": [
        "dim = 2\n",
        "w, b = initialize_with_zeros(dim)\n",
        "print (\"w = \" + str(w))\n",
        "print (\"b = \" + str(b))"
      ],
      "execution_count": null,
      "outputs": [
        {
          "output_type": "stream",
          "text": [
            "w = [[0.]\n",
            " [0.]]\n",
            "b = 0\n"
          ],
          "name": "stdout"
        }
      ]
    },
    {
      "cell_type": "code",
      "metadata": {
        "id": "rwvNykRwvG55"
      },
      "source": [
        "\n",
        "def propagate(w, b, X, Y):\n",
        "\n",
        "    m = X.shape[1]\n",
        "\n",
        "    A = sigmoid(np.dot(w.T,X)+b)                                    # compute activation\n",
        "    cost = -1./m*np.sum(Y*np.log(A)+(1-Y)*np.log(1-A))                               # compute cost\n",
        "\n",
        "    dw = 1/m*np.dot(X,(A-Y).T)\n",
        "    db = 1/m*(np.sum(A-Y))\n",
        "\n",
        "    assert(dw.shape == w.shape)\n",
        "    assert(db.dtype == float)\n",
        "    cost = np.squeeze(cost)\n",
        "    assert(cost.shape == ())\n",
        "    \n",
        "    grads = {\"dw\": dw,\n",
        "             \"db\": db}\n",
        "    \n",
        "    return grads, cost"
      ],
      "execution_count": null,
      "outputs": []
    },
    {
      "cell_type": "code",
      "metadata": {
        "colab": {
          "base_uri": "https://localhost:8080/"
        },
        "id": "s9uAnz1xvS4F",
        "outputId": "fd13cc39-89b0-4acc-a969-fe3577eb2212"
      },
      "source": [
        "w, b, X, Y = np.array([[1.],[2.]]), 2., np.array([[1.,2.,-1.],[3.,4.,-3.2]]), np.array([[1,0,1]])\n",
        "grads, cost = propagate(w, b, X, Y)\n",
        "print (\"dw = \" + str(grads[\"dw\"]))\n",
        "print (\"db = \" + str(grads[\"db\"]))\n",
        "print (\"cost = \" + str(cost))"
      ],
      "execution_count": null,
      "outputs": [
        {
          "output_type": "stream",
          "text": [
            "dw = [[0.99845601]\n",
            " [2.39507239]]\n",
            "db = 0.001455578136784208\n",
            "cost = 5.801545319394553\n"
          ],
          "name": "stdout"
        }
      ]
    },
    {
      "cell_type": "code",
      "metadata": {
        "id": "Bt0FQjimvXVU"
      },
      "source": [
        "\n",
        "def optimize(w, b, X, Y, num_iterations, learning_rate, print_cost = False):\n",
        "\n",
        "    costs = []\n",
        "    \n",
        "    for i in range(num_iterations):\n",
        "        \n",
        " \n",
        "        grads, cost = propagate(w, b, X, Y)\n",
        "\n",
        "\n",
        "        dw = grads[\"dw\"]\n",
        "        db = grads[\"db\"]\n",
        "\n",
        "        w = w-(learning_rate*dw)\n",
        "        b = b-(learning_rate*db)\n",
        "\n",
        "        if i % 100 == 0:\n",
        "            costs.append(cost)\n",
        "\n",
        "        if print_cost and i % 100 == 0:\n",
        "            print (\"Cost after iteration %i: %f\" %(i, cost))\n",
        "    \n",
        "    params = {\"w\": w,\n",
        "              \"b\": b}\n",
        "    \n",
        "    grads = {\"dw\": dw,\n",
        "             \"db\": db}\n",
        "    \n",
        "    return params, grads, costs"
      ],
      "execution_count": null,
      "outputs": []
    },
    {
      "cell_type": "code",
      "metadata": {
        "colab": {
          "base_uri": "https://localhost:8080/"
        },
        "id": "j3elrdoDvjLc",
        "outputId": "441dd4c0-fd43-4bf6-bf0b-94f3fe5c32d6"
      },
      "source": [
        "params, grads, costs = optimize(w, b, X, Y, num_iterations= 100, learning_rate = 0.009, print_cost = False)\n",
        "\n",
        "print (\"w = \" + str(params[\"w\"]))\n",
        "print (\"b = \" + str(params[\"b\"]))\n",
        "print (\"dw = \" + str(grads[\"dw\"]))\n",
        "print (\"db = \" + str(grads[\"db\"]))"
      ],
      "execution_count": null,
      "outputs": [
        {
          "output_type": "stream",
          "text": [
            "w = [[0.19033591]\n",
            " [0.12259159]]\n",
            "b = 1.9253598300845747\n",
            "dw = [[0.67752042]\n",
            " [1.41625495]]\n",
            "db = 0.21919450454067652\n"
          ],
          "name": "stdout"
        }
      ]
    },
    {
      "cell_type": "code",
      "metadata": {
        "id": "ihnprgnyvmIK"
      },
      "source": [
        "# GRADED FUNCTION: predict\n",
        "\n",
        "def predict(w, b, X):\n",
        "\n",
        "    \n",
        "    m = X.shape[1]\n",
        "    Y_prediction = np.zeros((1,m))\n",
        "    w = w.reshape(X.shape[0], 1)\n",
        "\n",
        "    A = sigmoid(np.dot(w.T,X)+b)\n",
        "\n",
        "    \n",
        "    for i in range(A.shape[1]):\n",
        "\n",
        "        if(A[0,i]<0.5):\n",
        "            Y_prediction[0,i] = 0\n",
        "        else:\n",
        "            Y_prediction[0,i] = 1\n",
        "\n",
        "    \n",
        "    assert(Y_prediction.shape == (1, m))\n",
        "    \n",
        "    return Y_prediction"
      ],
      "execution_count": null,
      "outputs": []
    },
    {
      "cell_type": "code",
      "metadata": {
        "colab": {
          "base_uri": "https://localhost:8080/"
        },
        "id": "Nk6igxh1vwlr",
        "outputId": "b21c9cd0-4b9c-4f9a-b620-ab515e3c5da4"
      },
      "source": [
        "w = np.array([[0.1124579],[0.23106775]])\n",
        "b = -0.3\n",
        "X = np.array([[1.,-1.1,-3.2],[1.2,2.,0.1]])\n",
        "print (\"predictions = \" + str(predict(w, b, X)))"
      ],
      "execution_count": null,
      "outputs": [
        {
          "output_type": "stream",
          "text": [
            "predictions = [[1. 1. 0.]]\n"
          ],
          "name": "stdout"
        }
      ]
    },
    {
      "cell_type": "code",
      "metadata": {
        "id": "-wy0gDrsv3Op"
      },
      "source": [
        "# GRADED FUNCTION: model\n",
        "\n",
        "def model(X_train, Y_train, X_test, Y_test, num_iterations = 2000, learning_rate = 0.5, print_cost = False):\n",
        "\n",
        "    \n",
        "    # initialize parameters with zeros (≈ 1 line of code)\n",
        "    w, b = initialize_with_zeros(X_train.shape[0])\n",
        "\n",
        "    # Gradient descent (≈ 1 line of code)\n",
        "    parameters, grads, costs = optimize(w, b, X_train, Y_train, num_iterations, learning_rate, print_cost)\n",
        "    \n",
        "    # Retrieve parameters w and b from dictionary \"parameters\"\n",
        "    w = parameters[\"w\"]\n",
        "    b = parameters[\"b\"]\n",
        "    \n",
        "    # Predict test/train set examples (≈ 2 lines of code)\n",
        "    Y_prediction_test = predict(w, b, X_test)\n",
        "    Y_prediction_train = predict(w, b, X_train)\n",
        "\n",
        "  \n",
        "    print(\"train accuracy: {} %\".format(100 - np.mean(np.abs(Y_prediction_train - Y_train)) * 100))\n",
        "    print(\"test accuracy: {} %\".format(100 - np.mean(np.abs(Y_prediction_test - Y_test)) * 100))\n",
        "\n",
        "    \n",
        "    d = {\"costs\": costs,\n",
        "         \"Y_prediction_test\": Y_prediction_test, \n",
        "         \"Y_prediction_train\" : Y_prediction_train, \n",
        "         \"w\" : w, \n",
        "         \"b\" : b,\n",
        "         \"learning_rate\" : learning_rate,\n",
        "         \"num_iterations\": num_iterations}\n",
        "    \n",
        "    return d"
      ],
      "execution_count": null,
      "outputs": []
    },
    {
      "cell_type": "markdown",
      "metadata": {
        "id": "jyW4oEvrdWls"
      },
      "source": [
        "This cell below is to be ignored"
      ]
    },
    {
      "cell_type": "code",
      "metadata": {
        "colab": {
          "base_uri": "https://localhost:8080/"
        },
        "id": "cfZi8tofwuWp",
        "outputId": "3f66b4a8-1938-4454-fd7c-8b182d7ca610"
      },
      "source": [
        "y_train\n",
        "#of no use\n",
        "y_train1 = []\n",
        "for n, i in enumerate(y_train):\n",
        "  if i == 1:\n",
        "    y_train1.append('food')\n",
        "  else:\n",
        "    y_train1.append('nonfood')\n",
        "print(y_train1)\n",
        "y_test1 = []\n",
        "for n, i in enumerate(y_test):\n",
        "  if i == 1:\n",
        "    y_test1.append('food')\n",
        "  else:\n",
        "    y_test1.append('nonfood')\n",
        "print(y_test1)"
      ],
      "execution_count": null,
      "outputs": [
        {
          "output_type": "stream",
          "text": [
            "['food', 'food', 'food', 'nonfood', 'food', 'nonfood', 'food', 'nonfood', 'nonfood', 'nonfood', 'nonfood', 'food', 'nonfood', 'food', 'food', 'nonfood', 'nonfood', 'food', 'food', 'food', 'nonfood', 'food', 'nonfood', 'nonfood', 'nonfood', 'nonfood', 'food', 'food', 'nonfood', 'food', 'food', 'nonfood', 'nonfood', 'nonfood', 'nonfood', 'food', 'nonfood', 'food', 'nonfood', 'food', 'nonfood', 'food', 'nonfood', 'nonfood', 'food', 'food', 'nonfood', 'food', 'food', 'nonfood', 'nonfood', 'food', 'nonfood', 'nonfood', 'nonfood', 'nonfood', 'food', 'nonfood', 'food', 'nonfood', 'food', 'nonfood', 'nonfood', 'food', 'food', 'nonfood', 'nonfood', 'food', 'nonfood', 'nonfood', 'nonfood', 'nonfood', 'food', 'nonfood', 'food', 'nonfood', 'food', 'food', 'nonfood', 'food', 'nonfood', 'nonfood', 'nonfood', 'food', 'food', 'nonfood', 'food', 'nonfood', 'nonfood', 'food', 'nonfood', 'nonfood', 'food', 'nonfood', 'nonfood', 'nonfood', 'nonfood', 'nonfood', 'nonfood', 'food', 'food', 'nonfood', 'food', 'nonfood', 'food', 'nonfood', 'food', 'food', 'food', 'nonfood', 'nonfood', 'food', 'food', 'food', 'nonfood', 'food', 'nonfood', 'food', 'food', 'food', 'food', 'nonfood', 'nonfood', 'food', 'food', 'food', 'food', 'nonfood', 'nonfood', 'food', 'nonfood', 'nonfood', 'food', 'nonfood', 'food', 'nonfood', 'food', 'food', 'food', 'nonfood', 'food', 'food', 'food', 'food', 'nonfood', 'food', 'nonfood', 'nonfood', 'nonfood', 'food', 'nonfood', 'food', 'food', 'nonfood', 'food', 'nonfood', 'food', 'food', 'nonfood', 'food', 'food', 'nonfood', 'food', 'nonfood', 'nonfood', 'food', 'nonfood', 'nonfood', 'nonfood', 'nonfood', 'nonfood', 'food', 'nonfood', 'food', 'food', 'food', 'food', 'nonfood', 'food', 'food', 'food', 'nonfood', 'nonfood', 'food', 'food', 'food', 'nonfood', 'nonfood', 'nonfood', 'nonfood', 'nonfood', 'food', 'food', 'food', 'food', 'nonfood', 'nonfood', 'food', 'nonfood', 'nonfood', 'food', 'nonfood', 'nonfood', 'food', 'food', 'nonfood', 'nonfood', 'food', 'food', 'food', 'food', 'nonfood', 'nonfood', 'food', 'food', 'nonfood', 'nonfood', 'food', 'nonfood', 'food', 'nonfood', 'food', 'nonfood', 'food', 'nonfood', 'nonfood', 'nonfood', 'food', 'food', 'food', 'nonfood', 'food', 'food', 'food', 'food', 'food', 'food', 'nonfood', 'nonfood', 'nonfood', 'nonfood', 'nonfood', 'nonfood', 'nonfood', 'food', 'food', 'nonfood', 'food', 'nonfood', 'food', 'nonfood', 'nonfood', 'nonfood', 'nonfood', 'food', 'food', 'food', 'nonfood', 'nonfood', 'nonfood', 'nonfood', 'food', 'food', 'food', 'food', 'nonfood', 'food', 'nonfood', 'nonfood', 'nonfood', 'food', 'food', 'food', 'nonfood', 'food', 'food', 'food', 'nonfood', 'food', 'food', 'nonfood', 'nonfood', 'food', 'nonfood', 'food', 'nonfood', 'nonfood', 'nonfood', 'food', 'nonfood', 'food', 'nonfood', 'food', 'food', 'nonfood', 'nonfood', 'food', 'nonfood', 'food', 'food', 'food', 'food', 'nonfood', 'food', 'nonfood', 'food', 'food', 'food', 'food', 'food', 'nonfood', 'nonfood', 'nonfood', 'food', 'food', 'food', 'nonfood', 'nonfood', 'food', 'food', 'nonfood', 'food', 'nonfood', 'food', 'nonfood', 'food', 'food', 'nonfood', 'food', 'nonfood', 'food', 'food', 'nonfood', 'nonfood', 'nonfood', 'nonfood', 'nonfood', 'food', 'nonfood', 'food', 'nonfood', 'food', 'food', 'food', 'food', 'food', 'food', 'nonfood', 'nonfood', 'food', 'nonfood', 'nonfood', 'food', 'nonfood', 'food', 'food', 'nonfood', 'nonfood', 'food', 'nonfood', 'food', 'food', 'food', 'nonfood', 'nonfood', 'food', 'nonfood', 'food', 'food', 'food', 'nonfood', 'nonfood', 'food', 'food', 'nonfood', 'nonfood', 'nonfood', 'nonfood', 'nonfood', 'food', 'food', 'nonfood', 'nonfood', 'food', 'nonfood', 'nonfood', 'nonfood', 'food', 'food', 'nonfood', 'nonfood', 'food', 'nonfood', 'nonfood', 'nonfood', 'food', 'food', 'food', 'food', 'food', 'nonfood', 'food', 'food', 'food', 'food', 'nonfood', 'nonfood', 'food', 'nonfood', 'food', 'food', 'nonfood', 'food', 'food', 'nonfood', 'nonfood', 'food', 'nonfood', 'food', 'nonfood', 'food', 'food', 'food', 'nonfood', 'nonfood', 'food', 'food', 'food', 'food', 'food', 'nonfood', 'nonfood', 'food', 'food', 'nonfood', 'nonfood', 'food', 'nonfood', 'food', 'nonfood', 'nonfood', 'nonfood', 'nonfood', 'food', 'nonfood', 'food', 'nonfood', 'food', 'nonfood', 'food', 'nonfood', 'nonfood', 'nonfood', 'food', 'nonfood', 'nonfood', 'food', 'nonfood', 'food', 'nonfood', 'nonfood', 'nonfood', 'food', 'food', 'food', 'nonfood', 'nonfood', 'nonfood', 'nonfood', 'nonfood', 'food', 'nonfood', 'food', 'food', 'food', 'nonfood', 'food', 'food', 'nonfood', 'food', 'food', 'nonfood', 'food', 'food', 'food', 'nonfood', 'nonfood', 'nonfood', 'food', 'food', 'food', 'food', 'nonfood', 'food', 'nonfood', 'nonfood', 'food', 'nonfood', 'nonfood', 'food', 'food', 'nonfood', 'nonfood', 'food', 'nonfood', 'nonfood', 'nonfood', 'nonfood', 'food', 'nonfood', 'nonfood', 'food', 'nonfood', 'food', 'nonfood', 'food', 'nonfood', 'nonfood', 'nonfood', 'food', 'nonfood', 'food', 'nonfood', 'food', 'food', 'food', 'food', 'nonfood', 'food', 'nonfood', 'nonfood', 'food', 'nonfood', 'food', 'nonfood', 'nonfood', 'food', 'food', 'food', 'nonfood', 'food', 'food', 'nonfood', 'food', 'food', 'nonfood', 'food', 'food', 'nonfood', 'nonfood', 'nonfood', 'nonfood', 'food', 'food', 'nonfood', 'food', 'food', 'nonfood', 'food', 'food', 'food', 'food', 'nonfood', 'food', 'food', 'nonfood', 'nonfood', 'nonfood', 'nonfood', 'food', 'nonfood', 'food', 'food', 'nonfood', 'food', 'food', 'nonfood', 'nonfood', 'food', 'nonfood', 'food', 'food', 'food', 'nonfood', 'nonfood', 'food', 'nonfood', 'food', 'food', 'nonfood', 'nonfood', 'food', 'food', 'nonfood', 'food', 'food', 'food', 'food', 'food', 'nonfood', 'food', 'nonfood', 'food', 'food', 'nonfood', 'nonfood', 'food', 'nonfood', 'food', 'food', 'food', 'food', 'nonfood', 'food', 'nonfood', 'food', 'nonfood', 'nonfood', 'nonfood', 'food', 'nonfood', 'nonfood', 'food', 'nonfood', 'nonfood', 'nonfood', 'nonfood', 'food', 'food', 'food', 'nonfood', 'food', 'food', 'food', 'food', 'nonfood', 'food', 'nonfood', 'food', 'food', 'nonfood', 'nonfood', 'food', 'nonfood', 'nonfood', 'nonfood', 'food', 'food', 'nonfood', 'nonfood', 'nonfood', 'nonfood', 'nonfood', 'nonfood', 'food', 'food', 'nonfood', 'food', 'food', 'food', 'nonfood', 'food', 'nonfood', 'food', 'nonfood', 'nonfood', 'food', 'nonfood', 'nonfood', 'nonfood', 'nonfood', 'nonfood', 'food', 'food', 'nonfood', 'food', 'food', 'food', 'nonfood', 'nonfood', 'food', 'nonfood', 'nonfood', 'nonfood', 'nonfood', 'nonfood', 'food', 'nonfood', 'food', 'food', 'nonfood', 'food', 'food', 'food', 'food', 'nonfood', 'nonfood', 'nonfood', 'food', 'food', 'food', 'food', 'food', 'nonfood', 'food', 'food', 'food', 'food', 'nonfood', 'nonfood', 'food', 'nonfood', 'food', 'food', 'nonfood', 'food', 'nonfood', 'food', 'nonfood', 'nonfood', 'food', 'food', 'nonfood', 'nonfood', 'nonfood', 'nonfood', 'food', 'nonfood', 'food', 'food', 'food', 'nonfood', 'food', 'nonfood', 'nonfood', 'nonfood', 'nonfood', 'nonfood', 'nonfood', 'food', 'nonfood', 'food', 'nonfood', 'food', 'nonfood', 'food', 'food', 'nonfood', 'nonfood', 'nonfood', 'food', 'food', 'nonfood', 'nonfood', 'food', 'nonfood', 'food', 'nonfood', 'food', 'food', 'food', 'nonfood', 'nonfood', 'nonfood', 'nonfood', 'food', 'nonfood', 'food', 'nonfood', 'nonfood', 'food', 'nonfood', 'nonfood', 'food', 'food', 'food', 'nonfood', 'food', 'food', 'nonfood', 'nonfood', 'nonfood', 'food', 'food', 'nonfood', 'nonfood', 'food', 'nonfood', 'nonfood', 'food', 'nonfood', 'food', 'nonfood', 'food', 'food', 'food', 'nonfood', 'nonfood', 'nonfood', 'nonfood', 'nonfood', 'nonfood', 'nonfood', 'food', 'food', 'food', 'food', 'food', 'nonfood', 'food', 'nonfood', 'food', 'food', 'food', 'nonfood', 'nonfood', 'food', 'food', 'nonfood', 'nonfood', 'food', 'nonfood', 'nonfood', 'nonfood', 'food', 'food', 'nonfood', 'food', 'nonfood', 'food', 'food', 'food', 'nonfood', 'nonfood', 'food', 'nonfood', 'food', 'nonfood', 'food', 'nonfood', 'food', 'food', 'nonfood', 'food', 'nonfood', 'nonfood', 'nonfood', 'nonfood', 'food', 'nonfood', 'nonfood', 'nonfood', 'nonfood', 'food', 'nonfood', 'food', 'food', 'food', 'food', 'nonfood', 'food', 'food', 'nonfood', 'food', 'nonfood', 'nonfood', 'food', 'food', 'food', 'nonfood', 'food', 'food', 'food', 'nonfood', 'nonfood', 'nonfood', 'food', 'nonfood', 'nonfood', 'food', 'food', 'food', 'food', 'nonfood', 'food', 'nonfood', 'food', 'food', 'nonfood', 'nonfood', 'nonfood', 'food', 'food', 'nonfood', 'nonfood', 'food', 'nonfood', 'nonfood', 'nonfood', 'food', 'food', 'food', 'food', 'food', 'nonfood', 'nonfood', 'nonfood', 'nonfood', 'nonfood', 'nonfood', 'food', 'food', 'nonfood', 'nonfood', 'food', 'nonfood', 'nonfood', 'nonfood', 'food', 'nonfood', 'nonfood', 'food', 'nonfood', 'nonfood', 'nonfood', 'nonfood', 'nonfood', 'nonfood', 'nonfood', 'nonfood', 'food', 'food', 'nonfood', 'nonfood', 'food', 'food', 'food', 'food', 'food', 'food', 'food', 'food', 'nonfood', 'food', 'food', 'food', 'food', 'nonfood', 'food', 'nonfood', 'nonfood', 'food', 'food', 'food', 'nonfood', 'food', 'food', 'food', 'nonfood', 'food', 'nonfood', 'food', 'nonfood', 'nonfood', 'nonfood', 'nonfood', 'nonfood', 'nonfood', 'nonfood', 'nonfood', 'food', 'food', 'food', 'food', 'food', 'food', 'nonfood', 'food', 'food', 'food', 'nonfood', 'food', 'nonfood', 'food', 'food', 'nonfood', 'food', 'nonfood', 'nonfood', 'nonfood', 'nonfood', 'nonfood', 'food', 'nonfood', 'food', 'food', 'nonfood', 'food', 'nonfood', 'nonfood', 'food', 'food', 'food', 'nonfood', 'food', 'food', 'nonfood', 'nonfood', 'food', 'nonfood', 'food', 'food', 'food', 'food', 'food', 'nonfood', 'nonfood', 'food', 'nonfood', 'food', 'food', 'nonfood', 'food', 'nonfood', 'food', 'nonfood', 'food', 'food', 'food', 'nonfood', 'food', 'nonfood', 'nonfood', 'food', 'food', 'nonfood', 'nonfood', 'nonfood', 'nonfood', 'nonfood', 'nonfood', 'nonfood', 'food', 'food', 'nonfood', 'food', 'nonfood', 'nonfood', 'nonfood', 'nonfood', 'food', 'nonfood', 'food', 'food', 'nonfood', 'nonfood', 'nonfood', 'nonfood', 'nonfood', 'nonfood', 'nonfood', 'nonfood', 'food', 'food', 'nonfood', 'food', 'nonfood', 'food', 'food', 'nonfood', 'nonfood', 'food', 'food', 'nonfood', 'nonfood', 'nonfood', 'nonfood', 'nonfood', 'nonfood', 'nonfood', 'nonfood', 'nonfood', 'nonfood', 'nonfood', 'nonfood', 'food', 'food', 'food', 'nonfood', 'nonfood', 'nonfood', 'nonfood', 'food', 'nonfood', 'nonfood', 'nonfood', 'nonfood', 'nonfood', 'food', 'food', 'nonfood', 'nonfood', 'nonfood', 'nonfood', 'nonfood', 'food', 'food', 'nonfood', 'nonfood', 'nonfood', 'food', 'food', 'nonfood', 'food', 'food', 'nonfood', 'nonfood', 'nonfood', 'nonfood', 'nonfood', 'nonfood', 'food', 'nonfood', 'nonfood', 'nonfood', 'food', 'food', 'food', 'nonfood', 'food', 'nonfood', 'nonfood', 'nonfood', 'nonfood', 'nonfood', 'food', 'nonfood', 'nonfood', 'food', 'food', 'nonfood', 'food', 'food', 'nonfood', 'nonfood', 'nonfood', 'food', 'food', 'nonfood', 'food', 'food', 'nonfood', 'nonfood', 'nonfood', 'food', 'nonfood', 'food', 'food', 'nonfood', 'food', 'food', 'nonfood', 'nonfood', 'food', 'food', 'nonfood', 'nonfood', 'nonfood', 'nonfood', 'nonfood', 'nonfood', 'food', 'food', 'food', 'food', 'nonfood', 'nonfood', 'food', 'food', 'food', 'nonfood', 'food', 'food', 'food', 'food', 'food', 'nonfood', 'food', 'food', 'food', 'food', 'nonfood', 'nonfood', 'food', 'food', 'food', 'nonfood', 'food', 'food', 'food', 'nonfood', 'nonfood', 'nonfood', 'food', 'nonfood', 'food', 'food', 'nonfood', 'food', 'nonfood', 'nonfood', 'nonfood', 'nonfood', 'nonfood', 'food', 'nonfood', 'food', 'nonfood', 'food', 'food', 'nonfood', 'nonfood', 'nonfood', 'food', 'food', 'nonfood', 'food', 'nonfood', 'food', 'food', 'nonfood', 'nonfood', 'food', 'food', 'nonfood', 'food', 'food', 'food', 'food', 'food', 'food', 'food', 'food', 'food', 'food', 'nonfood', 'food', 'food', 'nonfood', 'food', 'food', 'nonfood', 'food', 'nonfood', 'nonfood', 'food', 'nonfood', 'food', 'nonfood', 'nonfood', 'food', 'food', 'nonfood', 'nonfood', 'nonfood', 'nonfood', 'food', 'nonfood', 'food', 'nonfood', 'nonfood', 'nonfood', 'food', 'nonfood', 'nonfood', 'food', 'food', 'nonfood', 'food', 'nonfood', 'food', 'food', 'nonfood', 'food', 'food', 'food', 'nonfood', 'food', 'nonfood', 'food', 'nonfood', 'nonfood', 'nonfood', 'nonfood', 'food', 'food', 'nonfood', 'food', 'food', 'nonfood', 'food', 'food', 'food', 'food', 'food', 'food', 'food', 'food', 'nonfood', 'food', 'nonfood', 'food', 'food', 'nonfood', 'food', 'food', 'food', 'food', 'food', 'nonfood', 'nonfood', 'food', 'food', 'food', 'nonfood', 'nonfood', 'food', 'food', 'food', 'nonfood', 'food', 'nonfood', 'food', 'nonfood', 'food', 'nonfood', 'nonfood', 'food', 'food', 'food', 'food', 'nonfood', 'nonfood', 'food', 'food', 'food', 'food', 'nonfood', 'nonfood', 'food', 'nonfood', 'nonfood', 'nonfood', 'nonfood', 'food', 'food', 'nonfood', 'nonfood', 'nonfood', 'nonfood', 'food', 'nonfood', 'food', 'nonfood', 'nonfood', 'food', 'nonfood', 'nonfood', 'nonfood', 'nonfood', 'food', 'nonfood', 'nonfood', 'nonfood', 'nonfood', 'food', 'nonfood', 'nonfood', 'food', 'nonfood', 'nonfood', 'food', 'food', 'nonfood', 'nonfood', 'food', 'food', 'food', 'food', 'nonfood', 'food', 'food', 'food', 'nonfood', 'nonfood', 'food', 'food', 'food', 'nonfood', 'nonfood', 'nonfood', 'nonfood', 'nonfood', 'nonfood', 'food', 'nonfood', 'food', 'food', 'nonfood', 'food', 'nonfood', 'nonfood', 'food', 'nonfood', 'food', 'nonfood', 'food', 'nonfood', 'nonfood', 'nonfood', 'nonfood', 'food', 'nonfood', 'nonfood', 'food', 'nonfood', 'food', 'food', 'food', 'food', 'food', 'food', 'food', 'nonfood', 'nonfood', 'nonfood', 'food', 'food', 'nonfood', 'nonfood', 'food', 'food', 'nonfood', 'food', 'nonfood', 'food', 'nonfood', 'food', 'food', 'nonfood', 'food', 'nonfood', 'nonfood', 'food', 'nonfood', 'food', 'food', 'nonfood', 'nonfood', 'nonfood', 'nonfood', 'nonfood', 'nonfood', 'food', 'nonfood', 'food', 'food', 'food', 'food', 'food', 'nonfood', 'food', 'nonfood', 'nonfood', 'nonfood', 'nonfood', 'food', 'food', 'nonfood', 'nonfood', 'nonfood', 'food', 'nonfood', 'nonfood', 'food', 'nonfood', 'nonfood', 'food', 'nonfood', 'food', 'food', 'nonfood', 'nonfood', 'nonfood', 'nonfood', 'food', 'food', 'nonfood', 'food', 'food', 'nonfood', 'nonfood', 'nonfood', 'food', 'nonfood', 'food', 'nonfood', 'nonfood', 'food', 'nonfood', 'food', 'nonfood', 'nonfood', 'nonfood', 'food', 'nonfood', 'nonfood', 'nonfood', 'nonfood', 'food', 'food', 'nonfood', 'nonfood', 'nonfood', 'nonfood', 'nonfood', 'food', 'nonfood', 'nonfood', 'food', 'food', 'nonfood', 'food', 'nonfood', 'nonfood', 'nonfood', 'food', 'food', 'nonfood', 'nonfood', 'food', 'food', 'food', 'food', 'food', 'nonfood', 'nonfood', 'food', 'nonfood', 'food', 'nonfood', 'food', 'food', 'food', 'food', 'nonfood', 'nonfood', 'food', 'food', 'nonfood', 'food', 'food', 'nonfood', 'food', 'food', 'food', 'food', 'food', 'food', 'food', 'nonfood', 'food', 'nonfood', 'nonfood', 'nonfood', 'nonfood', 'nonfood', 'nonfood', 'nonfood', 'nonfood', 'nonfood', 'nonfood', 'food', 'nonfood', 'food', 'nonfood', 'food', 'food', 'nonfood', 'food', 'nonfood', 'food', 'food', 'nonfood', 'nonfood', 'nonfood', 'food', 'food', 'nonfood', 'food', 'nonfood', 'nonfood', 'nonfood', 'nonfood', 'nonfood', 'food', 'nonfood', 'nonfood', 'nonfood', 'nonfood', 'nonfood', 'food', 'nonfood', 'food', 'food', 'food', 'food', 'nonfood', 'food', 'nonfood', 'food', 'food', 'food', 'food', 'food', 'food', 'food', 'nonfood', 'food', 'nonfood', 'food', 'nonfood', 'food', 'food', 'food', 'food', 'food', 'food', 'food', 'nonfood', 'nonfood', 'nonfood', 'food', 'nonfood', 'food', 'food', 'nonfood', 'food', 'food', 'nonfood', 'food', 'nonfood', 'food', 'food', 'food', 'nonfood', 'food', 'nonfood', 'food', 'food', 'nonfood', 'nonfood', 'nonfood', 'food', 'nonfood', 'nonfood', 'food', 'nonfood', 'food', 'food', 'nonfood', 'food', 'nonfood', 'nonfood', 'nonfood', 'food', 'food', 'nonfood', 'nonfood', 'food', 'food', 'food', 'nonfood', 'food', 'food', 'food', 'nonfood', 'food', 'food', 'nonfood', 'food', 'nonfood', 'nonfood', 'food', 'nonfood', 'food', 'nonfood', 'nonfood', 'nonfood', 'food', 'food', 'food', 'nonfood', 'nonfood', 'food', 'food', 'nonfood', 'food', 'food', 'food', 'nonfood', 'nonfood', 'nonfood', 'nonfood', 'nonfood', 'nonfood', 'nonfood', 'food', 'food', 'food', 'nonfood', 'nonfood', 'nonfood', 'nonfood', 'food', 'food', 'nonfood', 'food', 'nonfood', 'nonfood', 'nonfood', 'food', 'food', 'food', 'food', 'nonfood', 'nonfood', 'nonfood', 'nonfood', 'food', 'food', 'food', 'food', 'nonfood', 'nonfood', 'food', 'food', 'nonfood', 'food', 'nonfood', 'nonfood', 'nonfood', 'nonfood', 'nonfood', 'food', 'nonfood', 'nonfood', 'food', 'food', 'nonfood', 'food', 'nonfood', 'food', 'nonfood', 'nonfood', 'food', 'nonfood', 'food', 'food', 'food', 'food', 'nonfood', 'food', 'food', 'food', 'food', 'food', 'food', 'food', 'food', 'food', 'food', 'food', 'nonfood', 'nonfood', 'food', 'nonfood', 'nonfood', 'nonfood', 'food', 'nonfood', 'food', 'nonfood', 'food', 'food', 'food', 'nonfood', 'nonfood', 'nonfood', 'nonfood', 'food', 'food', 'food', 'food', 'food', 'nonfood', 'food', 'food', 'nonfood', 'nonfood', 'nonfood', 'nonfood', 'food', 'food', 'food', 'nonfood', 'nonfood', 'nonfood', 'nonfood', 'nonfood', 'food', 'food', 'food', 'nonfood', 'food', 'food', 'nonfood', 'food', 'nonfood', 'nonfood', 'food', 'food', 'food', 'food', 'nonfood', 'food', 'nonfood', 'nonfood', 'food', 'nonfood', 'nonfood', 'nonfood', 'nonfood', 'nonfood', 'food', 'food', 'nonfood', 'nonfood', 'nonfood', 'food', 'nonfood', 'food', 'food', 'food', 'food', 'nonfood', 'food', 'nonfood', 'nonfood', 'food', 'food', 'nonfood', 'food', 'food', 'food', 'nonfood', 'food', 'food', 'nonfood', 'food', 'food', 'nonfood', 'food', 'food', 'food', 'nonfood', 'nonfood', 'nonfood', 'food', 'food', 'nonfood', 'nonfood', 'food', 'nonfood', 'food', 'nonfood', 'food', 'nonfood', 'nonfood', 'nonfood', 'food', 'nonfood', 'nonfood', 'nonfood', 'food', 'nonfood', 'food', 'nonfood', 'nonfood', 'food', 'food', 'food', 'nonfood', 'nonfood', 'food', 'food', 'food', 'food', 'nonfood', 'nonfood', 'food', 'nonfood', 'food', 'nonfood', 'food', 'nonfood', 'food', 'food', 'food', 'food', 'nonfood', 'nonfood', 'nonfood', 'nonfood', 'nonfood', 'nonfood', 'nonfood', 'food', 'nonfood', 'food', 'food', 'nonfood', 'nonfood', 'food', 'food', 'food', 'food', 'nonfood', 'nonfood', 'nonfood', 'nonfood', 'nonfood', 'food', 'nonfood', 'food', 'nonfood', 'food', 'nonfood', 'nonfood', 'nonfood', 'nonfood', 'food', 'nonfood', 'food', 'nonfood', 'nonfood', 'food', 'food', 'nonfood', 'food', 'nonfood', 'food', 'nonfood', 'food', 'food', 'food', 'food', 'food', 'food', 'food', 'food', 'food', 'food', 'food', 'nonfood', 'nonfood', 'food', 'nonfood', 'food', 'nonfood', 'food', 'food', 'nonfood', 'nonfood', 'food', 'nonfood', 'food', 'food', 'food', 'nonfood', 'nonfood', 'nonfood', 'food', 'food', 'food', 'food', 'food', 'food', 'food', 'food', 'food', 'food', 'nonfood', 'nonfood', 'nonfood', 'food', 'food', 'food', 'nonfood', 'nonfood', 'nonfood', 'nonfood', 'food', 'food', 'food', 'food', 'nonfood', 'nonfood', 'food', 'food', 'food', 'nonfood', 'nonfood', 'food', 'food', 'nonfood', 'nonfood', 'food', 'food', 'food', 'nonfood', 'food', 'nonfood', 'food', 'nonfood', 'nonfood', 'food', 'nonfood', 'nonfood', 'food', 'food', 'food', 'nonfood', 'food', 'nonfood', 'food', 'nonfood', 'food', 'food', 'nonfood', 'nonfood', 'nonfood', 'nonfood', 'food', 'nonfood', 'nonfood', 'food', 'nonfood', 'food', 'food', 'food', 'food', 'food', 'food', 'food', 'nonfood', 'nonfood', 'food', 'nonfood', 'nonfood', 'nonfood', 'food', 'nonfood', 'nonfood', 'food', 'food', 'nonfood', 'food', 'food', 'nonfood', 'nonfood', 'nonfood', 'food', 'nonfood', 'food', 'food', 'nonfood', 'nonfood', 'nonfood', 'nonfood', 'nonfood', 'nonfood', 'nonfood', 'food', 'food', 'food', 'nonfood', 'food', 'nonfood', 'food', 'food', 'food', 'nonfood', 'nonfood', 'nonfood', 'food', 'nonfood', 'nonfood', 'food', 'nonfood', 'food', 'nonfood', 'food', 'nonfood', 'nonfood', 'nonfood', 'food', 'nonfood', 'nonfood', 'food', 'food', 'food', 'food', 'nonfood', 'food', 'food', 'nonfood', 'nonfood', 'nonfood', 'food', 'food', 'nonfood', 'nonfood', 'nonfood', 'nonfood', 'food', 'nonfood', 'food', 'nonfood', 'food', 'nonfood', 'food', 'nonfood', 'nonfood', 'nonfood', 'food', 'nonfood', 'food', 'nonfood', 'nonfood', 'nonfood', 'nonfood', 'food', 'nonfood', 'nonfood', 'nonfood', 'nonfood', 'food', 'nonfood', 'nonfood', 'food', 'nonfood', 'nonfood', 'food', 'nonfood', 'nonfood', 'food', 'nonfood', 'nonfood', 'food', 'food', 'food', 'nonfood', 'nonfood', 'food', 'nonfood', 'food', 'food', 'food', 'food', 'food', 'food', 'nonfood', 'food', 'nonfood', 'nonfood', 'nonfood', 'nonfood', 'nonfood', 'food', 'nonfood', 'nonfood', 'nonfood', 'food', 'nonfood', 'nonfood', 'food', 'food', 'nonfood', 'food', 'nonfood', 'food', 'nonfood', 'nonfood', 'nonfood', 'nonfood', 'food', 'nonfood', 'nonfood', 'nonfood', 'food', 'food', 'food', 'food', 'food', 'food', 'food', 'food', 'food', 'nonfood', 'food', 'nonfood', 'nonfood', 'food', 'food', 'food', 'nonfood', 'food', 'nonfood', 'nonfood', 'nonfood', 'food', 'nonfood', 'nonfood', 'nonfood', 'food', 'food', 'nonfood', 'nonfood', 'nonfood', 'nonfood', 'nonfood', 'nonfood', 'nonfood', 'food', 'nonfood', 'food', 'food', 'nonfood', 'nonfood', 'nonfood', 'nonfood', 'nonfood', 'nonfood', 'food', 'food', 'food', 'nonfood', 'food', 'food', 'nonfood', 'food', 'food', 'food', 'nonfood', 'food', 'food', 'nonfood', 'nonfood', 'food', 'nonfood', 'food', 'nonfood', 'food', 'nonfood', 'nonfood', 'nonfood', 'nonfood', 'nonfood', 'food', 'nonfood', 'nonfood', 'food', 'food', 'nonfood', 'food', 'nonfood', 'nonfood', 'nonfood', 'nonfood', 'food', 'nonfood', 'food', 'nonfood', 'food', 'nonfood', 'nonfood', 'food', 'food', 'nonfood', 'nonfood', 'food', 'food', 'nonfood', 'food', 'nonfood', 'food', 'food', 'food', 'nonfood', 'food', 'nonfood', 'food', 'food', 'food', 'food', 'nonfood', 'nonfood', 'food', 'food', 'food', 'food', 'nonfood', 'food', 'nonfood', 'food', 'food', 'nonfood', 'nonfood', 'nonfood', 'food', 'nonfood', 'food', 'nonfood', 'food', 'nonfood', 'nonfood', 'nonfood', 'food', 'food', 'nonfood', 'food', 'food', 'nonfood', 'food', 'nonfood', 'nonfood', 'nonfood', 'food', 'nonfood', 'nonfood', 'food', 'nonfood', 'food', 'nonfood', 'nonfood', 'nonfood', 'food', 'nonfood', 'nonfood', 'food', 'nonfood', 'food', 'nonfood', 'food', 'nonfood', 'food', 'nonfood', 'nonfood', 'nonfood', 'food', 'food', 'nonfood', 'food', 'nonfood', 'food', 'food', 'food', 'nonfood', 'food', 'food', 'nonfood', 'nonfood', 'nonfood', 'nonfood', 'food', 'nonfood', 'food', 'nonfood', 'nonfood', 'food', 'food', 'food', 'food', 'nonfood', 'nonfood', 'food', 'food', 'food', 'food']\n",
            "['nonfood', 'food', 'nonfood', 'food', 'nonfood', 'food', 'food', 'nonfood', 'food', 'nonfood', 'nonfood', 'food', 'food', 'nonfood', 'nonfood', 'food', 'food', 'food', 'nonfood', 'nonfood', 'food', 'food', 'food', 'nonfood', 'food', 'nonfood', 'nonfood', 'food', 'food', 'food', 'food', 'nonfood', 'food', 'nonfood', 'food', 'food', 'nonfood', 'food', 'food', 'food', 'food', 'food', 'food', 'food', 'nonfood', 'nonfood', 'nonfood', 'food', 'nonfood', 'nonfood', 'food', 'nonfood', 'food', 'nonfood', 'food', 'nonfood', 'food', 'food', 'nonfood', 'food', 'food', 'food', 'food', 'food', 'food', 'food', 'food', 'food', 'nonfood', 'food', 'nonfood', 'nonfood', 'nonfood', 'nonfood', 'food', 'food', 'nonfood', 'nonfood', 'nonfood', 'nonfood', 'nonfood', 'nonfood', 'food', 'nonfood', 'nonfood', 'food', 'nonfood', 'food', 'nonfood', 'nonfood', 'food', 'food', 'nonfood', 'food', 'nonfood', 'food', 'nonfood', 'nonfood', 'food', 'nonfood', 'nonfood', 'food', 'food', 'nonfood', 'food', 'food', 'nonfood', 'food', 'food', 'nonfood', 'nonfood', 'food', 'nonfood', 'nonfood', 'food', 'nonfood', 'food', 'food', 'food', 'nonfood', 'nonfood', 'food', 'food', 'nonfood', 'food', 'nonfood', 'nonfood', 'food', 'food', 'food', 'nonfood', 'food', 'nonfood', 'nonfood', 'food', 'food', 'food', 'nonfood', 'food', 'nonfood', 'nonfood', 'food', 'nonfood', 'nonfood', 'nonfood', 'food', 'nonfood', 'nonfood', 'nonfood', 'food', 'nonfood', 'nonfood', 'food', 'nonfood', 'food', 'nonfood', 'food', 'nonfood', 'nonfood', 'nonfood', 'nonfood', 'nonfood', 'food', 'food', 'nonfood', 'food', 'food', 'nonfood', 'nonfood', 'food', 'nonfood', 'nonfood', 'nonfood', 'food', 'nonfood', 'food', 'nonfood', 'nonfood', 'food', 'nonfood', 'food', 'nonfood', 'nonfood', 'nonfood', 'food', 'food', 'food', 'nonfood', 'food', 'nonfood', 'food', 'food', 'nonfood', 'food', 'food', 'nonfood', 'food', 'nonfood', 'food', 'food', 'food', 'nonfood', 'food', 'nonfood', 'nonfood', 'food', 'nonfood', 'nonfood', 'food', 'nonfood', 'nonfood', 'nonfood', 'food', 'nonfood', 'food', 'food', 'food', 'food', 'nonfood', 'nonfood', 'food', 'nonfood', 'food', 'nonfood', 'food', 'food', 'food', 'nonfood', 'food', 'food', 'food', 'nonfood', 'nonfood', 'food', 'food', 'food', 'food', 'nonfood', 'nonfood', 'food', 'nonfood', 'food', 'nonfood', 'nonfood', 'food', 'food', 'food', 'food', 'food', 'nonfood', 'food', 'food', 'food', 'food', 'nonfood', 'nonfood', 'nonfood', 'nonfood', 'nonfood', 'nonfood', 'nonfood', 'nonfood', 'food', 'food', 'food', 'nonfood', 'nonfood', 'nonfood', 'nonfood', 'food', 'nonfood', 'food', 'nonfood', 'food', 'food', 'food', 'nonfood', 'food', 'food', 'food', 'nonfood', 'food', 'food', 'food', 'food', 'nonfood', 'food', 'nonfood', 'food', 'food', 'nonfood', 'nonfood', 'food', 'nonfood', 'nonfood', 'nonfood', 'food', 'nonfood', 'nonfood', 'food', 'food', 'food', 'food', 'nonfood', 'nonfood', 'food', 'food', 'nonfood', 'nonfood', 'food', 'food', 'food', 'food', 'nonfood', 'nonfood', 'nonfood', 'food', 'nonfood', 'nonfood', 'nonfood', 'food', 'food', 'nonfood', 'nonfood', 'nonfood', 'nonfood', 'food', 'nonfood', 'nonfood', 'nonfood', 'food', 'food', 'nonfood', 'food', 'food', 'nonfood', 'nonfood', 'food', 'nonfood', 'food', 'nonfood', 'food', 'food', 'nonfood', 'food', 'food', 'nonfood', 'food', 'nonfood', 'food', 'food', 'nonfood', 'food', 'nonfood', 'nonfood', 'food', 'nonfood', 'food', 'nonfood', 'food', 'nonfood', 'nonfood', 'nonfood', 'food', 'food', 'food', 'nonfood', 'food', 'nonfood', 'nonfood', 'food', 'food', 'nonfood', 'nonfood', 'food', 'nonfood', 'food', 'nonfood', 'food', 'nonfood', 'food', 'nonfood', 'food', 'food', 'food', 'nonfood', 'nonfood', 'food', 'food', 'food', 'nonfood', 'nonfood', 'food', 'nonfood', 'nonfood', 'nonfood', 'food', 'food', 'food', 'nonfood', 'food', 'nonfood', 'nonfood', 'nonfood', 'nonfood', 'nonfood', 'food', 'nonfood', 'food', 'nonfood', 'nonfood', 'food', 'nonfood', 'food', 'food', 'food', 'food', 'food', 'nonfood', 'food', 'food', 'nonfood', 'food', 'food', 'food', 'food', 'food', 'food', 'food', 'food', 'nonfood', 'food', 'nonfood', 'food', 'food', 'food', 'food', 'nonfood', 'nonfood', 'food', 'food', 'nonfood', 'nonfood', 'food', 'nonfood', 'food', 'nonfood', 'nonfood', 'food', 'nonfood', 'nonfood', 'food', 'nonfood', 'food', 'food', 'food', 'food', 'food', 'food', 'food', 'food', 'food', 'food', 'food', 'food', 'nonfood', 'food', 'food', 'food', 'nonfood', 'food', 'nonfood', 'nonfood', 'food', 'nonfood', 'nonfood', 'nonfood', 'nonfood', 'food', 'food', 'nonfood', 'food', 'nonfood', 'nonfood', 'nonfood', 'nonfood', 'nonfood', 'nonfood', 'food', 'nonfood', 'food', 'nonfood', 'nonfood', 'nonfood', 'nonfood', 'food', 'food', 'nonfood', 'food', 'nonfood', 'nonfood', 'food', 'food', 'nonfood', 'food', 'nonfood', 'nonfood', 'food', 'nonfood', 'food', 'nonfood', 'food', 'food', 'nonfood', 'food', 'nonfood', 'food', 'food', 'food', 'nonfood', 'food', 'food', 'nonfood', 'food', 'food', 'nonfood', 'nonfood', 'nonfood', 'nonfood', 'nonfood', 'nonfood', 'food', 'food', 'nonfood', 'food', 'nonfood', 'food', 'nonfood', 'food', 'food', 'nonfood', 'nonfood', 'food', 'nonfood', 'food', 'food', 'food', 'nonfood', 'nonfood', 'food', 'nonfood', 'nonfood', 'food', 'nonfood', 'food', 'nonfood', 'food', 'food', 'food', 'food', 'nonfood', 'nonfood', 'nonfood', 'food', 'food', 'nonfood', 'nonfood', 'food', 'food', 'nonfood', 'food', 'food', 'nonfood', 'food', 'nonfood', 'food', 'food', 'food', 'food', 'food', 'food', 'food', 'nonfood', 'nonfood', 'food', 'nonfood', 'nonfood', 'nonfood', 'food', 'nonfood', 'nonfood', 'nonfood', 'nonfood', 'food', 'food', 'food', 'nonfood', 'food', 'nonfood', 'food']\n"
          ],
          "name": "stdout"
        }
      ]
    },
    {
      "cell_type": "code",
      "metadata": {
        "colab": {
          "base_uri": "https://localhost:8080/"
        },
        "id": "tcCDEb7Hv_a_",
        "outputId": "6ab99a9c-dfa0-4e85-90d0-3de1d36d3054"
      },
      "source": [
        "d = model(train_set_x, y_train, test_set_x, y_test, num_iterations = 2000, learning_rate = 0.005, print_cost = True)"
      ],
      "execution_count": null,
      "outputs": [
        {
          "output_type": "stream",
          "text": [
            "Cost after iteration 0: 0.693147\n",
            "Cost after iteration 100: 0.546121\n",
            "Cost after iteration 200: 0.514202\n",
            "Cost after iteration 300: 0.498969\n",
            "Cost after iteration 400: 0.488922\n",
            "Cost after iteration 500: 0.481159\n",
            "Cost after iteration 600: 0.474658\n",
            "Cost after iteration 700: 0.468979\n",
            "Cost after iteration 800: 0.463895\n",
            "Cost after iteration 900: 0.459276\n",
            "Cost after iteration 1000: 0.455036\n",
            "Cost after iteration 1100: 0.451113\n",
            "Cost after iteration 1200: 0.447460\n",
            "Cost after iteration 1300: 0.444043\n",
            "Cost after iteration 1400: 0.440830\n",
            "Cost after iteration 1500: 0.437797\n",
            "Cost after iteration 1600: 0.434926\n",
            "Cost after iteration 1700: 0.432198\n",
            "Cost after iteration 1800: 0.429599\n",
            "Cost after iteration 1900: 0.427116\n",
            "train accuracy: 81.625 %\n",
            "test accuracy: 78.16666666666667 %\n"
          ],
          "name": "stdout"
        }
      ]
    },
    {
      "cell_type": "code",
      "metadata": {
        "id": "3KSYqKbYwC6S"
      },
      "source": [
        "from keras.preprocessing.image import load_img , img_to_array\n",
        "pic = load_img(\"/content/drive/MyDrive/Tatras projects/Food Nonfood data /training/food/100.jpg\")"
      ],
      "execution_count": null,
      "outputs": []
    },
    {
      "cell_type": "code",
      "metadata": {
        "colab": {
          "base_uri": "https://localhost:8080/",
          "height": 529
        },
        "id": "O1YkXX_FGPLZ",
        "outputId": "07f4839c-641b-48dd-a322-ad14f7cf6e8a"
      },
      "source": [
        "pic"
      ],
      "execution_count": null,
      "outputs": [
        {
          "output_type": "execute_result",
          "data": {
            "image/png": "[encoded data removed]",
            "text/plain": [
              "<PIL.JpegImagePlugin.JpegImageFile image mode=RGB size=382x512 at 0x7FE906D136D0>"
            ]
          },
          "metadata": {
            "tags": []
          },
          "execution_count": 62
        }
      ]
    },
    {
      "cell_type": "code",
      "metadata": {
        "colab": {
          "base_uri": "https://localhost:8080/"
        },
        "id": "a34c_kcYGkK6",
        "outputId": "2459a984-46a4-4b21-d15b-709883a5c4ec"
      },
      "source": [
        "pic.getpixel"
      ],
      "execution_count": null,
      "outputs": [
        {
          "output_type": "execute_result",
          "data": {
            "text/plain": [
              "<bound method Image.getpixel of <PIL.JpegImagePlugin.JpegImageFile image mode=RGB size=382x512 at 0x7FE910761950>>"
            ]
          },
          "metadata": {
            "tags": []
          },
          "execution_count": 41
        }
      ]
    },
    {
      "cell_type": "code",
      "metadata": {
        "colab": {
          "background_save": true
        },
        "id": "1Vj40FgIGnBS"
      },
      "source": [
        "pic_array = img_to_array(pic)"
      ],
      "execution_count": null,
      "outputs": []
    },
    {
      "cell_type": "code",
      "metadata": {
        "colab": {
          "background_save": true
        },
        "id": "1ULGtsIuIItb",
        "outputId": "ca8fdf7c-4171-4a57-c107-ad33cca97179"
      },
      "source": [
        "pic_array"
      ],
      "execution_count": null,
      "outputs": [
        {
          "output_type": "execute_result",
          "data": {
            "text/plain": [
              "array([[[ 46.,  46.,  46.],\n",
              "        [ 58.,  61.,  66.],\n",
              "        [ 38.,  48.,  57.],\n",
              "        ...,\n",
              "        [166., 204., 225.],\n",
              "        [185., 223., 244.],\n",
              "        [201., 239., 255.]],\n",
              "\n",
              "       [[ 52.,  52.,  54.],\n",
              "        [ 47.,  52.,  56.],\n",
              "        [ 29.,  42.,  50.],\n",
              "        ...,\n",
              "        [155., 193., 212.],\n",
              "        [156., 193., 212.],\n",
              "        [186., 223., 242.]],\n",
              "\n",
              "       [[ 55.,  56.,  58.],\n",
              "        [ 44.,  49.,  53.],\n",
              "        [ 34.,  47.,  55.],\n",
              "        ...,\n",
              "        [ 88., 125., 143.],\n",
              "        [138., 175., 193.],\n",
              "        [153., 190., 208.]],\n",
              "\n",
              "       ...,\n",
              "\n",
              "       [[219., 236., 243.],\n",
              "        [220., 237., 244.],\n",
              "        [220., 237., 244.],\n",
              "        ...,\n",
              "        [154., 161., 167.],\n",
              "        [153., 160., 166.],\n",
              "        [154., 162., 165.]],\n",
              "\n",
              "       [[220., 237., 244.],\n",
              "        [221., 238., 245.],\n",
              "        [221., 238., 245.],\n",
              "        ...,\n",
              "        [156., 163., 169.],\n",
              "        [155., 163., 166.],\n",
              "        [155., 163., 166.]],\n",
              "\n",
              "       [[222., 239., 246.],\n",
              "        [222., 239., 246.],\n",
              "        [222., 239., 246.],\n",
              "        ...,\n",
              "        [160., 167., 173.],\n",
              "        [160., 168., 171.],\n",
              "        [160., 168., 171.]]], dtype=float32)"
            ]
          },
          "metadata": {
            "tags": []
          },
          "execution_count": 0
        }
      ]
    },
    {
      "cell_type": "code",
      "metadata": {
        "colab": {
          "background_save": true
        },
        "id": "ORRjsaulIPxh",
        "outputId": "00449917-e18a-45d8-f449-26301a4c02a2"
      },
      "source": [
        "pic_array.shape"
      ],
      "execution_count": null,
      "outputs": [
        {
          "output_type": "execute_result",
          "data": {
            "text/plain": [
              "(384, 512, 3)"
            ]
          },
          "metadata": {
            "tags": []
          },
          "execution_count": 0
        }
      ]
    },
    {
      "cell_type": "code",
      "metadata": {
        "id": "pAIN4Sj7IRTB"
      },
      "source": [
        ""
      ],
      "execution_count": null,
      "outputs": []
    },
    {
      "cell_type": "markdown",
      "metadata": {
        "id": "-IZJJvxfVegD"
      },
      "source": [
        "# ResNet"
      ]
    },
    {
      "cell_type": "code",
      "metadata": {
        "id": "O5FuT_HtVmVL"
      },
      "source": [
        "import tensorflow as tf"
      ],
      "execution_count": null,
      "outputs": []
    },
    {
      "cell_type": "code",
      "metadata": {
        "colab": {
          "base_uri": "https://localhost:8080/",
          "height": 419
        },
        "id": "skMo66R-Xf3w",
        "outputId": "7e512b74-9647-42c0-a9cc-f14b8e6c293c"
      },
      "source": [
        "for i in range(len(df_training['Image'])):\n",
        "  if df_training['Food/Non-Food'][i] == 1:\n",
        "    df_training['Food/Non-Food'][i] = 'Food'\n",
        "  else:\n",
        "    df_training['Food/Non-Food'][i] = 'Non-Food'\n",
        "  # df_training['Image'][i] = df_training['Image'][i].split(\"/\")[8]\n",
        "df_training"
      ],
      "execution_count": null,
      "outputs": [
        {
          "output_type": "execute_result",
          "data": {
            "text/html": [
              "<div>\n",
              "<style scoped>\n",
              "    .dataframe tbody tr th:only-of-type {\n",
              "        vertical-align: middle;\n",
              "    }\n",
              "\n",
              "    .dataframe tbody tr th {\n",
              "        vertical-align: top;\n",
              "    }\n",
              "\n",
              "    .dataframe thead th {\n",
              "        text-align: right;\n",
              "    }\n",
              "</style>\n",
              "<table border=\"1\" class=\"dataframe\">\n",
              "  <thead>\n",
              "    <tr style=\"text-align: right;\">\n",
              "      <th></th>\n",
              "      <th>Image</th>\n",
              "      <th>Food/Non-Food</th>\n",
              "    </tr>\n",
              "  </thead>\n",
              "  <tbody>\n",
              "    <tr>\n",
              "      <th>0</th>\n",
              "      <td>/content/drive/MyDrive/Tatras projects/Food No...</td>\n",
              "      <td>Food</td>\n",
              "    </tr>\n",
              "    <tr>\n",
              "      <th>1</th>\n",
              "      <td>/content/drive/MyDrive/Tatras projects/Food No...</td>\n",
              "      <td>Food</td>\n",
              "    </tr>\n",
              "    <tr>\n",
              "      <th>2</th>\n",
              "      <td>/content/drive/MyDrive/Tatras projects/Food No...</td>\n",
              "      <td>Food</td>\n",
              "    </tr>\n",
              "    <tr>\n",
              "      <th>3</th>\n",
              "      <td>/content/drive/MyDrive/Tatras projects/Food No...</td>\n",
              "      <td>Food</td>\n",
              "    </tr>\n",
              "    <tr>\n",
              "      <th>4</th>\n",
              "      <td>/content/drive/MyDrive/Tatras projects/Food No...</td>\n",
              "      <td>Food</td>\n",
              "    </tr>\n",
              "    <tr>\n",
              "      <th>...</th>\n",
              "      <td>...</td>\n",
              "      <td>...</td>\n",
              "    </tr>\n",
              "    <tr>\n",
              "      <th>2995</th>\n",
              "      <td>/content/drive/MyDrive/Tatras projects/Food No...</td>\n",
              "      <td>Non-Food</td>\n",
              "    </tr>\n",
              "    <tr>\n",
              "      <th>2996</th>\n",
              "      <td>/content/drive/MyDrive/Tatras projects/Food No...</td>\n",
              "      <td>Non-Food</td>\n",
              "    </tr>\n",
              "    <tr>\n",
              "      <th>2997</th>\n",
              "      <td>/content/drive/MyDrive/Tatras projects/Food No...</td>\n",
              "      <td>Non-Food</td>\n",
              "    </tr>\n",
              "    <tr>\n",
              "      <th>2998</th>\n",
              "      <td>/content/drive/MyDrive/Tatras projects/Food No...</td>\n",
              "      <td>Non-Food</td>\n",
              "    </tr>\n",
              "    <tr>\n",
              "      <th>2999</th>\n",
              "      <td>/content/drive/MyDrive/Tatras projects/Food No...</td>\n",
              "      <td>Non-Food</td>\n",
              "    </tr>\n",
              "  </tbody>\n",
              "</table>\n",
              "<p>3000 rows × 2 columns</p>\n",
              "</div>"
            ],
            "text/plain": [
              "                                                  Image Food/Non-Food\n",
              "0     /content/drive/MyDrive/Tatras projects/Food No...          Food\n",
              "1     /content/drive/MyDrive/Tatras projects/Food No...          Food\n",
              "2     /content/drive/MyDrive/Tatras projects/Food No...          Food\n",
              "3     /content/drive/MyDrive/Tatras projects/Food No...          Food\n",
              "4     /content/drive/MyDrive/Tatras projects/Food No...          Food\n",
              "...                                                 ...           ...\n",
              "2995  /content/drive/MyDrive/Tatras projects/Food No...      Non-Food\n",
              "2996  /content/drive/MyDrive/Tatras projects/Food No...      Non-Food\n",
              "2997  /content/drive/MyDrive/Tatras projects/Food No...      Non-Food\n",
              "2998  /content/drive/MyDrive/Tatras projects/Food No...      Non-Food\n",
              "2999  /content/drive/MyDrive/Tatras projects/Food No...      Non-Food\n",
              "\n",
              "[3000 rows x 2 columns]"
            ]
          },
          "metadata": {
            "tags": []
          },
          "execution_count": 15
        }
      ]
    },
    {
      "cell_type": "code",
      "metadata": {
        "colab": {
          "base_uri": "https://localhost:8080/",
          "height": 35
        },
        "id": "TYVcxBB-bJa6",
        "outputId": "7f5304b0-200d-4b83-8f99-1001f5b6dfe5"
      },
      "source": [
        "df_training['Image'][0].split(\"/\")[8]"
      ],
      "execution_count": null,
      "outputs": [
        {
          "output_type": "execute_result",
          "data": {
            "application/vnd.google.colaboratory.intrinsic+json": {
              "type": "string"
            },
            "text/plain": [
              "'1287.jpg'"
            ]
          },
          "metadata": {
            "tags": []
          },
          "execution_count": 16
        }
      ]
    },
    {
      "cell_type": "code",
      "metadata": {
        "colab": {
          "base_uri": "https://localhost:8080/",
          "height": 572
        },
        "id": "BzWU2iZodA5e",
        "outputId": "89a88d19-bc2a-4faa-d50c-851616492dcf"
      },
      "source": [
        "import pandas as pd\n",
        "import os\n",
        "import glob\n",
        "from tqdm import tqdm\n",
        "df_validation = pd.DataFrame(columns = ['Image','Food/Non-Food'])\n",
        "print(df_validation)\n",
        "#appending names of these files in the csv file with lables food or nonfood \n",
        "validation_direc = '/content/drive/MyDrive/Tatras projects/Food Nonfood data /validation'\n",
        "print(validation_direc)\n",
        "\n",
        "# for food directory\n",
        "food_direcval = validation_direc+\"/food/\"\n",
        "nonfood_direcval = validation_direc+\"/non_food/\"\n",
        "print(food_direcval)\n",
        "print(nonfood_direcval)\n",
        "\n",
        "list_food_items = [f for f in tqdm(glob.glob(food_direcval+\"*.jpg\"))]\n",
        "list_nonfood_items = [f for f in tqdm(glob.glob(nonfood_direcval+\"*.jpg\"))]\n",
        "print(len(list_food_items),len(list_nonfood_items))\n",
        "df_validation['Image'] = list_food_items + list_nonfood_items\n",
        "for i in range(len(df_validation['Image'])):\n",
        "  if df_validation['Image'][i] in list_food_items:\n",
        "    df_validation['Food/Non-Food'][i] = 'Food'\n",
        "  else:\n",
        "    df_validation['Food/Non-Food'][i] = 'Non-Food'\n",
        "df_validation\n",
        "# 1 is for food images and 0 is for non-fod images"
      ],
      "execution_count": null,
      "outputs": [
        {
          "output_type": "stream",
          "text": [
            "Empty DataFrame\n",
            "Columns: [Image, Food/Non-Food]\n",
            "Index: []\n",
            "/content/drive/MyDrive/Tatras projects/Food Nonfood data /validation\n",
            "/content/drive/MyDrive/Tatras projects/Food Nonfood data /validation/food/\n",
            "/content/drive/MyDrive/Tatras projects/Food Nonfood data /validation/non_food/\n"
          ],
          "name": "stdout"
        },
        {
          "output_type": "stream",
          "text": [
            "100%|██████████| 500/500 [00:00<00:00, 132613.63it/s]\n",
            "100%|██████████| 500/500 [00:00<00:00, 386500.55it/s]"
          ],
          "name": "stderr"
        },
        {
          "output_type": "stream",
          "text": [
            "500 500\n"
          ],
          "name": "stdout"
        },
        {
          "output_type": "stream",
          "text": [
            "\n"
          ],
          "name": "stderr"
        },
        {
          "output_type": "execute_result",
          "data": {
            "text/html": [
              "<div>\n",
              "<style scoped>\n",
              "    .dataframe tbody tr th:only-of-type {\n",
              "        vertical-align: middle;\n",
              "    }\n",
              "\n",
              "    .dataframe tbody tr th {\n",
              "        vertical-align: top;\n",
              "    }\n",
              "\n",
              "    .dataframe thead th {\n",
              "        text-align: right;\n",
              "    }\n",
              "</style>\n",
              "<table border=\"1\" class=\"dataframe\">\n",
              "  <thead>\n",
              "    <tr style=\"text-align: right;\">\n",
              "      <th></th>\n",
              "      <th>Image</th>\n",
              "      <th>Food/Non-Food</th>\n",
              "    </tr>\n",
              "  </thead>\n",
              "  <tbody>\n",
              "    <tr>\n",
              "      <th>0</th>\n",
              "      <td>/content/drive/MyDrive/Tatras projects/Food No...</td>\n",
              "      <td>Food</td>\n",
              "    </tr>\n",
              "    <tr>\n",
              "      <th>1</th>\n",
              "      <td>/content/drive/MyDrive/Tatras projects/Food No...</td>\n",
              "      <td>Food</td>\n",
              "    </tr>\n",
              "    <tr>\n",
              "      <th>2</th>\n",
              "      <td>/content/drive/MyDrive/Tatras projects/Food No...</td>\n",
              "      <td>Food</td>\n",
              "    </tr>\n",
              "    <tr>\n",
              "      <th>3</th>\n",
              "      <td>/content/drive/MyDrive/Tatras projects/Food No...</td>\n",
              "      <td>Food</td>\n",
              "    </tr>\n",
              "    <tr>\n",
              "      <th>4</th>\n",
              "      <td>/content/drive/MyDrive/Tatras projects/Food No...</td>\n",
              "      <td>Food</td>\n",
              "    </tr>\n",
              "    <tr>\n",
              "      <th>...</th>\n",
              "      <td>...</td>\n",
              "      <td>...</td>\n",
              "    </tr>\n",
              "    <tr>\n",
              "      <th>995</th>\n",
              "      <td>/content/drive/MyDrive/Tatras projects/Food No...</td>\n",
              "      <td>Non-Food</td>\n",
              "    </tr>\n",
              "    <tr>\n",
              "      <th>996</th>\n",
              "      <td>/content/drive/MyDrive/Tatras projects/Food No...</td>\n",
              "      <td>Non-Food</td>\n",
              "    </tr>\n",
              "    <tr>\n",
              "      <th>997</th>\n",
              "      <td>/content/drive/MyDrive/Tatras projects/Food No...</td>\n",
              "      <td>Non-Food</td>\n",
              "    </tr>\n",
              "    <tr>\n",
              "      <th>998</th>\n",
              "      <td>/content/drive/MyDrive/Tatras projects/Food No...</td>\n",
              "      <td>Non-Food</td>\n",
              "    </tr>\n",
              "    <tr>\n",
              "      <th>999</th>\n",
              "      <td>/content/drive/MyDrive/Tatras projects/Food No...</td>\n",
              "      <td>Non-Food</td>\n",
              "    </tr>\n",
              "  </tbody>\n",
              "</table>\n",
              "<p>1000 rows × 2 columns</p>\n",
              "</div>"
            ],
            "text/plain": [
              "                                                 Image Food/Non-Food\n",
              "0    /content/drive/MyDrive/Tatras projects/Food No...          Food\n",
              "1    /content/drive/MyDrive/Tatras projects/Food No...          Food\n",
              "2    /content/drive/MyDrive/Tatras projects/Food No...          Food\n",
              "3    /content/drive/MyDrive/Tatras projects/Food No...          Food\n",
              "4    /content/drive/MyDrive/Tatras projects/Food No...          Food\n",
              "..                                                 ...           ...\n",
              "995  /content/drive/MyDrive/Tatras projects/Food No...      Non-Food\n",
              "996  /content/drive/MyDrive/Tatras projects/Food No...      Non-Food\n",
              "997  /content/drive/MyDrive/Tatras projects/Food No...      Non-Food\n",
              "998  /content/drive/MyDrive/Tatras projects/Food No...      Non-Food\n",
              "999  /content/drive/MyDrive/Tatras projects/Food No...      Non-Food\n",
              "\n",
              "[1000 rows x 2 columns]"
            ]
          },
          "metadata": {
            "tags": []
          },
          "execution_count": 17
        }
      ]
    },
    {
      "cell_type": "code",
      "metadata": {
        "colab": {
          "base_uri": "https://localhost:8080/"
        },
        "id": "SXSd7G_UVqwC",
        "outputId": "7655a9f0-7159-4b5f-ddb8-2b44720b00ea"
      },
      "source": [
        "from tensorflow.keras.preprocessing.image import ImageDataGenerator\n",
        "\n",
        "train_datagen = ImageDataGenerator(\n",
        "    featurewise_center=True,\n",
        "    featurewise_std_normalization=True,\n",
        "    rotation_range=20,\n",
        "    width_shift_range=0.2,\n",
        "    height_shift_range=0.2,\n",
        "    horizontal_flip=True,\n",
        ")\n",
        "\n",
        "\n",
        "# train_generator = train_datagen.flow_from_dataframe(\n",
        "#     df_training,\n",
        "#     directory='/content/drive/MyDrive/Tatras projects/Food Nonfood data /training',\n",
        "#     x_col='Image',\n",
        "#     y_col='Food/Non-Food',\n",
        "#     classes = ['food','non-food'],\n",
        "#     target_size=(224, 224),\n",
        "#     batch_size = 10\n",
        "# )\n",
        "train_generator = train_datagen.flow_from_dataframe(\n",
        "    df_training,\n",
        "    directory='/content/drive/MyDrive/Tatras projects/Food Nonfood data /training',\n",
        "    x_col='Image',\n",
        "    y_col='Food/Non-Food',\n",
        "    class_mode='binary',\n",
        "    target_size=(224, 224)\n",
        ")\n",
        "val_datagen = ImageDataGenerator(\n",
        "    featurewise_center=True,\n",
        "    featurewise_std_normalization=True,\n",
        "    rotation_range=20,\n",
        "    width_shift_range=0.2,\n",
        "    height_shift_range=0.2,\n",
        "    horizontal_flip=True,\n",
        ") \n",
        "val_generator = train_datagen.flow_from_dataframe(\n",
        "    df_validation,\n",
        "    directory='/content/drive/MyDrive/Tatras projects/Food Nonfood data /validation',\n",
        "    x_col='Image',\n",
        "    y_col='Food/Non-Food',\n",
        "    class_mode='binary',\n",
        "    target_size=(224, 224)\n",
        ")"
      ],
      "execution_count": null,
      "outputs": [
        {
          "output_type": "stream",
          "text": [
            "Found 3000 validated image filenames belonging to 2 classes.\n",
            "Found 1000 validated image filenames belonging to 2 classes.\n"
          ],
          "name": "stdout"
        }
      ]
    },
    {
      "cell_type": "code",
      "metadata": {
        "colab": {
          "base_uri": "https://localhost:8080/"
        },
        "id": "3XT1tcOFV6m1",
        "outputId": "97134349-2135-4598-de68-62b75c4eceeb"
      },
      "source": [
        "from tensorflow.keras.applications import Xception\n",
        "\n",
        "feature_extractor = Xception(weights='imagenet', \n",
        "                             input_shape=(224, 224, 3),\n",
        "                             include_top=False)\n",
        "feature_extractor.trainable = False\n",
        "\n",
        "input_ = tf.keras.Input(shape=(224, 224, 3))\n",
        "\n",
        "x = feature_extractor(input_, training=False)\n",
        "x = tf.keras.layers.GlobalAveragePooling2D()(x)\n",
        "\n",
        "output_ = tf.keras.layers.Dense(1, activation='sigmoid')(x)\n",
        "\n",
        "model = tf.keras.Model(input_, output_)\n",
        "\n",
        "model.compile(optimizer='adam',\n",
        "             loss='binary_crossentropy',\n",
        "             metrics=['accuracy'])\n",
        "\n",
        "model.fit(train_generator, epochs=20, validation_data=val_generator)\n",
        "\n",
        "model.save('./cnn_food_model')"
      ],
      "execution_count": null,
      "outputs": [
        {
          "output_type": "stream",
          "text": [
            "/usr/local/lib/python3.7/dist-packages/keras_preprocessing/image/image_data_generator.py:720: UserWarning: This ImageDataGenerator specifies `featurewise_center`, but it hasn't been fit on any training data. Fit it first by calling `.fit(numpy_data)`.\n",
            "  warnings.warn('This ImageDataGenerator specifies '\n",
            "/usr/local/lib/python3.7/dist-packages/keras_preprocessing/image/image_data_generator.py:728: UserWarning: This ImageDataGenerator specifies `featurewise_std_normalization`, but it hasn't been fit on any training data. Fit it first by calling `.fit(numpy_data)`.\n",
            "  warnings.warn('This ImageDataGenerator specifies '\n"
          ],
          "name": "stderr"
        },
        {
          "output_type": "stream",
          "text": [
            "Epoch 1/20\n",
            "94/94 [==============================] - ETA: 0s - loss: 1.2965 - accuracy: 0.6543"
          ],
          "name": "stdout"
        }
      ]
    },
    {
      "cell_type": "code",
      "metadata": {
        "id": "npCkY6odV_kj",
        "colab": {
          "base_uri": "https://localhost:8080/"
        },
        "outputId": "bd32312b-66f3-4ada-d16d-637e0990b0b4"
      },
      "source": [
        "from tensorflow.keras.applications import ResNet50\n",
        "\n",
        "feature_extractor = ResNet50(weights='imagenet', \n",
        "                             input_shape=(224, 224, 3),\n",
        "                             include_top=False)\n",
        "feature_extractor.trainable = False\n",
        "\n",
        "input_ = tf.keras.Input(shape=(224, 224, 3))\n",
        "\n",
        "x = feature_extractor(input_, training=False)\n",
        "x = tf.keras.layers.GlobalAveragePooling2D()(x)\n",
        "\n",
        "output_ = tf.keras.layers.Dense(1, activation='sigmoid')(x)\n",
        "\n",
        "model = tf.keras.Model(input_, output_)\n",
        "\n",
        "model.compile(optimizer='adam',\n",
        "             loss='binary_crossentropy',\n",
        "             metrics=['accuracy'])\n",
        "\n",
        "model.fit(train_generator, epochs=20, validation_data=val_generator)\n",
        "\n",
        "model.save('./resnet50_food_model')"
      ],
      "execution_count": null,
      "outputs": [
        {
          "output_type": "stream",
          "text": [
            "Downloading data from https://storage.googleapis.com/tensorflow/keras-applications/resnet/resnet50_weights_tf_dim_ordering_tf_kernels_notop.h5\n",
            "94773248/94765736 [==============================] - 1s 0us/step\n"
          ],
          "name": "stdout"
        },
        {
          "output_type": "stream",
          "text": [
            "/usr/local/lib/python3.7/dist-packages/keras_preprocessing/image/image_data_generator.py:720: UserWarning: This ImageDataGenerator specifies `featurewise_center`, but it hasn't been fit on any training data. Fit it first by calling `.fit(numpy_data)`.\n",
            "  warnings.warn('This ImageDataGenerator specifies '\n",
            "/usr/local/lib/python3.7/dist-packages/keras_preprocessing/image/image_data_generator.py:728: UserWarning: This ImageDataGenerator specifies `featurewise_std_normalization`, but it hasn't been fit on any training data. Fit it first by calling `.fit(numpy_data)`.\n",
            "  warnings.warn('This ImageDataGenerator specifies '\n"
          ],
          "name": "stderr"
        },
        {
          "output_type": "stream",
          "text": [
            "Epoch 1/20\n",
            "94/94 [==============================] - 1121s 12s/step - loss: 0.2596 - accuracy: 0.8883 - val_loss: 0.1385 - val_accuracy: 0.9560\n",
            "Epoch 2/20\n",
            "94/94 [==============================] - 627s 7s/step - loss: 0.1052 - accuracy: 0.9650 - val_loss: 0.0882 - val_accuracy: 0.9740\n",
            "Epoch 3/20\n",
            "94/94 [==============================] - 625s 7s/step - loss: 0.0887 - accuracy: 0.9693 - val_loss: 0.0927 - val_accuracy: 0.9700\n",
            "Epoch 4/20\n",
            "94/94 [==============================] - 622s 7s/step - loss: 0.0779 - accuracy: 0.9747 - val_loss: 0.0848 - val_accuracy: 0.9690\n",
            "Epoch 5/20\n",
            "94/94 [==============================] - 617s 7s/step - loss: 0.0674 - accuracy: 0.9787 - val_loss: 0.0759 - val_accuracy: 0.9750\n",
            "Epoch 6/20\n",
            "94/94 [==============================] - 628s 7s/step - loss: 0.0604 - accuracy: 0.9787 - val_loss: 0.0718 - val_accuracy: 0.9790\n",
            "Epoch 7/20\n",
            "94/94 [==============================] - 643s 7s/step - loss: 0.0575 - accuracy: 0.9830 - val_loss: 0.0607 - val_accuracy: 0.9830\n",
            "Epoch 8/20\n",
            "94/94 [==============================] - 645s 7s/step - loss: 0.0474 - accuracy: 0.9807 - val_loss: 0.0568 - val_accuracy: 0.9790\n",
            "Epoch 9/20\n",
            "94/94 [==============================] - 642s 7s/step - loss: 0.0478 - accuracy: 0.9860 - val_loss: 0.0608 - val_accuracy: 0.9780\n",
            "Epoch 10/20\n",
            "94/94 [==============================] - 643s 7s/step - loss: 0.0450 - accuracy: 0.9853 - val_loss: 0.0616 - val_accuracy: 0.9740\n",
            "Epoch 11/20\n",
            "94/94 [==============================] - 662s 7s/step - loss: 0.0439 - accuracy: 0.9830 - val_loss: 0.0633 - val_accuracy: 0.9790\n",
            "Epoch 12/20\n",
            "94/94 [==============================] - 658s 7s/step - loss: 0.0390 - accuracy: 0.9880 - val_loss: 0.0783 - val_accuracy: 0.9690\n",
            "Epoch 13/20\n",
            "94/94 [==============================] - 654s 7s/step - loss: 0.0413 - accuracy: 0.9860 - val_loss: 0.0686 - val_accuracy: 0.9760\n",
            "Epoch 14/20\n",
            "94/94 [==============================] - 647s 7s/step - loss: 0.0365 - accuracy: 0.9883 - val_loss: 0.0595 - val_accuracy: 0.9820\n",
            "Epoch 15/20\n",
            "94/94 [==============================] - 650s 7s/step - loss: 0.0302 - accuracy: 0.9900 - val_loss: 0.0467 - val_accuracy: 0.9850\n",
            "Epoch 16/20\n",
            "94/94 [==============================] - 635s 7s/step - loss: 0.0325 - accuracy: 0.9900 - val_loss: 0.0512 - val_accuracy: 0.9820\n",
            "Epoch 17/20\n",
            "94/94 [==============================] - 629s 7s/step - loss: 0.0277 - accuracy: 0.9913 - val_loss: 0.0568 - val_accuracy: 0.9800\n",
            "Epoch 18/20\n",
            "94/94 [==============================] - 629s 7s/step - loss: 0.0278 - accuracy: 0.9913 - val_loss: 0.0512 - val_accuracy: 0.9840\n",
            "Epoch 19/20\n",
            "94/94 [==============================] - 624s 7s/step - loss: 0.0253 - accuracy: 0.9923 - val_loss: 0.0520 - val_accuracy: 0.9810\n",
            "Epoch 20/20\n",
            "94/94 [==============================] - 621s 7s/step - loss: 0.0267 - accuracy: 0.9930 - val_loss: 0.0471 - val_accuracy: 0.9850\n"
          ],
          "name": "stdout"
        },
        {
          "output_type": "stream",
          "text": [
            "/usr/local/lib/python3.7/dist-packages/tensorflow/python/keras/utils/generic_utils.py:497: CustomMaskWarning: Custom mask layers require a config and must override get_config. When loading, the custom mask layer must be passed to the custom_objects argument.\n",
            "  category=CustomMaskWarning)\n"
          ],
          "name": "stderr"
        },
        {
          "output_type": "stream",
          "text": [
            "INFO:tensorflow:Assets written to: ./resnet50_food_model/assets\n"
          ],
          "name": "stdout"
        }
      ]
    },
    {
      "cell_type": "code",
      "metadata": {
        "id": "4xRRdJ8BeyYx"
      },
      "source": [
        ""
      ],
      "execution_count": null,
      "outputs": []
    }
  ]
}