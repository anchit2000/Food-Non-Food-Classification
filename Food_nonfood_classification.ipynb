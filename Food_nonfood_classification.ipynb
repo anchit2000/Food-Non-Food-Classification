{
  "nbformat": 4,
  "nbformat_minor": 0,
  "metadata": {
    "colab": {
      "name": "Food nonfood classification.ipynb",
      "provenance": [],
      "collapsed_sections": [
        "n1wlaJ2tHE-R",
        "N0swOIqVHKsy"
      ],
      "include_colab_link": true
    },
    "kernelspec": {
      "display_name": "Python 3",
      "name": "python3"
    },
    "language_info": {
      "name": "python"
    }
  },
  "cells": [
    {
      "cell_type": "markdown",
      "metadata": {
        "id": "view-in-github",
        "colab_type": "text"
      },
      "source": [
        "<a href=\"https://colab.research.google.com/github/anchit2000/Food-Non-Food-Classification/blob/main/Food_nonfood_classification.ipynb\" target=\"_parent\"><img src=\"https://colab.research.google.com/assets/colab-badge.svg\" alt=\"Open In Colab\"/></a>"
      ]
    },
    {
      "cell_type": "code",
      "metadata": {
        "colab": {
          "base_uri": "https://localhost:8080/"
        },
        "id": "AKLRyJumDlJ5",
        "outputId": "de07b043-0648-49be-fb3c-fcc317d8ffd4"
      },
      "source": [
        "print(\"hello\")"
      ],
      "execution_count": null,
      "outputs": [
        {
          "output_type": "stream",
          "text": [
            "hello\n"
          ],
          "name": "stdout"
        }
      ]
    },
    {
      "cell_type": "code",
      "metadata": {
        "colab": {
          "base_uri": "https://localhost:8080/"
        },
        "id": "TOQF5tgdDr5W",
        "outputId": "1212a8b0-b1c0-459f-e732-04b31befb6c1"
      },
      "source": [
        "from google.colab import drive\n",
        "drive.mount('/content/drive')"
      ],
      "execution_count": null,
      "outputs": [
        {
          "output_type": "stream",
          "text": [
            "Mounted at /content/drive\n"
          ],
          "name": "stdout"
        }
      ]
    },
    {
      "cell_type": "code",
      "metadata": {
        "colab": {
          "base_uri": "https://localhost:8080/"
        },
        "id": "uYuWsr4seYTb",
        "outputId": "a23e6e79-67bb-4960-d9ed-8c6114f6f0f4"
      },
      "source": [
        "cd drive/"
      ],
      "execution_count": null,
      "outputs": [
        {
          "output_type": "stream",
          "text": [
            "/content/drive\n"
          ],
          "name": "stdout"
        }
      ]
    },
    {
      "cell_type": "code",
      "metadata": {
        "colab": {
          "base_uri": "https://localhost:8080/"
        },
        "id": "hB3iA19jFwww",
        "outputId": "a7b13cb6-23f1-4e0a-9f0e-624c835deb4b"
      },
      "source": [
        "cd MyDrive/"
      ],
      "execution_count": null,
      "outputs": [
        {
          "output_type": "stream",
          "text": [
            "/content/drive/MyDrive\n"
          ],
          "name": "stdout"
        }
      ]
    },
    {
      "cell_type": "code",
      "metadata": {
        "colab": {
          "base_uri": "https://localhost:8080/"
        },
        "id": "KxHzXYylGJz9",
        "outputId": "8a6a74b7-163b-40f2-f80a-c45a6b5b5de3"
      },
      "source": [
        "cd Tatras\\ projects"
      ],
      "execution_count": null,
      "outputs": [
        {
          "output_type": "stream",
          "text": [
            "/content/drive/MyDrive/Tatras projects\n"
          ],
          "name": "stdout"
        }
      ]
    },
    {
      "cell_type": "code",
      "metadata": {
        "colab": {
          "base_uri": "https://localhost:8080/"
        },
        "id": "UfdYXxAbep3F",
        "outputId": "18e8257b-83f9-4f58-9d3e-4994a2ddda96"
      },
      "source": [
        "ls"
      ],
      "execution_count": null,
      "outputs": [
        {
          "output_type": "stream",
          "text": [
            "\u001b[0m\u001b[01;34m'Food Nonfood data '\u001b[0m/  \u001b[01;34m'Jobs data'\u001b[0m/  \u001b[01;34m'News Evaluation'\u001b[0m/   sample.csv\n"
          ],
          "name": "stdout"
        }
      ]
    },
    {
      "cell_type": "code",
      "metadata": {
        "colab": {
          "base_uri": "https://localhost:8080/"
        },
        "id": "-bfQEF3NGOud",
        "outputId": "71cd2be8-11f6-4c90-b972-5d76f5babf5a"
      },
      "source": [
        "cd Food\\ Nonfood\\ data\\ "
      ],
      "execution_count": null,
      "outputs": [
        {
          "output_type": "stream",
          "text": [
            "/content/drive/MyDrive/Tatras projects/Food Nonfood data \n"
          ],
          "name": "stdout"
        }
      ]
    },
    {
      "cell_type": "code",
      "metadata": {
        "colab": {
          "base_uri": "https://localhost:8080/"
        },
        "id": "hg9QSqSFGRTi",
        "outputId": "9bdfc6e7-bfe6-41b9-c776-23abdeb4ebe8"
      },
      "source": [
        "cd training/"
      ],
      "execution_count": null,
      "outputs": [
        {
          "output_type": "stream",
          "text": [
            "/content/drive/MyDrive/Tatras projects/Food Nonfood data /training\n"
          ],
          "name": "stdout"
        }
      ]
    },
    {
      "cell_type": "code",
      "metadata": {
        "id": "TEMHRdzpGSqs"
      },
      "source": [
        "# Reached till data"
      ],
      "execution_count": null,
      "outputs": []
    },
    {
      "cell_type": "code",
      "metadata": {
        "id": "cIrySXSlMxs9"
      },
      "source": [
        "# Loading Train and test images data"
      ],
      "execution_count": null,
      "outputs": []
    },
    {
      "cell_type": "code",
      "metadata": {
        "colab": {
          "base_uri": "https://localhost:8080/"
        },
        "id": "4yAnqU9DUHoo",
        "outputId": "b6777aab-af30-4c18-ea50-f7b0888ab992"
      },
      "source": [
        "import pandas as pd\n",
        "import os\n",
        "import glob\n",
        "from tqdm import tqdm\n",
        "df_training = pd.DataFrame(columns = ['Image','Food/Non-Food'])\n",
        "print(df_training)\n",
        "#appending names of these files in the csv file with lables food or nonfood \n",
        "training_direc = os.getcwd()\n",
        "print(training_direc)\n",
        "\n",
        "# for food directory\n",
        "food_direc = training_direc+\"/food/\"\n",
        "nonfood_direc = training_direc+\"/non_food/\"\n",
        "print(food_direc)\n",
        "print(nonfood_direc)"
      ],
      "execution_count": null,
      "outputs": [
        {
          "output_type": "stream",
          "text": [
            "Empty DataFrame\n",
            "Columns: [Image, Food/Non-Food]\n",
            "Index: []\n",
            "/content/drive/MyDrive/Tatras projects/Food Nonfood data /training\n",
            "/content/drive/MyDrive/Tatras projects/Food Nonfood data /training/food/\n",
            "/content/drive/MyDrive/Tatras projects/Food Nonfood data /training/non_food/\n"
          ],
          "name": "stdout"
        }
      ]
    },
    {
      "cell_type": "code",
      "metadata": {
        "colab": {
          "base_uri": "https://localhost:8080/",
          "height": 470
        },
        "id": "aG3aqWoOWEDC",
        "outputId": "d1511d48-bff7-48e0-ed73-938d01d2aa3c"
      },
      "source": [
        "list_food_items = [f for f in tqdm(glob.glob(food_direc+\"*.jpg\"))]\n",
        "list_nonfood_items = [f for f in tqdm(glob.glob(nonfood_direc+\"*.jpg\"))]\n",
        "print(len(list_food_items),len(list_nonfood_items))\n",
        "df_training['Image'] = list_food_items + list_nonfood_items\n",
        "for i in range(len(df_training['Image'])):\n",
        "  if df_training['Image'][i] in list_food_items:\n",
        "    df_training['Food/Non-Food'][i] = 1\n",
        "  else:\n",
        "    df_training['Food/Non-Food'][i] = 0\n",
        "df_training\n",
        "# 1 is for food images and 0 is for non-fod images"
      ],
      "execution_count": null,
      "outputs": [
        {
          "output_type": "stream",
          "text": [
            "100%|██████████| 1500/1500 [00:00<00:00, 288598.90it/s]\n",
            "100%|██████████| 1500/1500 [00:00<00:00, 800032.55it/s]\n"
          ],
          "name": "stderr"
        },
        {
          "output_type": "stream",
          "text": [
            "1500 1500\n"
          ],
          "name": "stdout"
        },
        {
          "output_type": "execute_result",
          "data": {
            "text/html": [
              "<div>\n",
              "<style scoped>\n",
              "    .dataframe tbody tr th:only-of-type {\n",
              "        vertical-align: middle;\n",
              "    }\n",
              "\n",
              "    .dataframe tbody tr th {\n",
              "        vertical-align: top;\n",
              "    }\n",
              "\n",
              "    .dataframe thead th {\n",
              "        text-align: right;\n",
              "    }\n",
              "</style>\n",
              "<table border=\"1\" class=\"dataframe\">\n",
              "  <thead>\n",
              "    <tr style=\"text-align: right;\">\n",
              "      <th></th>\n",
              "      <th>Image</th>\n",
              "      <th>Food/Non-Food</th>\n",
              "    </tr>\n",
              "  </thead>\n",
              "  <tbody>\n",
              "    <tr>\n",
              "      <th>0</th>\n",
              "      <td>/content/drive/MyDrive/Tatras projects/Food No...</td>\n",
              "      <td>1</td>\n",
              "    </tr>\n",
              "    <tr>\n",
              "      <th>1</th>\n",
              "      <td>/content/drive/MyDrive/Tatras projects/Food No...</td>\n",
              "      <td>1</td>\n",
              "    </tr>\n",
              "    <tr>\n",
              "      <th>2</th>\n",
              "      <td>/content/drive/MyDrive/Tatras projects/Food No...</td>\n",
              "      <td>1</td>\n",
              "    </tr>\n",
              "    <tr>\n",
              "      <th>3</th>\n",
              "      <td>/content/drive/MyDrive/Tatras projects/Food No...</td>\n",
              "      <td>1</td>\n",
              "    </tr>\n",
              "    <tr>\n",
              "      <th>4</th>\n",
              "      <td>/content/drive/MyDrive/Tatras projects/Food No...</td>\n",
              "      <td>1</td>\n",
              "    </tr>\n",
              "    <tr>\n",
              "      <th>...</th>\n",
              "      <td>...</td>\n",
              "      <td>...</td>\n",
              "    </tr>\n",
              "    <tr>\n",
              "      <th>2995</th>\n",
              "      <td>/content/drive/MyDrive/Tatras projects/Food No...</td>\n",
              "      <td>0</td>\n",
              "    </tr>\n",
              "    <tr>\n",
              "      <th>2996</th>\n",
              "      <td>/content/drive/MyDrive/Tatras projects/Food No...</td>\n",
              "      <td>0</td>\n",
              "    </tr>\n",
              "    <tr>\n",
              "      <th>2997</th>\n",
              "      <td>/content/drive/MyDrive/Tatras projects/Food No...</td>\n",
              "      <td>0</td>\n",
              "    </tr>\n",
              "    <tr>\n",
              "      <th>2998</th>\n",
              "      <td>/content/drive/MyDrive/Tatras projects/Food No...</td>\n",
              "      <td>0</td>\n",
              "    </tr>\n",
              "    <tr>\n",
              "      <th>2999</th>\n",
              "      <td>/content/drive/MyDrive/Tatras projects/Food No...</td>\n",
              "      <td>0</td>\n",
              "    </tr>\n",
              "  </tbody>\n",
              "</table>\n",
              "<p>3000 rows × 2 columns</p>\n",
              "</div>"
            ],
            "text/plain": [
              "                                                  Image Food/Non-Food\n",
              "0     /content/drive/MyDrive/Tatras projects/Food No...             1\n",
              "1     /content/drive/MyDrive/Tatras projects/Food No...             1\n",
              "2     /content/drive/MyDrive/Tatras projects/Food No...             1\n",
              "3     /content/drive/MyDrive/Tatras projects/Food No...             1\n",
              "4     /content/drive/MyDrive/Tatras projects/Food No...             1\n",
              "...                                                 ...           ...\n",
              "2995  /content/drive/MyDrive/Tatras projects/Food No...             0\n",
              "2996  /content/drive/MyDrive/Tatras projects/Food No...             0\n",
              "2997  /content/drive/MyDrive/Tatras projects/Food No...             0\n",
              "2998  /content/drive/MyDrive/Tatras projects/Food No...             0\n",
              "2999  /content/drive/MyDrive/Tatras projects/Food No...             0\n",
              "\n",
              "[3000 rows x 2 columns]"
            ]
          },
          "metadata": {
            "tags": []
          },
          "execution_count": 13
        }
      ]
    },
    {
      "cell_type": "code",
      "metadata": {
        "id": "x_iHrW13Zrgq"
      },
      "source": [
        "import keras\n",
        "from keras.models import Sequential,Model\n",
        "from keras.layers import Dense, Dropout, Flatten\n",
        "from keras.layers import Conv2D, MaxPooling2D\n",
        "from tensorflow.keras.utils import to_categorical\n",
        "from keras.preprocessing import image\n",
        "import numpy as np\n",
        "import pandas as pd\n",
        "import matplotlib.pyplot as plt\n",
        "from sklearn.model_selection import train_test_split\n",
        "from tensorflow.keras.utils import to_categorical\n",
        "from tqdm import tqdm"
      ],
      "execution_count": null,
      "outputs": []
    },
    {
      "cell_type": "code",
      "metadata": {
        "colab": {
          "base_uri": "https://localhost:8080/",
          "height": 409
        },
        "id": "KsnmiK8OZ6Nz",
        "outputId": "c5493cc3-00ca-4a27-d9a0-ec5be5fa4eee"
      },
      "source": [
        "train_image = []\n",
        "for i in tqdm(range(df_training.shape[0])):\n",
        "    img = image.load_img(df_training['Image'][i], target_size=(224,224,3), grayscale=False)\n",
        "    img = image.img_to_array(img)\n",
        "    img = img/255\n",
        "    train_image.append(img)\n",
        "X = np.array(train_image)\n",
        "X"
      ],
      "execution_count": null,
      "outputs": [
        {
          "output_type": "stream",
          "text": [
            "  5%|▍         | 149/3000 [00:39<13:51,  3.43it/s]"
          ],
          "name": "stderr"
        },
        {
          "output_type": "error",
          "ename": "KeyboardInterrupt",
          "evalue": "ignored",
          "traceback": [
            "\u001b[0;31m---------------------------------------------------------------------------\u001b[0m",
            "\u001b[0;31mKeyboardInterrupt\u001b[0m                         Traceback (most recent call last)",
            "\u001b[0;32m<ipython-input-22-37b1df2daf5e>\u001b[0m in \u001b[0;36m<module>\u001b[0;34m()\u001b[0m\n\u001b[1;32m      1\u001b[0m \u001b[0mtrain_image\u001b[0m \u001b[0;34m=\u001b[0m \u001b[0;34m[\u001b[0m\u001b[0;34m]\u001b[0m\u001b[0;34m\u001b[0m\u001b[0;34m\u001b[0m\u001b[0m\n\u001b[1;32m      2\u001b[0m \u001b[0;32mfor\u001b[0m \u001b[0mi\u001b[0m \u001b[0;32min\u001b[0m \u001b[0mtqdm\u001b[0m\u001b[0;34m(\u001b[0m\u001b[0mrange\u001b[0m\u001b[0;34m(\u001b[0m\u001b[0mdf_training\u001b[0m\u001b[0;34m.\u001b[0m\u001b[0mshape\u001b[0m\u001b[0;34m[\u001b[0m\u001b[0;36m0\u001b[0m\u001b[0;34m]\u001b[0m\u001b[0;34m)\u001b[0m\u001b[0;34m)\u001b[0m\u001b[0;34m:\u001b[0m\u001b[0;34m\u001b[0m\u001b[0;34m\u001b[0m\u001b[0m\n\u001b[0;32m----> 3\u001b[0;31m     \u001b[0mimg\u001b[0m \u001b[0;34m=\u001b[0m \u001b[0mimage\u001b[0m\u001b[0;34m.\u001b[0m\u001b[0mload_img\u001b[0m\u001b[0;34m(\u001b[0m\u001b[0mdf_training\u001b[0m\u001b[0;34m[\u001b[0m\u001b[0;34m'Image'\u001b[0m\u001b[0;34m]\u001b[0m\u001b[0;34m[\u001b[0m\u001b[0mi\u001b[0m\u001b[0;34m]\u001b[0m\u001b[0;34m,\u001b[0m \u001b[0mtarget_size\u001b[0m\u001b[0;34m=\u001b[0m\u001b[0;34m(\u001b[0m\u001b[0;36m224\u001b[0m\u001b[0;34m,\u001b[0m\u001b[0;36m224\u001b[0m\u001b[0;34m,\u001b[0m\u001b[0;36m3\u001b[0m\u001b[0;34m)\u001b[0m\u001b[0;34m,\u001b[0m \u001b[0mgrayscale\u001b[0m\u001b[0;34m=\u001b[0m\u001b[0;32mFalse\u001b[0m\u001b[0;34m)\u001b[0m\u001b[0;34m\u001b[0m\u001b[0;34m\u001b[0m\u001b[0m\n\u001b[0m\u001b[1;32m      4\u001b[0m     \u001b[0mimg\u001b[0m \u001b[0;34m=\u001b[0m \u001b[0mimage\u001b[0m\u001b[0;34m.\u001b[0m\u001b[0mimg_to_array\u001b[0m\u001b[0;34m(\u001b[0m\u001b[0mimg\u001b[0m\u001b[0;34m)\u001b[0m\u001b[0;34m\u001b[0m\u001b[0;34m\u001b[0m\u001b[0m\n\u001b[1;32m      5\u001b[0m     \u001b[0mimg\u001b[0m \u001b[0;34m=\u001b[0m \u001b[0mimg\u001b[0m\u001b[0;34m/\u001b[0m\u001b[0;36m255\u001b[0m\u001b[0;34m\u001b[0m\u001b[0;34m\u001b[0m\u001b[0m\n",
            "\u001b[0;32m/usr/local/lib/python3.7/dist-packages/keras/preprocessing/image.py\u001b[0m in \u001b[0;36mload_img\u001b[0;34m(path, grayscale, color_mode, target_size, interpolation)\u001b[0m\n\u001b[1;32m    291\u001b[0m   \"\"\"\n\u001b[1;32m    292\u001b[0m   return image.load_img(path, grayscale=grayscale, color_mode=color_mode,\n\u001b[0;32m--> 293\u001b[0;31m                         target_size=target_size, interpolation=interpolation)\n\u001b[0m\u001b[1;32m    294\u001b[0m \u001b[0;34m\u001b[0m\u001b[0m\n\u001b[1;32m    295\u001b[0m \u001b[0;34m\u001b[0m\u001b[0m\n",
            "\u001b[0;32m/usr/local/lib/python3.7/dist-packages/keras_preprocessing/image/utils.py\u001b[0m in \u001b[0;36mload_img\u001b[0;34m(path, grayscale, color_mode, target_size, interpolation)\u001b[0m\n\u001b[1;32m    112\u001b[0m                           'The use of `load_img` requires PIL.')\n\u001b[1;32m    113\u001b[0m     \u001b[0;32mwith\u001b[0m \u001b[0mopen\u001b[0m\u001b[0;34m(\u001b[0m\u001b[0mpath\u001b[0m\u001b[0;34m,\u001b[0m \u001b[0;34m'rb'\u001b[0m\u001b[0;34m)\u001b[0m \u001b[0;32mas\u001b[0m \u001b[0mf\u001b[0m\u001b[0;34m:\u001b[0m\u001b[0;34m\u001b[0m\u001b[0;34m\u001b[0m\u001b[0m\n\u001b[0;32m--> 114\u001b[0;31m         \u001b[0mimg\u001b[0m \u001b[0;34m=\u001b[0m \u001b[0mpil_image\u001b[0m\u001b[0;34m.\u001b[0m\u001b[0mopen\u001b[0m\u001b[0;34m(\u001b[0m\u001b[0mio\u001b[0m\u001b[0;34m.\u001b[0m\u001b[0mBytesIO\u001b[0m\u001b[0;34m(\u001b[0m\u001b[0mf\u001b[0m\u001b[0;34m.\u001b[0m\u001b[0mread\u001b[0m\u001b[0;34m(\u001b[0m\u001b[0;34m)\u001b[0m\u001b[0;34m)\u001b[0m\u001b[0;34m)\u001b[0m\u001b[0;34m\u001b[0m\u001b[0;34m\u001b[0m\u001b[0m\n\u001b[0m\u001b[1;32m    115\u001b[0m         \u001b[0;32mif\u001b[0m \u001b[0mcolor_mode\u001b[0m \u001b[0;34m==\u001b[0m \u001b[0;34m'grayscale'\u001b[0m\u001b[0;34m:\u001b[0m\u001b[0;34m\u001b[0m\u001b[0;34m\u001b[0m\u001b[0m\n\u001b[1;32m    116\u001b[0m             \u001b[0;31m# if image is not already an 8-bit, 16-bit or 32-bit grayscale image\u001b[0m\u001b[0;34m\u001b[0m\u001b[0;34m\u001b[0m\u001b[0;34m\u001b[0m\u001b[0m\n",
            "\u001b[0;31mKeyboardInterrupt\u001b[0m: "
          ]
        }
      ]
    },
    {
      "cell_type": "code",
      "metadata": {
        "id": "XIANWzHElb68"
      },
      "source": [
        "X.shape"
      ],
      "execution_count": null,
      "outputs": []
    },
    {
      "cell_type": "code",
      "metadata": {
        "id": "kOzYCBjCbnYc"
      },
      "source": [
        "y=df_training['Food/Non-Food'].values\n",
        "y = np.asarray(y).astype('int')\n",
        "y.shape"
      ],
      "execution_count": null,
      "outputs": []
    },
    {
      "cell_type": "code",
      "metadata": {
        "colab": {
          "base_uri": "https://localhost:8080/"
        },
        "id": "KAZVDw6Ffg3Y",
        "outputId": "df72ad25-beea-4cc6-8351-fa44e16dd0f9"
      },
      "source": [
        "X_train, X_test, y_train, y_test = train_test_split(X, y, random_state=42, test_size=0.2)\n",
        "X_train.shape"
      ],
      "execution_count": null,
      "outputs": [
        {
          "output_type": "execute_result",
          "data": {
            "text/plain": [
              "(2400, 224, 224, 3)"
            ]
          },
          "metadata": {
            "tags": []
          },
          "execution_count": 19
        }
      ]
    },
    {
      "cell_type": "code",
      "metadata": {
        "colab": {
          "base_uri": "https://localhost:8080/"
        },
        "id": "wvSzRXghlu1U",
        "outputId": "4b7bab1d-cd4a-4679-a422-bd95a232bab7"
      },
      "source": [
        "y_train.shape"
      ],
      "execution_count": null,
      "outputs": [
        {
          "output_type": "execute_result",
          "data": {
            "text/plain": [
              "(2400,)"
            ]
          },
          "metadata": {
            "tags": []
          },
          "execution_count": 20
        }
      ]
    },
    {
      "cell_type": "markdown",
      "metadata": {
        "id": "n1wlaJ2tHE-R"
      },
      "source": [
        "###Sequential Model"
      ]
    },
    {
      "cell_type": "code",
      "metadata": {
        "id": "7wSRDwxwfPi2"
      },
      "source": [
        "model = Sequential()\n",
        "model.add(Conv2D(32, kernel_size=(3, 3),activation='relu',input_shape=(224,224,3)))\n",
        "model.add(Conv2D(64, (3, 3), activation='relu'))\n",
        "model.add(MaxPooling2D(pool_size=(2, 2)))\n",
        "model.add(Dropout(0.25))\n",
        "model.add(Flatten())\n",
        "model.add(Dense(128, activation='relu'))\n",
        "model.add(Dropout(0.5))\n",
        "model.add(Dense(1, activation='softmax'))"
      ],
      "execution_count": null,
      "outputs": []
    },
    {
      "cell_type": "code",
      "metadata": {
        "id": "xRzvtAaBfWNF"
      },
      "source": [
        "model.compile(loss='categorical_crossentropy',optimizer='Adam',metrics=['accuracy'])"
      ],
      "execution_count": null,
      "outputs": []
    },
    {
      "cell_type": "code",
      "metadata": {
        "colab": {
          "base_uri": "https://localhost:8080/"
        },
        "id": "_oVK7aSZp5eV",
        "outputId": "4957e526-0294-48b0-d34f-4fee2257e106"
      },
      "source": [
        "print(X.shape)\n",
        "# X_train = X_train.reshape(X_train.shape[0],-1).T\n",
        "# X_test = X_test.reshape(X_test.shape[0],-1).T\n",
        "print(X_train,X_test)\n",
        "X_train.shape"
      ],
      "execution_count": null,
      "outputs": [
        {
          "output_type": "stream",
          "text": [
            "(3000, 224, 224, 3)\n",
            "[[[[0.4509804  0.41960785 0.4117647 ]\n",
            "   [0.45882353 0.42745098 0.41960785]\n",
            "   [0.46666667 0.43529412 0.42745098]\n",
            "   ...\n",
            "   [0.47843137 0.49411765 0.4392157 ]\n",
            "   [0.47843137 0.49411765 0.4392157 ]\n",
            "   [0.47843137 0.49411765 0.43529412]]\n",
            "\n",
            "  [[0.45490196 0.42352942 0.41568628]\n",
            "   [0.45882353 0.42745098 0.41960785]\n",
            "   [0.46666667 0.43529412 0.42745098]\n",
            "   ...\n",
            "   [0.48235294 0.49803922 0.44313726]\n",
            "   [0.48235294 0.49803922 0.44313726]\n",
            "   [0.47843137 0.49411765 0.43529412]]\n",
            "\n",
            "  [[0.46666667 0.43529412 0.42745098]\n",
            "   [0.46666667 0.43529412 0.42745098]\n",
            "   [0.47058824 0.4392157  0.43137255]\n",
            "   ...\n",
            "   [0.4862745  0.5019608  0.44705883]\n",
            "   [0.4862745  0.5019608  0.44705883]\n",
            "   [0.4862745  0.5019608  0.44313726]]\n",
            "\n",
            "  ...\n",
            "\n",
            "  [[0.08627451 0.07843138 0.08235294]\n",
            "   [0.09803922 0.08235294 0.08627451]\n",
            "   [0.09411765 0.07843138 0.08235294]\n",
            "   ...\n",
            "   [0.01568628 0.03137255 0.03529412]\n",
            "   [0.01176471 0.02745098 0.02352941]\n",
            "   [0.01176471 0.03137255 0.01568628]]\n",
            "\n",
            "  [[0.07843138 0.07058824 0.08235294]\n",
            "   [0.08627451 0.07843138 0.09019608]\n",
            "   [0.08627451 0.07843138 0.09019608]\n",
            "   ...\n",
            "   [0.02745098 0.02352941 0.04313726]\n",
            "   [0.03137255 0.03137255 0.03921569]\n",
            "   [0.03137255 0.03137255 0.03137255]]\n",
            "\n",
            "  [[0.08235294 0.07450981 0.09411765]\n",
            "   [0.09411765 0.08627451 0.10588235]\n",
            "   [0.09019608 0.08235294 0.09411765]\n",
            "   ...\n",
            "   [0.03137255 0.01960784 0.04705882]\n",
            "   [0.03137255 0.02352941 0.04313726]\n",
            "   [0.03137255 0.02352941 0.04313726]]]\n",
            "\n",
            "\n",
            " [[[0.46666667 0.22352941 0.03921569]\n",
            "   [0.46666667 0.21960784 0.04705882]\n",
            "   [0.47058824 0.23137255 0.05882353]\n",
            "   ...\n",
            "   [0.40784314 0.30980393 0.42745098]\n",
            "   [0.4        0.30588236 0.40784314]\n",
            "   [0.39607844 0.3019608  0.39607844]]\n",
            "\n",
            "  [[0.45882353 0.21176471 0.04313726]\n",
            "   [0.4627451  0.22352941 0.05098039]\n",
            "   [0.46666667 0.22352941 0.0627451 ]\n",
            "   ...\n",
            "   [0.41568628 0.31764707 0.43137255]\n",
            "   [0.40784314 0.3137255  0.41568628]\n",
            "   [0.3882353  0.29411766 0.3882353 ]]\n",
            "\n",
            "  [[0.45490196 0.21176471 0.05882353]\n",
            "   [0.45882353 0.21568628 0.0627451 ]\n",
            "   [0.45490196 0.21176471 0.05882353]\n",
            "   ...\n",
            "   [0.4117647  0.3137255  0.42745098]\n",
            "   [0.40392157 0.30980393 0.4117647 ]\n",
            "   [0.3882353  0.29411766 0.3882353 ]]\n",
            "\n",
            "  ...\n",
            "\n",
            "  [[0.69803923 0.64705884 0.75686276]\n",
            "   [0.6784314  0.627451   0.7294118 ]\n",
            "   [0.7137255  0.6666667  0.7607843 ]\n",
            "   ...\n",
            "   [0.3882353  0.26666668 0.28627452]\n",
            "   [0.3764706  0.25490198 0.2784314 ]\n",
            "   [0.3764706  0.25490198 0.28627452]]\n",
            "\n",
            "  [[0.7137255  0.63529414 0.78039217]\n",
            "   [0.69411767 0.6156863  0.7529412 ]\n",
            "   [0.6862745  0.61960787 0.74509805]\n",
            "   ...\n",
            "   [0.3882353  0.26666668 0.28627452]\n",
            "   [0.38039216 0.25882354 0.28235295]\n",
            "   [0.3764706  0.25490198 0.28627452]]\n",
            "\n",
            "  [[0.7372549  0.62352943 0.79607844]\n",
            "   [0.7490196  0.6431373  0.8039216 ]\n",
            "   [0.7372549  0.63529414 0.7882353 ]\n",
            "   ...\n",
            "   [0.39215687 0.27058825 0.2901961 ]\n",
            "   [0.38039216 0.25882354 0.28235295]\n",
            "   [0.38039216 0.25882354 0.2901961 ]]]\n",
            "\n",
            "\n",
            " [[[0.0627451  0.0627451  0.05490196]\n",
            "   [0.0627451  0.0627451  0.05490196]\n",
            "   [0.07058824 0.07058824 0.0627451 ]\n",
            "   ...\n",
            "   [0.         0.00784314 0.        ]\n",
            "   [0.00392157 0.01176471 0.        ]\n",
            "   [0.00392157 0.01176471 0.        ]]\n",
            "\n",
            "  [[0.07450981 0.07450981 0.06666667]\n",
            "   [0.07450981 0.07450981 0.06666667]\n",
            "   [0.08235294 0.08235294 0.07450981]\n",
            "   ...\n",
            "   [0.         0.00784314 0.        ]\n",
            "   [0.00392157 0.01176471 0.        ]\n",
            "   [0.00392157 0.01176471 0.        ]]\n",
            "\n",
            "  [[0.06666667 0.06666667 0.05882353]\n",
            "   [0.07058824 0.07058824 0.0627451 ]\n",
            "   [0.07843138 0.07843138 0.07058824]\n",
            "   ...\n",
            "   [0.         0.00784314 0.        ]\n",
            "   [0.00392157 0.01176471 0.        ]\n",
            "   [0.00392157 0.01176471 0.        ]]\n",
            "\n",
            "  ...\n",
            "\n",
            "  [[0.68235296 0.654902   0.58431375]\n",
            "   [0.68235296 0.654902   0.58431375]\n",
            "   [0.68235296 0.654902   0.58431375]\n",
            "   ...\n",
            "   [0.3372549  0.30588236 0.29803923]\n",
            "   [0.30588236 0.27058825 0.27450982]\n",
            "   [0.4392157  0.40392157 0.40784314]]\n",
            "\n",
            "  [[0.6862745  0.65882355 0.5882353 ]\n",
            "   [0.6862745  0.65882355 0.5882353 ]\n",
            "   [0.6862745  0.65882355 0.5882353 ]\n",
            "   ...\n",
            "   [0.3372549  0.31764707 0.33333334]\n",
            "   [0.5568628  0.54901963 0.5686275 ]\n",
            "   [0.4392157  0.43529412 0.45882353]]\n",
            "\n",
            "  [[0.6784314  0.6509804  0.5764706 ]\n",
            "   [0.6784314  0.6509804  0.5764706 ]\n",
            "   [0.6784314  0.6509804  0.5803922 ]\n",
            "   ...\n",
            "   [0.54509807 0.5411765  0.56078434]\n",
            "   [0.47058824 0.47058824 0.5019608 ]\n",
            "   [0.5137255  0.5254902  0.56078434]]]\n",
            "\n",
            "\n",
            " ...\n",
            "\n",
            "\n",
            " [[[0.9882353  0.6745098  0.04313726]\n",
            "   [0.99215686 0.6784314  0.04705882]\n",
            "   [0.9843137  0.67058825 0.05490196]\n",
            "   ...\n",
            "   [0.6745098  0.43529412 0.17254902]\n",
            "   [0.67058825 0.42352942 0.16078432]\n",
            "   [0.67058825 0.41568628 0.15686275]]\n",
            "\n",
            "  [[0.9372549  0.62352943 0.00784314]\n",
            "   [0.9529412  0.6392157  0.02352941]\n",
            "   [0.9372549  0.60784316 0.01568628]\n",
            "   ...\n",
            "   [0.6666667  0.42745098 0.17254902]\n",
            "   [0.6745098  0.42745098 0.16470589]\n",
            "   [0.6745098  0.41960785 0.15294118]]\n",
            "\n",
            "  [[0.9607843  0.6313726  0.04313726]\n",
            "   [0.9411765  0.6117647  0.02352941]\n",
            "   [0.9490196  0.61960787 0.03921569]\n",
            "   ...\n",
            "   [0.6745098  0.43529412 0.18039216]\n",
            "   [0.6666667  0.41960785 0.15686275]\n",
            "   [0.6431373  0.39607844 0.11764706]]\n",
            "\n",
            "  ...\n",
            "\n",
            "  [[0.9764706  0.8392157  0.57254905]\n",
            "   [0.9843137  0.84705883 0.5803922 ]\n",
            "   [0.9843137  0.84705883 0.5882353 ]\n",
            "   ...\n",
            "   [0.78431374 0.5294118  0.27058825]\n",
            "   [0.8039216  0.5411765  0.27450982]\n",
            "   [0.8117647  0.54901963 0.27058825]]\n",
            "\n",
            "  [[0.9607843  0.827451   0.5372549 ]\n",
            "   [0.972549   0.8392157  0.5568628 ]\n",
            "   [0.9843137  0.84705883 0.5803922 ]\n",
            "   ...\n",
            "   [0.79607844 0.54509807 0.26666668]\n",
            "   [0.80784315 0.5568628  0.27450982]\n",
            "   [0.8156863  0.5686275  0.26666668]]\n",
            "\n",
            "  [[0.9647059  0.8352941  0.5176471 ]\n",
            "   [0.9607843  0.83137256 0.5294118 ]\n",
            "   [0.9607843  0.8352941  0.54901963]\n",
            "   ...\n",
            "   [0.7882353  0.54509807 0.24313726]\n",
            "   [0.78431374 0.54509807 0.22745098]\n",
            "   [0.7882353  0.54901963 0.22352941]]]\n",
            "\n",
            "\n",
            " [[[0.27450982 0.14901961 0.09019608]\n",
            "   [0.2784314  0.14901961 0.08235294]\n",
            "   [0.28235295 0.15294118 0.07843138]\n",
            "   ...\n",
            "   [1.         1.         0.80784315]\n",
            "   [1.         1.         0.8       ]\n",
            "   [1.         1.         0.78431374]]\n",
            "\n",
            "  [[0.28627452 0.15686275 0.09803922]\n",
            "   [0.28627452 0.15686275 0.09019608]\n",
            "   [0.29411766 0.15686275 0.08235294]\n",
            "   ...\n",
            "   [0.98039216 0.96862745 0.69803923]\n",
            "   [0.9647059  0.9529412  0.63529414]\n",
            "   [0.93333334 0.93333334 0.54901963]]\n",
            "\n",
            "  [[0.3019608  0.16078432 0.10588235]\n",
            "   [0.3019608  0.16078432 0.09803922]\n",
            "   [0.3019608  0.16470589 0.09019608]\n",
            "   ...\n",
            "   [0.9882353  0.9843137  0.73333335]\n",
            "   [0.96862745 0.96862745 0.6862745 ]\n",
            "   [0.9490196  0.9411765  0.6392157 ]]\n",
            "\n",
            "  ...\n",
            "\n",
            "  [[0.07058824 0.08627451 0.09019608]\n",
            "   [0.0627451  0.07843138 0.08235294]\n",
            "   [0.06666667 0.08235294 0.08627451]\n",
            "   ...\n",
            "   [0.3529412  0.34509805 0.29411766]\n",
            "   [0.3647059  0.35686275 0.30588236]\n",
            "   [0.36862746 0.35686275 0.29803923]]\n",
            "\n",
            "  [[0.08235294 0.08627451 0.09411765]\n",
            "   [0.06666667 0.07058824 0.07843138]\n",
            "   [0.06666667 0.07058824 0.07843138]\n",
            "   ...\n",
            "   [0.3529412  0.35686275 0.3019608 ]\n",
            "   [0.37254903 0.3647059  0.3137255 ]\n",
            "   [0.38039216 0.37254903 0.3137255 ]]\n",
            "\n",
            "  [[0.07058824 0.07058824 0.07843138]\n",
            "   [0.07058824 0.07058824 0.07843138]\n",
            "   [0.06666667 0.06666667 0.07450981]\n",
            "   ...\n",
            "   [0.3882353  0.39215687 0.32941177]\n",
            "   [0.38431373 0.3882353  0.3254902 ]\n",
            "   [0.3882353  0.38039216 0.32941177]]]\n",
            "\n",
            "\n",
            " [[[0.28627452 0.09803922 0.08235294]\n",
            "   [0.26666668 0.09019608 0.07058824]\n",
            "   [0.27450982 0.10588235 0.08235294]\n",
            "   ...\n",
            "   [0.04313726 0.01960784 0.03529412]\n",
            "   [0.05882353 0.03529412 0.05098039]\n",
            "   [0.0627451  0.03921569 0.05490196]]\n",
            "\n",
            "  [[0.27450982 0.08235294 0.06666667]\n",
            "   [0.26666668 0.07843138 0.0627451 ]\n",
            "   [0.27450982 0.09803922 0.07843138]\n",
            "   ...\n",
            "   [0.05490196 0.03529412 0.02352941]\n",
            "   [0.05882353 0.03921569 0.02745098]\n",
            "   [0.05882353 0.03921569 0.02745098]]\n",
            "\n",
            "  [[0.2784314  0.08627451 0.07058824]\n",
            "   [0.27058825 0.08235294 0.06666667]\n",
            "   [0.2627451  0.08627451 0.06666667]\n",
            "   ...\n",
            "   [0.0627451  0.04313726 0.02745098]\n",
            "   [0.0627451  0.04313726 0.02745098]\n",
            "   [0.05882353 0.03921569 0.02352941]]\n",
            "\n",
            "  ...\n",
            "\n",
            "  [[0.8784314  0.64705884 0.4117647 ]\n",
            "   [0.83137256 0.59607846 0.36078432]\n",
            "   [0.8039216  0.54509807 0.31764707]\n",
            "   ...\n",
            "   [0.99215686 0.99607843 0.93333334]\n",
            "   [0.99215686 0.99607843 0.93333334]\n",
            "   [0.99215686 0.99607843 0.9254902 ]]\n",
            "\n",
            "  [[0.87058824 0.65882355 0.40784314]\n",
            "   [0.8509804  0.61960787 0.38431373]\n",
            "   [0.77254903 0.5294118  0.29803923]\n",
            "   ...\n",
            "   [0.99607843 0.99215686 0.92156863]\n",
            "   [0.99607843 0.99215686 0.92156863]\n",
            "   [0.99607843 0.99215686 0.92156863]]\n",
            "\n",
            "  [[0.88235295 0.68235296 0.42745098]\n",
            "   [0.8784314  0.65882355 0.41960785]\n",
            "   [0.84313726 0.60784316 0.37254903]\n",
            "   ...\n",
            "   [0.99215686 0.98039216 0.9137255 ]\n",
            "   [0.99215686 0.98039216 0.90588236]\n",
            "   [0.99215686 0.98039216 0.90588236]]]] [[[[0.4745098  0.49019608 0.5254902 ]\n",
            "   [0.46666667 0.4862745  0.50980395]\n",
            "   [0.41568628 0.43529412 0.45882353]\n",
            "   ...\n",
            "   [0.79607844 0.827451   0.8784314 ]\n",
            "   [0.8        0.83137256 0.88235295]\n",
            "   [0.8        0.83137256 0.88235295]]\n",
            "\n",
            "  [[0.6431373  0.65882355 0.69411767]\n",
            "   [0.45882353 0.47843137 0.5019608 ]\n",
            "   [0.4        0.41960785 0.44313726]\n",
            "   ...\n",
            "   [0.8039216  0.827451   0.88235295]\n",
            "   [0.8039216  0.827451   0.88235295]\n",
            "   [0.80784315 0.83137256 0.8862745 ]]\n",
            "\n",
            "  [[0.7490196  0.7647059  0.8       ]\n",
            "   [0.23921569 0.25882354 0.28235295]\n",
            "   [0.32941177 0.34901962 0.37254903]\n",
            "   ...\n",
            "   [0.8156863  0.8392157  0.8862745 ]\n",
            "   [0.8156863  0.8392157  0.8862745 ]\n",
            "   [0.8156863  0.8392157  0.8862745 ]]\n",
            "\n",
            "  ...\n",
            "\n",
            "  [[0.63529414 0.61960787 0.58431375]\n",
            "   [0.6392157  0.6117647  0.5803922 ]\n",
            "   [0.654902   0.61960787 0.5921569 ]\n",
            "   ...\n",
            "   [0.3372549  0.30588236 0.25490198]\n",
            "   [0.42352942 0.3882353  0.32941177]\n",
            "   [0.27058825 0.22352941 0.16078432]]\n",
            "\n",
            "  [[0.62352943 0.59607846 0.5647059 ]\n",
            "   [0.6313726  0.6039216  0.57254905]\n",
            "   [0.6666667  0.6392157  0.60784316]\n",
            "   ...\n",
            "   [0.28235295 0.2627451  0.24705882]\n",
            "   [0.34117648 0.30588236 0.2784314 ]\n",
            "   [0.3137255  0.28235295 0.23137255]]\n",
            "\n",
            "  [[0.68235296 0.654902   0.62352943]\n",
            "   [0.654902   0.627451   0.59607846]\n",
            "   [0.654902   0.627451   0.59607846]\n",
            "   ...\n",
            "   [0.01568628 0.         0.        ]\n",
            "   [0.11764706 0.08235294 0.05490196]\n",
            "   [0.16862746 0.13725491 0.08627451]]]\n",
            "\n",
            "\n",
            " [[[0.07843138 0.02745098 0.0627451 ]\n",
            "   [0.08235294 0.03137255 0.05882353]\n",
            "   [0.07843138 0.03137255 0.04705882]\n",
            "   ...\n",
            "   [0.10980392 0.03921569 0.03137255]\n",
            "   [0.11372549 0.04313726 0.03529412]\n",
            "   [0.10980392 0.03921569 0.03137255]]\n",
            "\n",
            "  [[0.07450981 0.03137255 0.0627451 ]\n",
            "   [0.07843138 0.02745098 0.05490196]\n",
            "   [0.08235294 0.03529412 0.05098039]\n",
            "   ...\n",
            "   [0.10980392 0.03921569 0.03137255]\n",
            "   [0.11372549 0.04313726 0.03529412]\n",
            "   [0.10980392 0.03921569 0.03137255]]\n",
            "\n",
            "  [[0.06666667 0.02352941 0.05490196]\n",
            "   [0.07058824 0.02745098 0.05098039]\n",
            "   [0.07450981 0.02745098 0.04313726]\n",
            "   ...\n",
            "   [0.11764706 0.04705882 0.04705882]\n",
            "   [0.11764706 0.04705882 0.03921569]\n",
            "   [0.11764706 0.04705882 0.03921569]]\n",
            "\n",
            "  ...\n",
            "\n",
            "  [[0.9607843  0.8        0.5882353 ]\n",
            "   [0.98039216 0.8117647  0.6039216 ]\n",
            "   [0.972549   0.8039216  0.59607846]\n",
            "   ...\n",
            "   [0.9254902  0.7372549  0.54901963]\n",
            "   [0.92156863 0.73333335 0.54509807]\n",
            "   [0.91764706 0.7294118  0.5411765 ]]\n",
            "\n",
            "  [[0.9607843  0.8        0.5882353 ]\n",
            "   [0.972549   0.8039216  0.59607846]\n",
            "   [0.972549   0.8039216  0.59607846]\n",
            "   ...\n",
            "   [0.9254902  0.7372549  0.54901963]\n",
            "   [0.93333334 0.74509805 0.5568628 ]\n",
            "   [0.9372549  0.7490196  0.56078434]]\n",
            "\n",
            "  [[0.9607843  0.8        0.5882353 ]\n",
            "   [0.972549   0.8039216  0.59607846]\n",
            "   [0.972549   0.8039216  0.59607846]\n",
            "   ...\n",
            "   [0.92156863 0.73333335 0.5529412 ]\n",
            "   [0.92156863 0.73333335 0.5529412 ]\n",
            "   [0.9098039  0.72156864 0.5411765 ]]]\n",
            "\n",
            "\n",
            " [[[0.92941177 0.90588236 0.8509804 ]\n",
            "   [0.9372549  0.9137255  0.85882354]\n",
            "   [0.9372549  0.9137255  0.85882354]\n",
            "   ...\n",
            "   [0.99607843 0.98039216 0.9372549 ]\n",
            "   [0.99215686 0.9764706  0.93333334]\n",
            "   [0.99215686 0.9764706  0.93333334]]\n",
            "\n",
            "  [[0.9372549  0.9137255  0.8666667 ]\n",
            "   [0.9411765  0.91764706 0.87058824]\n",
            "   [0.94509804 0.92156863 0.8745098 ]\n",
            "   ...\n",
            "   [0.9882353  0.972549   0.92941177]\n",
            "   [0.9882353  0.972549   0.92941177]\n",
            "   [0.9882353  0.972549   0.92941177]]\n",
            "\n",
            "  [[0.93333334 0.90588236 0.8666667 ]\n",
            "   [0.9372549  0.9098039  0.87058824]\n",
            "   [0.94509804 0.91764706 0.8784314 ]\n",
            "   ...\n",
            "   [0.99215686 0.9764706  0.93333334]\n",
            "   [0.99215686 0.9764706  0.93333334]\n",
            "   [0.99215686 0.9764706  0.93333334]]\n",
            "\n",
            "  ...\n",
            "\n",
            "  [[0.6862745  0.5019608  0.38431373]\n",
            "   [0.6901961  0.50980395 0.38039216]\n",
            "   [0.6509804  0.47058824 0.34117648]\n",
            "   ...\n",
            "   [0.9411765  0.9411765  0.93333334]\n",
            "   [0.9607843  0.9607843  0.9529412 ]\n",
            "   [0.95686275 0.95686275 0.9490196 ]]\n",
            "\n",
            "  [[0.6862745  0.5019608  0.38431373]\n",
            "   [0.6666667  0.48235294 0.3647059 ]\n",
            "   [0.6431373  0.4627451  0.33333334]\n",
            "   ...\n",
            "   [0.9490196  0.9490196  0.9411765 ]\n",
            "   [0.9647059  0.9647059  0.95686275]\n",
            "   [0.9647059  0.9647059  0.95686275]]\n",
            "\n",
            "  [[0.654902   0.47058824 0.36078432]\n",
            "   [0.6627451  0.47843137 0.36078432]\n",
            "   [0.654902   0.47058824 0.3529412 ]\n",
            "   ...\n",
            "   [0.9647059  0.9647059  0.95686275]\n",
            "   [0.972549   0.972549   0.9647059 ]\n",
            "   [0.9764706  0.9764706  0.96862745]]]\n",
            "\n",
            "\n",
            " ...\n",
            "\n",
            "\n",
            " [[[0.99215686 0.972549   0.9607843 ]\n",
            "   [0.9882353  0.96862745 0.95686275]\n",
            "   [0.9843137  0.9647059  0.9529412 ]\n",
            "   ...\n",
            "   [0.7137255  0.6117647  0.6156863 ]\n",
            "   [0.72156864 0.61960787 0.6313726 ]\n",
            "   [0.7254902  0.6117647  0.6313726 ]]\n",
            "\n",
            "  [[0.99215686 0.972549   0.9607843 ]\n",
            "   [0.99215686 0.972549   0.9607843 ]\n",
            "   [0.9882353  0.96862745 0.95686275]\n",
            "   ...\n",
            "   [0.7137255  0.6117647  0.6156863 ]\n",
            "   [0.7137255  0.6117647  0.6156863 ]\n",
            "   [0.7058824  0.6039216  0.6156863 ]]\n",
            "\n",
            "  [[0.99215686 0.972549   0.9607843 ]\n",
            "   [0.99215686 0.972549   0.9607843 ]\n",
            "   [0.99215686 0.972549   0.9607843 ]\n",
            "   ...\n",
            "   [0.7490196  0.6666667  0.64705884]\n",
            "   [0.7411765  0.64705884 0.6392157 ]\n",
            "   [0.72156864 0.627451   0.61960787]]\n",
            "\n",
            "  ...\n",
            "\n",
            "  [[0.95686275 0.9137255  0.84313726]\n",
            "   [0.95686275 0.9137255  0.84313726]\n",
            "   [0.95686275 0.9137255  0.84313726]\n",
            "   ...\n",
            "   [0.96862745 0.93333334 0.8980392 ]\n",
            "   [0.96862745 0.93333334 0.8980392 ]\n",
            "   [0.96862745 0.93333334 0.8980392 ]]\n",
            "\n",
            "  [[0.95686275 0.9137255  0.84313726]\n",
            "   [0.95686275 0.9137255  0.84313726]\n",
            "   [0.95686275 0.9137255  0.84313726]\n",
            "   ...\n",
            "   [0.96862745 0.93333334 0.8980392 ]\n",
            "   [0.96862745 0.93333334 0.8980392 ]\n",
            "   [0.96862745 0.93333334 0.8980392 ]]\n",
            "\n",
            "  [[0.95686275 0.9137255  0.84313726]\n",
            "   [0.9607843  0.91764706 0.84705883]\n",
            "   [0.9607843  0.91764706 0.84705883]\n",
            "   ...\n",
            "   [0.9607843  0.9254902  0.8901961 ]\n",
            "   [0.9607843  0.9254902  0.8901961 ]\n",
            "   [0.9607843  0.9254902  0.8901961 ]]]\n",
            "\n",
            "\n",
            " [[[0.03921569 0.06666667 0.10588235]\n",
            "   [0.05098039 0.07843138 0.11764706]\n",
            "   [0.04313726 0.07450981 0.11764706]\n",
            "   ...\n",
            "   [0.08235294 0.10196079 0.3529412 ]\n",
            "   [0.09803922 0.11372549 0.3529412 ]\n",
            "   [0.11372549 0.1254902  0.34117648]]\n",
            "\n",
            "  [[0.04705882 0.07450981 0.11372549]\n",
            "   [0.04313726 0.07058824 0.10980392]\n",
            "   [0.05882353 0.09019608 0.13333334]\n",
            "   ...\n",
            "   [0.07450981 0.09411765 0.34509805]\n",
            "   [0.09019608 0.10588235 0.34509805]\n",
            "   [0.10196079 0.12156863 0.3372549 ]]\n",
            "\n",
            "  [[0.03529412 0.0627451  0.10196079]\n",
            "   [0.04313726 0.07058824 0.10980392]\n",
            "   [0.05098039 0.08235294 0.1254902 ]\n",
            "   ...\n",
            "   [0.07450981 0.10588235 0.3529412 ]\n",
            "   [0.07450981 0.09803922 0.3254902 ]\n",
            "   [0.09019608 0.11372549 0.31764707]]\n",
            "\n",
            "  ...\n",
            "\n",
            "  [[0.49411765 0.42352942 0.5176471 ]\n",
            "   [0.1764706  0.21960784 0.15686275]\n",
            "   [0.14509805 0.19607843 0.11764706]\n",
            "   ...\n",
            "   [0.25882354 0.15686275 0.25490198]\n",
            "   [0.29803923 0.1882353  0.28627452]\n",
            "   [0.34117648 0.21960784 0.34509805]]\n",
            "\n",
            "  [[0.25882354 0.21568628 0.27058825]\n",
            "   [0.16470589 0.21568628 0.13725491]\n",
            "   [0.16470589 0.20784314 0.14117648]\n",
            "   ...\n",
            "   [0.29411766 0.18431373 0.27450982]\n",
            "   [0.30588236 0.20392157 0.3019608 ]\n",
            "   [0.2901961  0.1882353  0.3019608 ]]\n",
            "\n",
            "  [[0.30980393 0.2901961  0.31764707]\n",
            "   [0.13725491 0.19607843 0.10588235]\n",
            "   [0.15686275 0.19215687 0.1254902 ]\n",
            "   ...\n",
            "   [0.3019608  0.20392157 0.2784314 ]\n",
            "   [0.29411766 0.20392157 0.28235295]\n",
            "   [0.27058825 0.17254902 0.28627452]]]\n",
            "\n",
            "\n",
            " [[[0.15294118 0.10980392 0.08627451]\n",
            "   [0.16862746 0.1254902  0.10196079]\n",
            "   [0.1882353  0.14509805 0.12156863]\n",
            "   ...\n",
            "   [0.13333334 0.07058824 0.01960784]\n",
            "   [0.14509805 0.08235294 0.03137255]\n",
            "   [0.14509805 0.08235294 0.02352941]]\n",
            "\n",
            "  [[0.12156863 0.07843138 0.05490196]\n",
            "   [0.10980392 0.06666667 0.04313726]\n",
            "   [0.11372549 0.07058824 0.04705882]\n",
            "   ...\n",
            "   [0.13725491 0.07450981 0.02352941]\n",
            "   [0.14509805 0.08235294 0.03137255]\n",
            "   [0.14901961 0.08627451 0.02745098]]\n",
            "\n",
            "  [[0.10980392 0.06666667 0.04313726]\n",
            "   [0.10980392 0.06666667 0.04313726]\n",
            "   [0.12156863 0.07843138 0.05490196]\n",
            "   ...\n",
            "   [0.13725491 0.07450981 0.02352941]\n",
            "   [0.14509805 0.08235294 0.03137255]\n",
            "   [0.14901961 0.08627451 0.02745098]]\n",
            "\n",
            "  ...\n",
            "\n",
            "  [[0.8666667  0.58431375 0.6392157 ]\n",
            "   [0.8666667  0.61960787 0.6627451 ]\n",
            "   [0.85882354 0.62352943 0.67058825]\n",
            "   ...\n",
            "   [0.99607843 0.65882355 0.69411767]\n",
            "   [0.972549   0.6156863  0.6509804 ]\n",
            "   [0.96862745 0.59607846 0.627451  ]]\n",
            "\n",
            "  [[0.85490197 0.6313726  0.6666667 ]\n",
            "   [0.8235294  0.6039216  0.6392157 ]\n",
            "   [0.85490197 0.63529414 0.6784314 ]\n",
            "   ...\n",
            "   [0.90588236 0.67058825 0.70980394]\n",
            "   [0.9254902  0.6784314  0.7137255 ]\n",
            "   [0.92156863 0.6666667  0.69803923]]\n",
            "\n",
            "  [[0.8509804  0.6313726  0.6666667 ]\n",
            "   [0.8352941  0.6156863  0.65882355]\n",
            "   [0.85490197 0.6117647  0.6627451 ]\n",
            "   ...\n",
            "   [0.8862745  0.6901961  0.7254902 ]\n",
            "   [0.9137255  0.7137255  0.7411765 ]\n",
            "   [0.90588236 0.69803923 0.72156864]]]]\n"
          ],
          "name": "stdout"
        },
        {
          "output_type": "execute_result",
          "data": {
            "text/plain": [
              "(2400, 224, 224, 3)"
            ]
          },
          "metadata": {
            "tags": []
          },
          "execution_count": 23
        }
      ]
    },
    {
      "cell_type": "code",
      "metadata": {
        "colab": {
          "base_uri": "https://localhost:8080/"
        },
        "id": "_ON4RundfZqM",
        "outputId": "65523594-027f-48ed-b6a2-d5e5ca13b6c8"
      },
      "source": [
        "model.fit(X_train, y_train, epochs=10, validation_data=(X_test, y_test))"
      ],
      "execution_count": null,
      "outputs": [
        {
          "output_type": "stream",
          "text": [
            "Epoch 1/10\n",
            "75/75 [==============================] - 542s 7s/step - loss: 0.0000e+00 - accuracy: 0.4704 - val_loss: 0.0000e+00 - val_accuracy: 0.5217\n",
            "Epoch 2/10\n",
            "75/75 [==============================] - 528s 7s/step - loss: 0.0000e+00 - accuracy: 0.5077 - val_loss: 0.0000e+00 - val_accuracy: 0.5217\n",
            "Epoch 3/10\n",
            "75/75 [==============================] - 519s 7s/step - loss: 0.0000e+00 - accuracy: 0.4818 - val_loss: 0.0000e+00 - val_accuracy: 0.5217\n",
            "Epoch 4/10\n",
            "75/75 [==============================] - 521s 7s/step - loss: 0.0000e+00 - accuracy: 0.4981 - val_loss: 0.0000e+00 - val_accuracy: 0.5217\n",
            "Epoch 5/10\n",
            "75/75 [==============================] - 521s 7s/step - loss: 0.0000e+00 - accuracy: 0.5163 - val_loss: 0.0000e+00 - val_accuracy: 0.5217\n",
            "Epoch 6/10\n",
            "75/75 [==============================] - 519s 7s/step - loss: 0.0000e+00 - accuracy: 0.4998 - val_loss: 0.0000e+00 - val_accuracy: 0.5217\n",
            "Epoch 7/10\n",
            "75/75 [==============================] - 521s 7s/step - loss: 0.0000e+00 - accuracy: 0.4943 - val_loss: 0.0000e+00 - val_accuracy: 0.5217\n",
            "Epoch 8/10\n",
            "75/75 [==============================] - 520s 7s/step - loss: 0.0000e+00 - accuracy: 0.4975 - val_loss: 0.0000e+00 - val_accuracy: 0.5217\n",
            "Epoch 9/10\n",
            "75/75 [==============================] - 526s 7s/step - loss: 0.0000e+00 - accuracy: 0.5096 - val_loss: 0.0000e+00 - val_accuracy: 0.5217\n",
            "Epoch 10/10\n",
            "75/75 [==============================] - 533s 7s/step - loss: 0.0000e+00 - accuracy: 0.4987 - val_loss: 0.0000e+00 - val_accuracy: 0.5217\n"
          ],
          "name": "stdout"
        },
        {
          "output_type": "execute_result",
          "data": {
            "text/plain": [
              "<keras.callbacks.History at 0x7fe7c317ac90>"
            ]
          },
          "metadata": {
            "tags": []
          },
          "execution_count": 24
        }
      ]
    },
    {
      "cell_type": "code",
      "metadata": {
        "id": "eFq1W-BdGXQC"
      },
      "source": [
        "# https://www.datasciencecentral.com/profiles/blogs/how-to-choose-a-machine-learning-model-some-guidelines. delete after reading "
      ],
      "execution_count": null,
      "outputs": []
    },
    {
      "cell_type": "code",
      "metadata": {
        "colab": {
          "base_uri": "https://localhost:8080/"
        },
        "id": "tW9yQMu2dpGN",
        "outputId": "2db3cc1e-d3ae-489e-85f5-fb7045687972"
      },
      "source": [
        "from keras.preprocessing.image import load_img , img_to_array\n",
        "pic1 = load_img(\"/content/drive/MyDrive/Tatras projects/Food Nonfood data /training/non_food/10.jpg\",target_size=(224,224,3), grayscale=False)\n",
        "pic_array1 = img_to_array(pic1)\n",
        "pic_array1 = pic_array1/255\n",
        "# print(pic_array1)\n",
        "# print(pic_array1.shape)\n",
        "pic_array1 = (np.expand_dims(pic_array1,0))\n",
        "# print(pic_array1.shape)\n",
        "prediction1 = model.predict_classes(pic_array1)\n",
        "print(prediction1)\n",
        "\n",
        "pic = load_img(\"/content/drive/MyDrive/Tatras projects/Food Nonfood data /training/food/1.jpg\",target_size=(224,224,3), grayscale=False)\n",
        "pic_array = img_to_array(pic)\n",
        "pic_array = pic_array/255\n",
        "# pic_array\n",
        "# print(pic_array.shape)\n",
        "pic_array = (np.expand_dims(pic_array,0))\n",
        "# print(pic_array.shape)\n",
        "prediction = model.predict_classes(pic_array)\n",
        "print(prediction)"
      ],
      "execution_count": null,
      "outputs": [
        {
          "output_type": "stream",
          "text": [
            "/usr/local/lib/python3.7/dist-packages/keras/engine/sequential.py:450: UserWarning: `model.predict_classes()` is deprecated and will be removed after 2021-01-01. Please use instead:* `np.argmax(model.predict(x), axis=-1)`,   if your model does multi-class classification   (e.g. if it uses a `softmax` last-layer activation).* `(model.predict(x) > 0.5).astype(\"int32\")`,   if your model does binary classification   (e.g. if it uses a `sigmoid` last-layer activation).\n",
            "  warnings.warn('`model.predict_classes()` is deprecated and '\n"
          ],
          "name": "stderr"
        },
        {
          "output_type": "stream",
          "text": [
            "[[1]]\n",
            "[[1]]\n"
          ],
          "name": "stdout"
        }
      ]
    },
    {
      "cell_type": "markdown",
      "metadata": {
        "id": "N0swOIqVHKsy"
      },
      "source": [
        "### Logistic Regression"
      ]
    },
    {
      "cell_type": "code",
      "metadata": {
        "id": "oRPq8hDAHNLW"
      },
      "source": [
        "import numpy as np\n",
        "import matplotlib.pyplot as plt\n",
        "import h5py\n",
        "import scipy\n",
        "from PIL import Image\n",
        "from scipy import ndimage\n",
        "%matplotlib inline"
      ],
      "execution_count": null,
      "outputs": []
    },
    {
      "cell_type": "code",
      "metadata": {
        "colab": {
          "base_uri": "https://localhost:8080/"
        },
        "id": "NGfSZK9TMoDN",
        "outputId": "a155f1b0-05ac-4d6f-c8cd-dd779913a685"
      },
      "source": [
        "train_set_x = X_train.reshape(X_train.shape[0],-1).T\n",
        "test_set_x = X_test.reshape(X_test.shape[0],-1).T\n",
        "print(train_set_x.shape)\n",
        "print(test_set_x.shape)\n",
        "train_set_x"
      ],
      "execution_count": null,
      "outputs": [
        {
          "output_type": "stream",
          "text": [
            "(150528, 2400)\n",
            "(150528, 600)\n"
          ],
          "name": "stdout"
        },
        {
          "output_type": "execute_result",
          "data": {
            "text/plain": [
              "array([[0.4509804 , 0.46666667, 0.0627451 , ..., 0.9882353 , 0.27450982,\n",
              "        0.28627452],\n",
              "       [0.41960785, 0.22352941, 0.0627451 , ..., 0.6745098 , 0.14901961,\n",
              "        0.09803922],\n",
              "       [0.4117647 , 0.03921569, 0.05490196, ..., 0.04313726, 0.09019608,\n",
              "        0.08235294],\n",
              "       ...,\n",
              "       [0.03137255, 0.38039216, 0.5137255 , ..., 0.7882353 , 0.3882353 ,\n",
              "        0.99215686],\n",
              "       [0.02352941, 0.25882354, 0.5254902 , ..., 0.54901963, 0.38039216,\n",
              "        0.98039216],\n",
              "       [0.04313726, 0.2901961 , 0.56078434, ..., 0.22352941, 0.32941177,\n",
              "        0.90588236]], dtype=float32)"
            ]
          },
          "metadata": {
            "tags": []
          },
          "execution_count": 28
        }
      ]
    },
    {
      "cell_type": "code",
      "metadata": {
        "id": "O1-UPxlCuPBi"
      },
      "source": [
        "def sigmoid(z):\n",
        "    s = 1/(1+np.exp(-z))\n",
        "    return s"
      ],
      "execution_count": null,
      "outputs": []
    },
    {
      "cell_type": "code",
      "metadata": {
        "colab": {
          "base_uri": "https://localhost:8080/"
        },
        "id": "YMhIChfcu5Ab",
        "outputId": "6912079c-ac87-46e2-d10a-8b1a27546a29"
      },
      "source": [
        "print (\"sigmoid([0, 2]) = \" + str(sigmoid(np.array([0,2]))))"
      ],
      "execution_count": null,
      "outputs": [
        {
          "output_type": "stream",
          "text": [
            "sigmoid([0, 2]) = [0.5        0.88079708]\n"
          ],
          "name": "stdout"
        }
      ]
    },
    {
      "cell_type": "code",
      "metadata": {
        "id": "8ixnLNEou5o4"
      },
      "source": [
        "def initialize_with_zeros(dim):\n",
        "    w = np.zeros((dim,1))\n",
        "    b = 0\n",
        "    assert(w.shape == (dim, 1))\n",
        "    assert(isinstance(b, float) or isinstance(b, int))\n",
        "    \n",
        "    return w, b"
      ],
      "execution_count": null,
      "outputs": []
    },
    {
      "cell_type": "code",
      "metadata": {
        "colab": {
          "base_uri": "https://localhost:8080/"
        },
        "id": "8J8wvryxvDnI",
        "outputId": "eade977d-f466-4926-dc92-70b143835d9c"
      },
      "source": [
        "dim = 2\n",
        "w, b = initialize_with_zeros(dim)\n",
        "print (\"w = \" + str(w))\n",
        "print (\"b = \" + str(b))"
      ],
      "execution_count": null,
      "outputs": [
        {
          "output_type": "stream",
          "text": [
            "w = [[0.]\n",
            " [0.]]\n",
            "b = 0\n"
          ],
          "name": "stdout"
        }
      ]
    },
    {
      "cell_type": "code",
      "metadata": {
        "id": "rwvNykRwvG55"
      },
      "source": [
        "\n",
        "def propagate(w, b, X, Y):\n",
        "\n",
        "    m = X.shape[1]\n",
        "\n",
        "    A = sigmoid(np.dot(w.T,X)+b)                                    # compute activation\n",
        "    cost = -1./m*np.sum(Y*np.log(A)+(1-Y)*np.log(1-A))                               # compute cost\n",
        "\n",
        "    dw = 1/m*np.dot(X,(A-Y).T)\n",
        "    db = 1/m*(np.sum(A-Y))\n",
        "\n",
        "    assert(dw.shape == w.shape)\n",
        "    assert(db.dtype == float)\n",
        "    cost = np.squeeze(cost)\n",
        "    assert(cost.shape == ())\n",
        "    \n",
        "    grads = {\"dw\": dw,\n",
        "             \"db\": db}\n",
        "    \n",
        "    return grads, cost"
      ],
      "execution_count": null,
      "outputs": []
    },
    {
      "cell_type": "code",
      "metadata": {
        "colab": {
          "base_uri": "https://localhost:8080/"
        },
        "id": "s9uAnz1xvS4F",
        "outputId": "c1225f8b-fcaf-48ad-f8e7-6162fadfc249"
      },
      "source": [
        "w, b, X, Y = np.array([[1.],[2.]]), 2., np.array([[1.,2.,-1.],[3.,4.,-3.2]]), np.array([[1,0,1]])\n",
        "grads, cost = propagate(w, b, X, Y)\n",
        "print (\"dw = \" + str(grads[\"dw\"]))\n",
        "print (\"db = \" + str(grads[\"db\"]))\n",
        "print (\"cost = \" + str(cost))"
      ],
      "execution_count": null,
      "outputs": [
        {
          "output_type": "stream",
          "text": [
            "dw = [[0.99845601]\n",
            " [2.39507239]]\n",
            "db = 0.001455578136784208\n",
            "cost = 5.801545319394553\n"
          ],
          "name": "stdout"
        }
      ]
    },
    {
      "cell_type": "code",
      "metadata": {
        "id": "Bt0FQjimvXVU"
      },
      "source": [
        "\n",
        "def optimize(w, b, X, Y, num_iterations, learning_rate, print_cost = False):\n",
        "\n",
        "    costs = []\n",
        "    \n",
        "    for i in range(num_iterations):\n",
        "        \n",
        " \n",
        "        grads, cost = propagate(w, b, X, Y)\n",
        "\n",
        "\n",
        "        dw = grads[\"dw\"]\n",
        "        db = grads[\"db\"]\n",
        "\n",
        "        w = w-(learning_rate*dw)\n",
        "        b = b-(learning_rate*db)\n",
        "\n",
        "        if i % 100 == 0:\n",
        "            costs.append(cost)\n",
        "\n",
        "        if print_cost and i % 100 == 0:\n",
        "            print (\"Cost after iteration %i: %f\" %(i, cost))\n",
        "    \n",
        "    params = {\"w\": w,\n",
        "              \"b\": b}\n",
        "    \n",
        "    grads = {\"dw\": dw,\n",
        "             \"db\": db}\n",
        "    \n",
        "    return params, grads, costs"
      ],
      "execution_count": null,
      "outputs": []
    },
    {
      "cell_type": "code",
      "metadata": {
        "colab": {
          "base_uri": "https://localhost:8080/"
        },
        "id": "j3elrdoDvjLc",
        "outputId": "8d39a6cb-f9e0-4f02-f896-780db177d311"
      },
      "source": [
        "params, grads, costs = optimize(w, b, X, Y, num_iterations= 100, learning_rate = 0.009, print_cost = False)\n",
        "\n",
        "print (\"w = \" + str(params[\"w\"]))\n",
        "print (\"b = \" + str(params[\"b\"]))\n",
        "print (\"dw = \" + str(grads[\"dw\"]))\n",
        "print (\"db = \" + str(grads[\"db\"]))"
      ],
      "execution_count": null,
      "outputs": [
        {
          "output_type": "stream",
          "text": [
            "w = [[0.19033591]\n",
            " [0.12259159]]\n",
            "b = 1.9253598300845747\n",
            "dw = [[0.67752042]\n",
            " [1.41625495]]\n",
            "db = 0.21919450454067652\n"
          ],
          "name": "stdout"
        }
      ]
    },
    {
      "cell_type": "code",
      "metadata": {
        "id": "ihnprgnyvmIK"
      },
      "source": [
        "# GRADED FUNCTION: predict\n",
        "\n",
        "def predict(w, b, X):\n",
        "\n",
        "    \n",
        "    m = X.shape[1]\n",
        "    Y_prediction = np.zeros((1,m))\n",
        "    w = w.reshape(X.shape[0], 1)\n",
        "\n",
        "    A = sigmoid(np.dot(w.T,X)+b)\n",
        "\n",
        "    \n",
        "    for i in range(A.shape[1]):\n",
        "\n",
        "        if(A[0,i]<0.5):\n",
        "            Y_prediction[0,i] = 0\n",
        "        else:\n",
        "            Y_prediction[0,i] = 1\n",
        "\n",
        "    \n",
        "    assert(Y_prediction.shape == (1, m))\n",
        "    \n",
        "    return Y_prediction"
      ],
      "execution_count": null,
      "outputs": []
    },
    {
      "cell_type": "code",
      "metadata": {
        "colab": {
          "base_uri": "https://localhost:8080/"
        },
        "id": "Nk6igxh1vwlr",
        "outputId": "5b8a8321-b44c-4438-9b10-cce5fd00a235"
      },
      "source": [
        "w = np.array([[0.1124579],[0.23106775]])\n",
        "b = -0.3\n",
        "X = np.array([[1.,-1.1,-3.2],[1.2,2.,0.1]])\n",
        "print (\"predictions = \" + str(predict(w, b, X)))"
      ],
      "execution_count": null,
      "outputs": [
        {
          "output_type": "stream",
          "text": [
            "predictions = [[1. 1. 0.]]\n"
          ],
          "name": "stdout"
        }
      ]
    },
    {
      "cell_type": "code",
      "metadata": {
        "id": "-wy0gDrsv3Op"
      },
      "source": [
        "# GRADED FUNCTION: model\n",
        "\n",
        "def model(X_train, Y_train, X_test, Y_test, num_iterations = 2000, learning_rate = 0.5, print_cost = False):\n",
        "\n",
        "    \n",
        "    # initialize parameters with zeros (≈ 1 line of code)\n",
        "    w, b = initialize_with_zeros(X_train.shape[0])\n",
        "\n",
        "    # Gradient descent (≈ 1 line of code)\n",
        "    parameters, grads, costs = optimize(w, b, X_train, Y_train, num_iterations, learning_rate, print_cost)\n",
        "    \n",
        "    # Retrieve parameters w and b from dictionary \"parameters\"\n",
        "    w = parameters[\"w\"]\n",
        "    b = parameters[\"b\"]\n",
        "    \n",
        "    # Predict test/train set examples (≈ 2 lines of code)\n",
        "    Y_prediction_test = predict(w, b, X_test)\n",
        "    Y_prediction_train = predict(w, b, X_train)\n",
        "\n",
        "  \n",
        "    print(\"train accuracy: {} %\".format(100 - np.mean(np.abs(Y_prediction_train - Y_train)) * 100))\n",
        "    print(\"test accuracy: {} %\".format(100 - np.mean(np.abs(Y_prediction_test - Y_test)) * 100))\n",
        "\n",
        "    \n",
        "    d = {\"costs\": costs,\n",
        "         \"Y_prediction_test\": Y_prediction_test, \n",
        "         \"Y_prediction_train\" : Y_prediction_train, \n",
        "         \"w\" : w, \n",
        "         \"b\" : b,\n",
        "         \"learning_rate\" : learning_rate,\n",
        "         \"num_iterations\": num_iterations}\n",
        "    \n",
        "    return d"
      ],
      "execution_count": null,
      "outputs": []
    },
    {
      "cell_type": "markdown",
      "metadata": {
        "id": "jyW4oEvrdWls"
      },
      "source": [
        "This cell below is to be ignored"
      ]
    },
    {
      "cell_type": "code",
      "metadata": {
        "colab": {
          "base_uri": "https://localhost:8080/"
        },
        "id": "cfZi8tofwuWp",
        "outputId": "112ddffa-3178-4492-9bb4-b0927e3d3ea7"
      },
      "source": [
        "y_train\n",
        "#of no use\n",
        "y_train1 = []\n",
        "for n, i in enumerate(y_train):\n",
        "  if i == 1:\n",
        "    y_train1.append('food')\n",
        "  else:\n",
        "    y_train1.append('nonfood')\n",
        "print(y_train1)\n",
        "y_test1 = []\n",
        "for n, i in enumerate(y_test):\n",
        "  if i == 1:\n",
        "    y_test1.append('food')\n",
        "  else:\n",
        "    y_test1.append('nonfood')\n",
        "print(y_test1)"
      ],
      "execution_count": null,
      "outputs": [
        {
          "output_type": "stream",
          "text": [
            "['food', 'food', 'food', 'nonfood', 'food', 'nonfood', 'food', 'nonfood', 'nonfood', 'nonfood', 'nonfood', 'food', 'nonfood', 'food', 'food', 'nonfood', 'nonfood', 'food', 'food', 'food', 'nonfood', 'food', 'nonfood', 'nonfood', 'nonfood', 'nonfood', 'food', 'food', 'nonfood', 'food', 'food', 'nonfood', 'nonfood', 'nonfood', 'nonfood', 'food', 'nonfood', 'food', 'nonfood', 'food', 'nonfood', 'food', 'nonfood', 'nonfood', 'food', 'food', 'nonfood', 'food', 'food', 'nonfood', 'nonfood', 'food', 'nonfood', 'nonfood', 'nonfood', 'nonfood', 'food', 'nonfood', 'food', 'nonfood', 'food', 'nonfood', 'nonfood', 'food', 'food', 'nonfood', 'nonfood', 'food', 'nonfood', 'nonfood', 'nonfood', 'nonfood', 'food', 'nonfood', 'food', 'nonfood', 'food', 'food', 'nonfood', 'food', 'nonfood', 'nonfood', 'nonfood', 'food', 'food', 'nonfood', 'food', 'nonfood', 'nonfood', 'food', 'nonfood', 'nonfood', 'food', 'nonfood', 'nonfood', 'nonfood', 'nonfood', 'nonfood', 'nonfood', 'food', 'food', 'nonfood', 'food', 'nonfood', 'food', 'nonfood', 'food', 'food', 'food', 'nonfood', 'nonfood', 'food', 'food', 'food', 'nonfood', 'food', 'nonfood', 'food', 'food', 'food', 'food', 'nonfood', 'nonfood', 'food', 'food', 'food', 'food', 'nonfood', 'nonfood', 'food', 'nonfood', 'nonfood', 'food', 'nonfood', 'food', 'nonfood', 'food', 'food', 'food', 'nonfood', 'food', 'food', 'food', 'food', 'nonfood', 'food', 'nonfood', 'nonfood', 'nonfood', 'food', 'nonfood', 'food', 'food', 'nonfood', 'food', 'nonfood', 'food', 'food', 'nonfood', 'food', 'food', 'nonfood', 'food', 'nonfood', 'nonfood', 'food', 'nonfood', 'nonfood', 'nonfood', 'nonfood', 'nonfood', 'food', 'nonfood', 'food', 'food', 'food', 'food', 'nonfood', 'food', 'food', 'food', 'nonfood', 'nonfood', 'food', 'food', 'food', 'nonfood', 'nonfood', 'nonfood', 'nonfood', 'nonfood', 'food', 'food', 'food', 'food', 'nonfood', 'nonfood', 'food', 'nonfood', 'nonfood', 'food', 'nonfood', 'nonfood', 'food', 'food', 'nonfood', 'nonfood', 'food', 'food', 'food', 'food', 'nonfood', 'nonfood', 'food', 'food', 'nonfood', 'nonfood', 'food', 'nonfood', 'food', 'nonfood', 'food', 'nonfood', 'food', 'nonfood', 'nonfood', 'nonfood', 'food', 'food', 'food', 'nonfood', 'food', 'food', 'food', 'food', 'food', 'food', 'nonfood', 'nonfood', 'nonfood', 'nonfood', 'nonfood', 'nonfood', 'nonfood', 'food', 'food', 'nonfood', 'food', 'nonfood', 'food', 'nonfood', 'nonfood', 'nonfood', 'nonfood', 'food', 'food', 'food', 'nonfood', 'nonfood', 'nonfood', 'nonfood', 'food', 'food', 'food', 'food', 'nonfood', 'food', 'nonfood', 'nonfood', 'nonfood', 'food', 'food', 'food', 'nonfood', 'food', 'food', 'food', 'nonfood', 'food', 'food', 'nonfood', 'nonfood', 'food', 'nonfood', 'food', 'nonfood', 'nonfood', 'nonfood', 'food', 'nonfood', 'food', 'nonfood', 'food', 'food', 'nonfood', 'nonfood', 'food', 'nonfood', 'food', 'food', 'food', 'food', 'nonfood', 'food', 'nonfood', 'food', 'food', 'food', 'food', 'food', 'nonfood', 'nonfood', 'nonfood', 'food', 'food', 'food', 'nonfood', 'nonfood', 'food', 'food', 'nonfood', 'food', 'nonfood', 'food', 'nonfood', 'food', 'food', 'nonfood', 'food', 'nonfood', 'food', 'food', 'nonfood', 'nonfood', 'nonfood', 'nonfood', 'nonfood', 'food', 'nonfood', 'food', 'nonfood', 'food', 'food', 'food', 'food', 'food', 'food', 'nonfood', 'nonfood', 'food', 'nonfood', 'nonfood', 'food', 'nonfood', 'food', 'food', 'nonfood', 'nonfood', 'food', 'nonfood', 'food', 'food', 'food', 'nonfood', 'nonfood', 'food', 'nonfood', 'food', 'food', 'food', 'nonfood', 'nonfood', 'food', 'food', 'nonfood', 'nonfood', 'nonfood', 'nonfood', 'nonfood', 'food', 'food', 'nonfood', 'nonfood', 'food', 'nonfood', 'nonfood', 'nonfood', 'food', 'food', 'nonfood', 'nonfood', 'food', 'nonfood', 'nonfood', 'nonfood', 'food', 'food', 'food', 'food', 'food', 'nonfood', 'food', 'food', 'food', 'food', 'nonfood', 'nonfood', 'food', 'nonfood', 'food', 'food', 'nonfood', 'food', 'food', 'nonfood', 'nonfood', 'food', 'nonfood', 'food', 'nonfood', 'food', 'food', 'food', 'nonfood', 'nonfood', 'food', 'food', 'food', 'food', 'food', 'nonfood', 'nonfood', 'food', 'food', 'nonfood', 'nonfood', 'food', 'nonfood', 'food', 'nonfood', 'nonfood', 'nonfood', 'nonfood', 'food', 'nonfood', 'food', 'nonfood', 'food', 'nonfood', 'food', 'nonfood', 'nonfood', 'nonfood', 'food', 'nonfood', 'nonfood', 'food', 'nonfood', 'food', 'nonfood', 'nonfood', 'nonfood', 'food', 'food', 'food', 'nonfood', 'nonfood', 'nonfood', 'nonfood', 'nonfood', 'food', 'nonfood', 'food', 'food', 'food', 'nonfood', 'food', 'food', 'nonfood', 'food', 'food', 'nonfood', 'food', 'food', 'food', 'nonfood', 'nonfood', 'nonfood', 'food', 'food', 'food', 'food', 'nonfood', 'food', 'nonfood', 'nonfood', 'food', 'nonfood', 'nonfood', 'food', 'food', 'nonfood', 'nonfood', 'food', 'nonfood', 'nonfood', 'nonfood', 'nonfood', 'food', 'nonfood', 'nonfood', 'food', 'nonfood', 'food', 'nonfood', 'food', 'nonfood', 'nonfood', 'nonfood', 'food', 'nonfood', 'food', 'nonfood', 'food', 'food', 'food', 'food', 'nonfood', 'food', 'nonfood', 'nonfood', 'food', 'nonfood', 'food', 'nonfood', 'nonfood', 'food', 'food', 'food', 'nonfood', 'food', 'food', 'nonfood', 'food', 'food', 'nonfood', 'food', 'food', 'nonfood', 'nonfood', 'nonfood', 'nonfood', 'food', 'food', 'nonfood', 'food', 'food', 'nonfood', 'food', 'food', 'food', 'food', 'nonfood', 'food', 'food', 'nonfood', 'nonfood', 'nonfood', 'nonfood', 'food', 'nonfood', 'food', 'food', 'nonfood', 'food', 'food', 'nonfood', 'nonfood', 'food', 'nonfood', 'food', 'food', 'food', 'nonfood', 'nonfood', 'food', 'nonfood', 'food', 'food', 'nonfood', 'nonfood', 'food', 'food', 'nonfood', 'food', 'food', 'food', 'food', 'food', 'nonfood', 'food', 'nonfood', 'food', 'food', 'nonfood', 'nonfood', 'food', 'nonfood', 'food', 'food', 'food', 'food', 'nonfood', 'food', 'nonfood', 'food', 'nonfood', 'nonfood', 'nonfood', 'food', 'nonfood', 'nonfood', 'food', 'nonfood', 'nonfood', 'nonfood', 'nonfood', 'food', 'food', 'food', 'nonfood', 'food', 'food', 'food', 'food', 'nonfood', 'food', 'nonfood', 'food', 'food', 'nonfood', 'nonfood', 'food', 'nonfood', 'nonfood', 'nonfood', 'food', 'food', 'nonfood', 'nonfood', 'nonfood', 'nonfood', 'nonfood', 'nonfood', 'food', 'food', 'nonfood', 'food', 'food', 'food', 'nonfood', 'food', 'nonfood', 'food', 'nonfood', 'nonfood', 'food', 'nonfood', 'nonfood', 'nonfood', 'nonfood', 'nonfood', 'food', 'food', 'nonfood', 'food', 'food', 'food', 'nonfood', 'nonfood', 'food', 'nonfood', 'nonfood', 'nonfood', 'nonfood', 'nonfood', 'food', 'nonfood', 'food', 'food', 'nonfood', 'food', 'food', 'food', 'food', 'nonfood', 'nonfood', 'nonfood', 'food', 'food', 'food', 'food', 'food', 'nonfood', 'food', 'food', 'food', 'food', 'nonfood', 'nonfood', 'food', 'nonfood', 'food', 'food', 'nonfood', 'food', 'nonfood', 'food', 'nonfood', 'nonfood', 'food', 'food', 'nonfood', 'nonfood', 'nonfood', 'nonfood', 'food', 'nonfood', 'food', 'food', 'food', 'nonfood', 'food', 'nonfood', 'nonfood', 'nonfood', 'nonfood', 'nonfood', 'nonfood', 'food', 'nonfood', 'food', 'nonfood', 'food', 'nonfood', 'food', 'food', 'nonfood', 'nonfood', 'nonfood', 'food', 'food', 'nonfood', 'nonfood', 'food', 'nonfood', 'food', 'nonfood', 'food', 'food', 'food', 'nonfood', 'nonfood', 'nonfood', 'nonfood', 'food', 'nonfood', 'food', 'nonfood', 'nonfood', 'food', 'nonfood', 'nonfood', 'food', 'food', 'food', 'nonfood', 'food', 'food', 'nonfood', 'nonfood', 'nonfood', 'food', 'food', 'nonfood', 'nonfood', 'food', 'nonfood', 'nonfood', 'food', 'nonfood', 'food', 'nonfood', 'food', 'food', 'food', 'nonfood', 'nonfood', 'nonfood', 'nonfood', 'nonfood', 'nonfood', 'nonfood', 'food', 'food', 'food', 'food', 'food', 'nonfood', 'food', 'nonfood', 'food', 'food', 'food', 'nonfood', 'nonfood', 'food', 'food', 'nonfood', 'nonfood', 'food', 'nonfood', 'nonfood', 'nonfood', 'food', 'food', 'nonfood', 'food', 'nonfood', 'food', 'food', 'food', 'nonfood', 'nonfood', 'food', 'nonfood', 'food', 'nonfood', 'food', 'nonfood', 'food', 'food', 'nonfood', 'food', 'nonfood', 'nonfood', 'nonfood', 'nonfood', 'food', 'nonfood', 'nonfood', 'nonfood', 'nonfood', 'food', 'nonfood', 'food', 'food', 'food', 'food', 'nonfood', 'food', 'food', 'nonfood', 'food', 'nonfood', 'nonfood', 'food', 'food', 'food', 'nonfood', 'food', 'food', 'food', 'nonfood', 'nonfood', 'nonfood', 'food', 'nonfood', 'nonfood', 'food', 'food', 'food', 'food', 'nonfood', 'food', 'nonfood', 'food', 'food', 'nonfood', 'nonfood', 'nonfood', 'food', 'food', 'nonfood', 'nonfood', 'food', 'nonfood', 'nonfood', 'nonfood', 'food', 'food', 'food', 'food', 'food', 'nonfood', 'nonfood', 'nonfood', 'nonfood', 'nonfood', 'nonfood', 'food', 'food', 'nonfood', 'nonfood', 'food', 'nonfood', 'nonfood', 'nonfood', 'food', 'nonfood', 'nonfood', 'food', 'nonfood', 'nonfood', 'nonfood', 'nonfood', 'nonfood', 'nonfood', 'nonfood', 'nonfood', 'food', 'food', 'nonfood', 'nonfood', 'food', 'food', 'food', 'food', 'food', 'food', 'food', 'food', 'nonfood', 'food', 'food', 'food', 'food', 'nonfood', 'food', 'nonfood', 'nonfood', 'food', 'food', 'food', 'nonfood', 'food', 'food', 'food', 'nonfood', 'food', 'nonfood', 'food', 'nonfood', 'nonfood', 'nonfood', 'nonfood', 'nonfood', 'nonfood', 'nonfood', 'nonfood', 'food', 'food', 'food', 'food', 'food', 'food', 'nonfood', 'food', 'food', 'food', 'nonfood', 'food', 'nonfood', 'food', 'food', 'nonfood', 'food', 'nonfood', 'nonfood', 'nonfood', 'nonfood', 'nonfood', 'food', 'nonfood', 'food', 'food', 'nonfood', 'food', 'nonfood', 'nonfood', 'food', 'food', 'food', 'nonfood', 'food', 'food', 'nonfood', 'nonfood', 'food', 'nonfood', 'food', 'food', 'food', 'food', 'food', 'nonfood', 'nonfood', 'food', 'nonfood', 'food', 'food', 'nonfood', 'food', 'nonfood', 'food', 'nonfood', 'food', 'food', 'food', 'nonfood', 'food', 'nonfood', 'nonfood', 'food', 'food', 'nonfood', 'nonfood', 'nonfood', 'nonfood', 'nonfood', 'nonfood', 'nonfood', 'food', 'food', 'nonfood', 'food', 'nonfood', 'nonfood', 'nonfood', 'nonfood', 'food', 'nonfood', 'food', 'food', 'nonfood', 'nonfood', 'nonfood', 'nonfood', 'nonfood', 'nonfood', 'nonfood', 'nonfood', 'food', 'food', 'nonfood', 'food', 'nonfood', 'food', 'food', 'nonfood', 'nonfood', 'food', 'food', 'nonfood', 'nonfood', 'nonfood', 'nonfood', 'nonfood', 'nonfood', 'nonfood', 'nonfood', 'nonfood', 'nonfood', 'nonfood', 'nonfood', 'food', 'food', 'food', 'nonfood', 'nonfood', 'nonfood', 'nonfood', 'food', 'nonfood', 'nonfood', 'nonfood', 'nonfood', 'nonfood', 'food', 'food', 'nonfood', 'nonfood', 'nonfood', 'nonfood', 'nonfood', 'food', 'food', 'nonfood', 'nonfood', 'nonfood', 'food', 'food', 'nonfood', 'food', 'food', 'nonfood', 'nonfood', 'nonfood', 'nonfood', 'nonfood', 'nonfood', 'food', 'nonfood', 'nonfood', 'nonfood', 'food', 'food', 'food', 'nonfood', 'food', 'nonfood', 'nonfood', 'nonfood', 'nonfood', 'nonfood', 'food', 'nonfood', 'nonfood', 'food', 'food', 'nonfood', 'food', 'food', 'nonfood', 'nonfood', 'nonfood', 'food', 'food', 'nonfood', 'food', 'food', 'nonfood', 'nonfood', 'nonfood', 'food', 'nonfood', 'food', 'food', 'nonfood', 'food', 'food', 'nonfood', 'nonfood', 'food', 'food', 'nonfood', 'nonfood', 'nonfood', 'nonfood', 'nonfood', 'nonfood', 'food', 'food', 'food', 'food', 'nonfood', 'nonfood', 'food', 'food', 'food', 'nonfood', 'food', 'food', 'food', 'food', 'food', 'nonfood', 'food', 'food', 'food', 'food', 'nonfood', 'nonfood', 'food', 'food', 'food', 'nonfood', 'food', 'food', 'food', 'nonfood', 'nonfood', 'nonfood', 'food', 'nonfood', 'food', 'food', 'nonfood', 'food', 'nonfood', 'nonfood', 'nonfood', 'nonfood', 'nonfood', 'food', 'nonfood', 'food', 'nonfood', 'food', 'food', 'nonfood', 'nonfood', 'nonfood', 'food', 'food', 'nonfood', 'food', 'nonfood', 'food', 'food', 'nonfood', 'nonfood', 'food', 'food', 'nonfood', 'food', 'food', 'food', 'food', 'food', 'food', 'food', 'food', 'food', 'food', 'nonfood', 'food', 'food', 'nonfood', 'food', 'food', 'nonfood', 'food', 'nonfood', 'nonfood', 'food', 'nonfood', 'food', 'nonfood', 'nonfood', 'food', 'food', 'nonfood', 'nonfood', 'nonfood', 'nonfood', 'food', 'nonfood', 'food', 'nonfood', 'nonfood', 'nonfood', 'food', 'nonfood', 'nonfood', 'food', 'food', 'nonfood', 'food', 'nonfood', 'food', 'food', 'nonfood', 'food', 'food', 'food', 'nonfood', 'food', 'nonfood', 'food', 'nonfood', 'nonfood', 'nonfood', 'nonfood', 'food', 'food', 'nonfood', 'food', 'food', 'nonfood', 'food', 'food', 'food', 'food', 'food', 'food', 'food', 'food', 'nonfood', 'food', 'nonfood', 'food', 'food', 'nonfood', 'food', 'food', 'food', 'food', 'food', 'nonfood', 'nonfood', 'food', 'food', 'food', 'nonfood', 'nonfood', 'food', 'food', 'food', 'nonfood', 'food', 'nonfood', 'food', 'nonfood', 'food', 'nonfood', 'nonfood', 'food', 'food', 'food', 'food', 'nonfood', 'nonfood', 'food', 'food', 'food', 'food', 'nonfood', 'nonfood', 'food', 'nonfood', 'nonfood', 'nonfood', 'nonfood', 'food', 'food', 'nonfood', 'nonfood', 'nonfood', 'nonfood', 'food', 'nonfood', 'food', 'nonfood', 'nonfood', 'food', 'nonfood', 'nonfood', 'nonfood', 'nonfood', 'food', 'nonfood', 'nonfood', 'nonfood', 'nonfood', 'food', 'nonfood', 'nonfood', 'food', 'nonfood', 'nonfood', 'food', 'food', 'nonfood', 'nonfood', 'food', 'food', 'food', 'food', 'nonfood', 'food', 'food', 'food', 'nonfood', 'nonfood', 'food', 'food', 'food', 'nonfood', 'nonfood', 'nonfood', 'nonfood', 'nonfood', 'nonfood', 'food', 'nonfood', 'food', 'food', 'nonfood', 'food', 'nonfood', 'nonfood', 'food', 'nonfood', 'food', 'nonfood', 'food', 'nonfood', 'nonfood', 'nonfood', 'nonfood', 'food', 'nonfood', 'nonfood', 'food', 'nonfood', 'food', 'food', 'food', 'food', 'food', 'food', 'food', 'nonfood', 'nonfood', 'nonfood', 'food', 'food', 'nonfood', 'nonfood', 'food', 'food', 'nonfood', 'food', 'nonfood', 'food', 'nonfood', 'food', 'food', 'nonfood', 'food', 'nonfood', 'nonfood', 'food', 'nonfood', 'food', 'food', 'nonfood', 'nonfood', 'nonfood', 'nonfood', 'nonfood', 'nonfood', 'food', 'nonfood', 'food', 'food', 'food', 'food', 'food', 'nonfood', 'food', 'nonfood', 'nonfood', 'nonfood', 'nonfood', 'food', 'food', 'nonfood', 'nonfood', 'nonfood', 'food', 'nonfood', 'nonfood', 'food', 'nonfood', 'nonfood', 'food', 'nonfood', 'food', 'food', 'nonfood', 'nonfood', 'nonfood', 'nonfood', 'food', 'food', 'nonfood', 'food', 'food', 'nonfood', 'nonfood', 'nonfood', 'food', 'nonfood', 'food', 'nonfood', 'nonfood', 'food', 'nonfood', 'food', 'nonfood', 'nonfood', 'nonfood', 'food', 'nonfood', 'nonfood', 'nonfood', 'nonfood', 'food', 'food', 'nonfood', 'nonfood', 'nonfood', 'nonfood', 'nonfood', 'food', 'nonfood', 'nonfood', 'food', 'food', 'nonfood', 'food', 'nonfood', 'nonfood', 'nonfood', 'food', 'food', 'nonfood', 'nonfood', 'food', 'food', 'food', 'food', 'food', 'nonfood', 'nonfood', 'food', 'nonfood', 'food', 'nonfood', 'food', 'food', 'food', 'food', 'nonfood', 'nonfood', 'food', 'food', 'nonfood', 'food', 'food', 'nonfood', 'food', 'food', 'food', 'food', 'food', 'food', 'food', 'nonfood', 'food', 'nonfood', 'nonfood', 'nonfood', 'nonfood', 'nonfood', 'nonfood', 'nonfood', 'nonfood', 'nonfood', 'nonfood', 'food', 'nonfood', 'food', 'nonfood', 'food', 'food', 'nonfood', 'food', 'nonfood', 'food', 'food', 'nonfood', 'nonfood', 'nonfood', 'food', 'food', 'nonfood', 'food', 'nonfood', 'nonfood', 'nonfood', 'nonfood', 'nonfood', 'food', 'nonfood', 'nonfood', 'nonfood', 'nonfood', 'nonfood', 'food', 'nonfood', 'food', 'food', 'food', 'food', 'nonfood', 'food', 'nonfood', 'food', 'food', 'food', 'food', 'food', 'food', 'food', 'nonfood', 'food', 'nonfood', 'food', 'nonfood', 'food', 'food', 'food', 'food', 'food', 'food', 'food', 'nonfood', 'nonfood', 'nonfood', 'food', 'nonfood', 'food', 'food', 'nonfood', 'food', 'food', 'nonfood', 'food', 'nonfood', 'food', 'food', 'food', 'nonfood', 'food', 'nonfood', 'food', 'food', 'nonfood', 'nonfood', 'nonfood', 'food', 'nonfood', 'nonfood', 'food', 'nonfood', 'food', 'food', 'nonfood', 'food', 'nonfood', 'nonfood', 'nonfood', 'food', 'food', 'nonfood', 'nonfood', 'food', 'food', 'food', 'nonfood', 'food', 'food', 'food', 'nonfood', 'food', 'food', 'nonfood', 'food', 'nonfood', 'nonfood', 'food', 'nonfood', 'food', 'nonfood', 'nonfood', 'nonfood', 'food', 'food', 'food', 'nonfood', 'nonfood', 'food', 'food', 'nonfood', 'food', 'food', 'food', 'nonfood', 'nonfood', 'nonfood', 'nonfood', 'nonfood', 'nonfood', 'nonfood', 'food', 'food', 'food', 'nonfood', 'nonfood', 'nonfood', 'nonfood', 'food', 'food', 'nonfood', 'food', 'nonfood', 'nonfood', 'nonfood', 'food', 'food', 'food', 'food', 'nonfood', 'nonfood', 'nonfood', 'nonfood', 'food', 'food', 'food', 'food', 'nonfood', 'nonfood', 'food', 'food', 'nonfood', 'food', 'nonfood', 'nonfood', 'nonfood', 'nonfood', 'nonfood', 'food', 'nonfood', 'nonfood', 'food', 'food', 'nonfood', 'food', 'nonfood', 'food', 'nonfood', 'nonfood', 'food', 'nonfood', 'food', 'food', 'food', 'food', 'nonfood', 'food', 'food', 'food', 'food', 'food', 'food', 'food', 'food', 'food', 'food', 'food', 'nonfood', 'nonfood', 'food', 'nonfood', 'nonfood', 'nonfood', 'food', 'nonfood', 'food', 'nonfood', 'food', 'food', 'food', 'nonfood', 'nonfood', 'nonfood', 'nonfood', 'food', 'food', 'food', 'food', 'food', 'nonfood', 'food', 'food', 'nonfood', 'nonfood', 'nonfood', 'nonfood', 'food', 'food', 'food', 'nonfood', 'nonfood', 'nonfood', 'nonfood', 'nonfood', 'food', 'food', 'food', 'nonfood', 'food', 'food', 'nonfood', 'food', 'nonfood', 'nonfood', 'food', 'food', 'food', 'food', 'nonfood', 'food', 'nonfood', 'nonfood', 'food', 'nonfood', 'nonfood', 'nonfood', 'nonfood', 'nonfood', 'food', 'food', 'nonfood', 'nonfood', 'nonfood', 'food', 'nonfood', 'food', 'food', 'food', 'food', 'nonfood', 'food', 'nonfood', 'nonfood', 'food', 'food', 'nonfood', 'food', 'food', 'food', 'nonfood', 'food', 'food', 'nonfood', 'food', 'food', 'nonfood', 'food', 'food', 'food', 'nonfood', 'nonfood', 'nonfood', 'food', 'food', 'nonfood', 'nonfood', 'food', 'nonfood', 'food', 'nonfood', 'food', 'nonfood', 'nonfood', 'nonfood', 'food', 'nonfood', 'nonfood', 'nonfood', 'food', 'nonfood', 'food', 'nonfood', 'nonfood', 'food', 'food', 'food', 'nonfood', 'nonfood', 'food', 'food', 'food', 'food', 'nonfood', 'nonfood', 'food', 'nonfood', 'food', 'nonfood', 'food', 'nonfood', 'food', 'food', 'food', 'food', 'nonfood', 'nonfood', 'nonfood', 'nonfood', 'nonfood', 'nonfood', 'nonfood', 'food', 'nonfood', 'food', 'food', 'nonfood', 'nonfood', 'food', 'food', 'food', 'food', 'nonfood', 'nonfood', 'nonfood', 'nonfood', 'nonfood', 'food', 'nonfood', 'food', 'nonfood', 'food', 'nonfood', 'nonfood', 'nonfood', 'nonfood', 'food', 'nonfood', 'food', 'nonfood', 'nonfood', 'food', 'food', 'nonfood', 'food', 'nonfood', 'food', 'nonfood', 'food', 'food', 'food', 'food', 'food', 'food', 'food', 'food', 'food', 'food', 'food', 'nonfood', 'nonfood', 'food', 'nonfood', 'food', 'nonfood', 'food', 'food', 'nonfood', 'nonfood', 'food', 'nonfood', 'food', 'food', 'food', 'nonfood', 'nonfood', 'nonfood', 'food', 'food', 'food', 'food', 'food', 'food', 'food', 'food', 'food', 'food', 'nonfood', 'nonfood', 'nonfood', 'food', 'food', 'food', 'nonfood', 'nonfood', 'nonfood', 'nonfood', 'food', 'food', 'food', 'food', 'nonfood', 'nonfood', 'food', 'food', 'food', 'nonfood', 'nonfood', 'food', 'food', 'nonfood', 'nonfood', 'food', 'food', 'food', 'nonfood', 'food', 'nonfood', 'food', 'nonfood', 'nonfood', 'food', 'nonfood', 'nonfood', 'food', 'food', 'food', 'nonfood', 'food', 'nonfood', 'food', 'nonfood', 'food', 'food', 'nonfood', 'nonfood', 'nonfood', 'nonfood', 'food', 'nonfood', 'nonfood', 'food', 'nonfood', 'food', 'food', 'food', 'food', 'food', 'food', 'food', 'nonfood', 'nonfood', 'food', 'nonfood', 'nonfood', 'nonfood', 'food', 'nonfood', 'nonfood', 'food', 'food', 'nonfood', 'food', 'food', 'nonfood', 'nonfood', 'nonfood', 'food', 'nonfood', 'food', 'food', 'nonfood', 'nonfood', 'nonfood', 'nonfood', 'nonfood', 'nonfood', 'nonfood', 'food', 'food', 'food', 'nonfood', 'food', 'nonfood', 'food', 'food', 'food', 'nonfood', 'nonfood', 'nonfood', 'food', 'nonfood', 'nonfood', 'food', 'nonfood', 'food', 'nonfood', 'food', 'nonfood', 'nonfood', 'nonfood', 'food', 'nonfood', 'nonfood', 'food', 'food', 'food', 'food', 'nonfood', 'food', 'food', 'nonfood', 'nonfood', 'nonfood', 'food', 'food', 'nonfood', 'nonfood', 'nonfood', 'nonfood', 'food', 'nonfood', 'food', 'nonfood', 'food', 'nonfood', 'food', 'nonfood', 'nonfood', 'nonfood', 'food', 'nonfood', 'food', 'nonfood', 'nonfood', 'nonfood', 'nonfood', 'food', 'nonfood', 'nonfood', 'nonfood', 'nonfood', 'food', 'nonfood', 'nonfood', 'food', 'nonfood', 'nonfood', 'food', 'nonfood', 'nonfood', 'food', 'nonfood', 'nonfood', 'food', 'food', 'food', 'nonfood', 'nonfood', 'food', 'nonfood', 'food', 'food', 'food', 'food', 'food', 'food', 'nonfood', 'food', 'nonfood', 'nonfood', 'nonfood', 'nonfood', 'nonfood', 'food', 'nonfood', 'nonfood', 'nonfood', 'food', 'nonfood', 'nonfood', 'food', 'food', 'nonfood', 'food', 'nonfood', 'food', 'nonfood', 'nonfood', 'nonfood', 'nonfood', 'food', 'nonfood', 'nonfood', 'nonfood', 'food', 'food', 'food', 'food', 'food', 'food', 'food', 'food', 'food', 'nonfood', 'food', 'nonfood', 'nonfood', 'food', 'food', 'food', 'nonfood', 'food', 'nonfood', 'nonfood', 'nonfood', 'food', 'nonfood', 'nonfood', 'nonfood', 'food', 'food', 'nonfood', 'nonfood', 'nonfood', 'nonfood', 'nonfood', 'nonfood', 'nonfood', 'food', 'nonfood', 'food', 'food', 'nonfood', 'nonfood', 'nonfood', 'nonfood', 'nonfood', 'nonfood', 'food', 'food', 'food', 'nonfood', 'food', 'food', 'nonfood', 'food', 'food', 'food', 'nonfood', 'food', 'food', 'nonfood', 'nonfood', 'food', 'nonfood', 'food', 'nonfood', 'food', 'nonfood', 'nonfood', 'nonfood', 'nonfood', 'nonfood', 'food', 'nonfood', 'nonfood', 'food', 'food', 'nonfood', 'food', 'nonfood', 'nonfood', 'nonfood', 'nonfood', 'food', 'nonfood', 'food', 'nonfood', 'food', 'nonfood', 'nonfood', 'food', 'food', 'nonfood', 'nonfood', 'food', 'food', 'nonfood', 'food', 'nonfood', 'food', 'food', 'food', 'nonfood', 'food', 'nonfood', 'food', 'food', 'food', 'food', 'nonfood', 'nonfood', 'food', 'food', 'food', 'food', 'nonfood', 'food', 'nonfood', 'food', 'food', 'nonfood', 'nonfood', 'nonfood', 'food', 'nonfood', 'food', 'nonfood', 'food', 'nonfood', 'nonfood', 'nonfood', 'food', 'food', 'nonfood', 'food', 'food', 'nonfood', 'food', 'nonfood', 'nonfood', 'nonfood', 'food', 'nonfood', 'nonfood', 'food', 'nonfood', 'food', 'nonfood', 'nonfood', 'nonfood', 'food', 'nonfood', 'nonfood', 'food', 'nonfood', 'food', 'nonfood', 'food', 'nonfood', 'food', 'nonfood', 'nonfood', 'nonfood', 'food', 'food', 'nonfood', 'food', 'nonfood', 'food', 'food', 'food', 'nonfood', 'food', 'food', 'nonfood', 'nonfood', 'nonfood', 'nonfood', 'food', 'nonfood', 'food', 'nonfood', 'nonfood', 'food', 'food', 'food', 'food', 'nonfood', 'nonfood', 'food', 'food', 'food', 'food']\n",
            "['nonfood', 'food', 'nonfood', 'food', 'nonfood', 'food', 'food', 'nonfood', 'food', 'nonfood', 'nonfood', 'food', 'food', 'nonfood', 'nonfood', 'food', 'food', 'food', 'nonfood', 'nonfood', 'food', 'food', 'food', 'nonfood', 'food', 'nonfood', 'nonfood', 'food', 'food', 'food', 'food', 'nonfood', 'food', 'nonfood', 'food', 'food', 'nonfood', 'food', 'food', 'food', 'food', 'food', 'food', 'food', 'nonfood', 'nonfood', 'nonfood', 'food', 'nonfood', 'nonfood', 'food', 'nonfood', 'food', 'nonfood', 'food', 'nonfood', 'food', 'food', 'nonfood', 'food', 'food', 'food', 'food', 'food', 'food', 'food', 'food', 'food', 'nonfood', 'food', 'nonfood', 'nonfood', 'nonfood', 'nonfood', 'food', 'food', 'nonfood', 'nonfood', 'nonfood', 'nonfood', 'nonfood', 'nonfood', 'food', 'nonfood', 'nonfood', 'food', 'nonfood', 'food', 'nonfood', 'nonfood', 'food', 'food', 'nonfood', 'food', 'nonfood', 'food', 'nonfood', 'nonfood', 'food', 'nonfood', 'nonfood', 'food', 'food', 'nonfood', 'food', 'food', 'nonfood', 'food', 'food', 'nonfood', 'nonfood', 'food', 'nonfood', 'nonfood', 'food', 'nonfood', 'food', 'food', 'food', 'nonfood', 'nonfood', 'food', 'food', 'nonfood', 'food', 'nonfood', 'nonfood', 'food', 'food', 'food', 'nonfood', 'food', 'nonfood', 'nonfood', 'food', 'food', 'food', 'nonfood', 'food', 'nonfood', 'nonfood', 'food', 'nonfood', 'nonfood', 'nonfood', 'food', 'nonfood', 'nonfood', 'nonfood', 'food', 'nonfood', 'nonfood', 'food', 'nonfood', 'food', 'nonfood', 'food', 'nonfood', 'nonfood', 'nonfood', 'nonfood', 'nonfood', 'food', 'food', 'nonfood', 'food', 'food', 'nonfood', 'nonfood', 'food', 'nonfood', 'nonfood', 'nonfood', 'food', 'nonfood', 'food', 'nonfood', 'nonfood', 'food', 'nonfood', 'food', 'nonfood', 'nonfood', 'nonfood', 'food', 'food', 'food', 'nonfood', 'food', 'nonfood', 'food', 'food', 'nonfood', 'food', 'food', 'nonfood', 'food', 'nonfood', 'food', 'food', 'food', 'nonfood', 'food', 'nonfood', 'nonfood', 'food', 'nonfood', 'nonfood', 'food', 'nonfood', 'nonfood', 'nonfood', 'food', 'nonfood', 'food', 'food', 'food', 'food', 'nonfood', 'nonfood', 'food', 'nonfood', 'food', 'nonfood', 'food', 'food', 'food', 'nonfood', 'food', 'food', 'food', 'nonfood', 'nonfood', 'food', 'food', 'food', 'food', 'nonfood', 'nonfood', 'food', 'nonfood', 'food', 'nonfood', 'nonfood', 'food', 'food', 'food', 'food', 'food', 'nonfood', 'food', 'food', 'food', 'food', 'nonfood', 'nonfood', 'nonfood', 'nonfood', 'nonfood', 'nonfood', 'nonfood', 'nonfood', 'food', 'food', 'food', 'nonfood', 'nonfood', 'nonfood', 'nonfood', 'food', 'nonfood', 'food', 'nonfood', 'food', 'food', 'food', 'nonfood', 'food', 'food', 'food', 'nonfood', 'food', 'food', 'food', 'food', 'nonfood', 'food', 'nonfood', 'food', 'food', 'nonfood', 'nonfood', 'food', 'nonfood', 'nonfood', 'nonfood', 'food', 'nonfood', 'nonfood', 'food', 'food', 'food', 'food', 'nonfood', 'nonfood', 'food', 'food', 'nonfood', 'nonfood', 'food', 'food', 'food', 'food', 'nonfood', 'nonfood', 'nonfood', 'food', 'nonfood', 'nonfood', 'nonfood', 'food', 'food', 'nonfood', 'nonfood', 'nonfood', 'nonfood', 'food', 'nonfood', 'nonfood', 'nonfood', 'food', 'food', 'nonfood', 'food', 'food', 'nonfood', 'nonfood', 'food', 'nonfood', 'food', 'nonfood', 'food', 'food', 'nonfood', 'food', 'food', 'nonfood', 'food', 'nonfood', 'food', 'food', 'nonfood', 'food', 'nonfood', 'nonfood', 'food', 'nonfood', 'food', 'nonfood', 'food', 'nonfood', 'nonfood', 'nonfood', 'food', 'food', 'food', 'nonfood', 'food', 'nonfood', 'nonfood', 'food', 'food', 'nonfood', 'nonfood', 'food', 'nonfood', 'food', 'nonfood', 'food', 'nonfood', 'food', 'nonfood', 'food', 'food', 'food', 'nonfood', 'nonfood', 'food', 'food', 'food', 'nonfood', 'nonfood', 'food', 'nonfood', 'nonfood', 'nonfood', 'food', 'food', 'food', 'nonfood', 'food', 'nonfood', 'nonfood', 'nonfood', 'nonfood', 'nonfood', 'food', 'nonfood', 'food', 'nonfood', 'nonfood', 'food', 'nonfood', 'food', 'food', 'food', 'food', 'food', 'nonfood', 'food', 'food', 'nonfood', 'food', 'food', 'food', 'food', 'food', 'food', 'food', 'food', 'nonfood', 'food', 'nonfood', 'food', 'food', 'food', 'food', 'nonfood', 'nonfood', 'food', 'food', 'nonfood', 'nonfood', 'food', 'nonfood', 'food', 'nonfood', 'nonfood', 'food', 'nonfood', 'nonfood', 'food', 'nonfood', 'food', 'food', 'food', 'food', 'food', 'food', 'food', 'food', 'food', 'food', 'food', 'food', 'nonfood', 'food', 'food', 'food', 'nonfood', 'food', 'nonfood', 'nonfood', 'food', 'nonfood', 'nonfood', 'nonfood', 'nonfood', 'food', 'food', 'nonfood', 'food', 'nonfood', 'nonfood', 'nonfood', 'nonfood', 'nonfood', 'nonfood', 'food', 'nonfood', 'food', 'nonfood', 'nonfood', 'nonfood', 'nonfood', 'food', 'food', 'nonfood', 'food', 'nonfood', 'nonfood', 'food', 'food', 'nonfood', 'food', 'nonfood', 'nonfood', 'food', 'nonfood', 'food', 'nonfood', 'food', 'food', 'nonfood', 'food', 'nonfood', 'food', 'food', 'food', 'nonfood', 'food', 'food', 'nonfood', 'food', 'food', 'nonfood', 'nonfood', 'nonfood', 'nonfood', 'nonfood', 'nonfood', 'food', 'food', 'nonfood', 'food', 'nonfood', 'food', 'nonfood', 'food', 'food', 'nonfood', 'nonfood', 'food', 'nonfood', 'food', 'food', 'food', 'nonfood', 'nonfood', 'food', 'nonfood', 'nonfood', 'food', 'nonfood', 'food', 'nonfood', 'food', 'food', 'food', 'food', 'nonfood', 'nonfood', 'nonfood', 'food', 'food', 'nonfood', 'nonfood', 'food', 'food', 'nonfood', 'food', 'food', 'nonfood', 'food', 'nonfood', 'food', 'food', 'food', 'food', 'food', 'food', 'food', 'nonfood', 'nonfood', 'food', 'nonfood', 'nonfood', 'nonfood', 'food', 'nonfood', 'nonfood', 'nonfood', 'nonfood', 'food', 'food', 'food', 'nonfood', 'food', 'nonfood', 'food']\n"
          ],
          "name": "stdout"
        }
      ]
    },
    {
      "cell_type": "code",
      "metadata": {
        "colab": {
          "base_uri": "https://localhost:8080/"
        },
        "id": "tcCDEb7Hv_a_",
        "outputId": "bec1c302-8fd4-4b04-aa63-4dfbd1481458"
      },
      "source": [
        "d = model(train_set_x, y_train, test_set_x, y_test, num_iterations = 2000, learning_rate = 0.005, print_cost = True)"
      ],
      "execution_count": null,
      "outputs": [
        {
          "output_type": "stream",
          "text": [
            "Cost after iteration 0: 0.693147\n"
          ],
          "name": "stdout"
        },
        {
          "output_type": "stream",
          "text": [
            "/usr/local/lib/python3.7/dist-packages/ipykernel_launcher.py:7: RuntimeWarning: divide by zero encountered in log\n",
            "  import sys\n",
            "/usr/local/lib/python3.7/dist-packages/ipykernel_launcher.py:7: RuntimeWarning: invalid value encountered in multiply\n",
            "  import sys\n"
          ],
          "name": "stderr"
        },
        {
          "output_type": "stream",
          "text": [
            "Cost after iteration 100: nan\n",
            "Cost after iteration 200: nan\n",
            "Cost after iteration 300: nan\n",
            "Cost after iteration 400: nan\n",
            "Cost after iteration 500: nan\n",
            "Cost after iteration 600: nan\n",
            "Cost after iteration 700: nan\n",
            "Cost after iteration 800: nan\n",
            "Cost after iteration 900: nan\n",
            "Cost after iteration 1000: nan\n",
            "Cost after iteration 1100: nan\n",
            "Cost after iteration 1200: nan\n",
            "Cost after iteration 1300: nan\n",
            "Cost after iteration 1400: nan\n",
            "Cost after iteration 1500: nan\n",
            "Cost after iteration 1600: nan\n",
            "Cost after iteration 1700: nan\n",
            "Cost after iteration 1800: nan\n",
            "Cost after iteration 1900: nan\n",
            "train accuracy: 88.5 %\n",
            "test accuracy: 78.33333333333333 %\n"
          ],
          "name": "stdout"
        }
      ]
    },
    {
      "cell_type": "code",
      "metadata": {
        "id": "pAIN4Sj7IRTB"
      },
      "source": [
        ""
      ],
      "execution_count": null,
      "outputs": []
    },
    {
      "cell_type": "markdown",
      "metadata": {
        "id": "-IZJJvxfVegD"
      },
      "source": [
        "### more Neural Networks explored"
      ]
    },
    {
      "cell_type": "code",
      "metadata": {
        "id": "O5FuT_HtVmVL"
      },
      "source": [
        "import tensorflow as tf"
      ],
      "execution_count": null,
      "outputs": []
    },
    {
      "cell_type": "code",
      "metadata": {
        "colab": {
          "base_uri": "https://localhost:8080/",
          "height": 419
        },
        "id": "skMo66R-Xf3w",
        "outputId": "6e8b61b0-b9a8-4c6f-bb38-37115642c61c"
      },
      "source": [
        "for i in range(len(df_training['Image'])):\n",
        "  if df_training['Food/Non-Food'][i] == 1:\n",
        "    df_training['Food/Non-Food'][i] = 'Food'\n",
        "  else:\n",
        "    df_training['Food/Non-Food'][i] = 'Non-Food'\n",
        "  # df_training['Image'][i] = df_training['Image'][i].split(\"/\")[8]\n",
        "df_training"
      ],
      "execution_count": null,
      "outputs": [
        {
          "output_type": "execute_result",
          "data": {
            "text/html": [
              "<div>\n",
              "<style scoped>\n",
              "    .dataframe tbody tr th:only-of-type {\n",
              "        vertical-align: middle;\n",
              "    }\n",
              "\n",
              "    .dataframe tbody tr th {\n",
              "        vertical-align: top;\n",
              "    }\n",
              "\n",
              "    .dataframe thead th {\n",
              "        text-align: right;\n",
              "    }\n",
              "</style>\n",
              "<table border=\"1\" class=\"dataframe\">\n",
              "  <thead>\n",
              "    <tr style=\"text-align: right;\">\n",
              "      <th></th>\n",
              "      <th>Image</th>\n",
              "      <th>Food/Non-Food</th>\n",
              "    </tr>\n",
              "  </thead>\n",
              "  <tbody>\n",
              "    <tr>\n",
              "      <th>0</th>\n",
              "      <td>/content/drive/MyDrive/Tatras projects/Food No...</td>\n",
              "      <td>Food</td>\n",
              "    </tr>\n",
              "    <tr>\n",
              "      <th>1</th>\n",
              "      <td>/content/drive/MyDrive/Tatras projects/Food No...</td>\n",
              "      <td>Food</td>\n",
              "    </tr>\n",
              "    <tr>\n",
              "      <th>2</th>\n",
              "      <td>/content/drive/MyDrive/Tatras projects/Food No...</td>\n",
              "      <td>Food</td>\n",
              "    </tr>\n",
              "    <tr>\n",
              "      <th>3</th>\n",
              "      <td>/content/drive/MyDrive/Tatras projects/Food No...</td>\n",
              "      <td>Food</td>\n",
              "    </tr>\n",
              "    <tr>\n",
              "      <th>4</th>\n",
              "      <td>/content/drive/MyDrive/Tatras projects/Food No...</td>\n",
              "      <td>Food</td>\n",
              "    </tr>\n",
              "    <tr>\n",
              "      <th>...</th>\n",
              "      <td>...</td>\n",
              "      <td>...</td>\n",
              "    </tr>\n",
              "    <tr>\n",
              "      <th>2995</th>\n",
              "      <td>/content/drive/MyDrive/Tatras projects/Food No...</td>\n",
              "      <td>Non-Food</td>\n",
              "    </tr>\n",
              "    <tr>\n",
              "      <th>2996</th>\n",
              "      <td>/content/drive/MyDrive/Tatras projects/Food No...</td>\n",
              "      <td>Non-Food</td>\n",
              "    </tr>\n",
              "    <tr>\n",
              "      <th>2997</th>\n",
              "      <td>/content/drive/MyDrive/Tatras projects/Food No...</td>\n",
              "      <td>Non-Food</td>\n",
              "    </tr>\n",
              "    <tr>\n",
              "      <th>2998</th>\n",
              "      <td>/content/drive/MyDrive/Tatras projects/Food No...</td>\n",
              "      <td>Non-Food</td>\n",
              "    </tr>\n",
              "    <tr>\n",
              "      <th>2999</th>\n",
              "      <td>/content/drive/MyDrive/Tatras projects/Food No...</td>\n",
              "      <td>Non-Food</td>\n",
              "    </tr>\n",
              "  </tbody>\n",
              "</table>\n",
              "<p>3000 rows × 2 columns</p>\n",
              "</div>"
            ],
            "text/plain": [
              "                                                  Image Food/Non-Food\n",
              "0     /content/drive/MyDrive/Tatras projects/Food No...          Food\n",
              "1     /content/drive/MyDrive/Tatras projects/Food No...          Food\n",
              "2     /content/drive/MyDrive/Tatras projects/Food No...          Food\n",
              "3     /content/drive/MyDrive/Tatras projects/Food No...          Food\n",
              "4     /content/drive/MyDrive/Tatras projects/Food No...          Food\n",
              "...                                                 ...           ...\n",
              "2995  /content/drive/MyDrive/Tatras projects/Food No...      Non-Food\n",
              "2996  /content/drive/MyDrive/Tatras projects/Food No...      Non-Food\n",
              "2997  /content/drive/MyDrive/Tatras projects/Food No...      Non-Food\n",
              "2998  /content/drive/MyDrive/Tatras projects/Food No...      Non-Food\n",
              "2999  /content/drive/MyDrive/Tatras projects/Food No...      Non-Food\n",
              "\n",
              "[3000 rows x 2 columns]"
            ]
          },
          "metadata": {
            "tags": []
          },
          "execution_count": 15
        }
      ]
    },
    {
      "cell_type": "code",
      "metadata": {
        "colab": {
          "base_uri": "https://localhost:8080/",
          "height": 35
        },
        "id": "TYVcxBB-bJa6",
        "outputId": "d7e05ae3-eb5a-40fb-a504-9d47d8ff3498"
      },
      "source": [
        "df_training['Image'][0].split(\"/\")[8]"
      ],
      "execution_count": null,
      "outputs": [
        {
          "output_type": "execute_result",
          "data": {
            "application/vnd.google.colaboratory.intrinsic+json": {
              "type": "string"
            },
            "text/plain": [
              "'1287.jpg'"
            ]
          },
          "metadata": {
            "tags": []
          },
          "execution_count": 44
        }
      ]
    },
    {
      "cell_type": "code",
      "metadata": {
        "colab": {
          "base_uri": "https://localhost:8080/",
          "height": 572
        },
        "id": "BzWU2iZodA5e",
        "outputId": "b6d61670-578f-47c0-9660-0c256a5e813d"
      },
      "source": [
        "import pandas as pd\n",
        "import os\n",
        "import glob\n",
        "from tqdm import tqdm\n",
        "df_validation = pd.DataFrame(columns = ['Image','Food/Non-Food'])\n",
        "print(df_validation)\n",
        "#appending names of these files in the csv file with lables food or nonfood \n",
        "validation_direc = '/content/drive/MyDrive/Tatras projects/Food Nonfood data /validation'\n",
        "print(validation_direc)\n",
        "\n",
        "# for food directory\n",
        "food_direcval = validation_direc+\"/food/\"\n",
        "nonfood_direcval = validation_direc+\"/non_food/\"\n",
        "print(food_direcval)\n",
        "print(nonfood_direcval)\n",
        "\n",
        "list_food_items = [f for f in tqdm(glob.glob(food_direcval+\"*.jpg\"))]\n",
        "list_nonfood_items = [f for f in tqdm(glob.glob(nonfood_direcval+\"*.jpg\"))]\n",
        "print(len(list_food_items),len(list_nonfood_items))\n",
        "df_validation['Image'] = list_food_items + list_nonfood_items\n",
        "for i in range(len(df_validation['Image'])):\n",
        "  if df_validation['Image'][i] in list_food_items:\n",
        "    df_validation['Food/Non-Food'][i] = 'Food'\n",
        "  else:\n",
        "    df_validation['Food/Non-Food'][i] = 'Non-Food'\n",
        "df_validation\n",
        "# 1 is for food images and 0 is for non-fod images"
      ],
      "execution_count": null,
      "outputs": [
        {
          "output_type": "stream",
          "text": [
            "Empty DataFrame\n",
            "Columns: [Image, Food/Non-Food]\n",
            "Index: []\n",
            "/content/drive/MyDrive/Tatras projects/Food Nonfood data /validation\n",
            "/content/drive/MyDrive/Tatras projects/Food Nonfood data /validation/food/\n",
            "/content/drive/MyDrive/Tatras projects/Food Nonfood data /validation/non_food/\n"
          ],
          "name": "stdout"
        },
        {
          "output_type": "stream",
          "text": [
            "100%|██████████| 500/500 [00:00<00:00, 124741.38it/s]\n",
            "100%|██████████| 500/500 [00:00<00:00, 136631.18it/s]"
          ],
          "name": "stderr"
        },
        {
          "output_type": "stream",
          "text": [
            "500 500\n"
          ],
          "name": "stdout"
        },
        {
          "output_type": "stream",
          "text": [
            "\n"
          ],
          "name": "stderr"
        },
        {
          "output_type": "execute_result",
          "data": {
            "text/html": [
              "<div>\n",
              "<style scoped>\n",
              "    .dataframe tbody tr th:only-of-type {\n",
              "        vertical-align: middle;\n",
              "    }\n",
              "\n",
              "    .dataframe tbody tr th {\n",
              "        vertical-align: top;\n",
              "    }\n",
              "\n",
              "    .dataframe thead th {\n",
              "        text-align: right;\n",
              "    }\n",
              "</style>\n",
              "<table border=\"1\" class=\"dataframe\">\n",
              "  <thead>\n",
              "    <tr style=\"text-align: right;\">\n",
              "      <th></th>\n",
              "      <th>Image</th>\n",
              "      <th>Food/Non-Food</th>\n",
              "    </tr>\n",
              "  </thead>\n",
              "  <tbody>\n",
              "    <tr>\n",
              "      <th>0</th>\n",
              "      <td>/content/drive/MyDrive/Tatras projects/Food No...</td>\n",
              "      <td>Food</td>\n",
              "    </tr>\n",
              "    <tr>\n",
              "      <th>1</th>\n",
              "      <td>/content/drive/MyDrive/Tatras projects/Food No...</td>\n",
              "      <td>Food</td>\n",
              "    </tr>\n",
              "    <tr>\n",
              "      <th>2</th>\n",
              "      <td>/content/drive/MyDrive/Tatras projects/Food No...</td>\n",
              "      <td>Food</td>\n",
              "    </tr>\n",
              "    <tr>\n",
              "      <th>3</th>\n",
              "      <td>/content/drive/MyDrive/Tatras projects/Food No...</td>\n",
              "      <td>Food</td>\n",
              "    </tr>\n",
              "    <tr>\n",
              "      <th>4</th>\n",
              "      <td>/content/drive/MyDrive/Tatras projects/Food No...</td>\n",
              "      <td>Food</td>\n",
              "    </tr>\n",
              "    <tr>\n",
              "      <th>...</th>\n",
              "      <td>...</td>\n",
              "      <td>...</td>\n",
              "    </tr>\n",
              "    <tr>\n",
              "      <th>995</th>\n",
              "      <td>/content/drive/MyDrive/Tatras projects/Food No...</td>\n",
              "      <td>Non-Food</td>\n",
              "    </tr>\n",
              "    <tr>\n",
              "      <th>996</th>\n",
              "      <td>/content/drive/MyDrive/Tatras projects/Food No...</td>\n",
              "      <td>Non-Food</td>\n",
              "    </tr>\n",
              "    <tr>\n",
              "      <th>997</th>\n",
              "      <td>/content/drive/MyDrive/Tatras projects/Food No...</td>\n",
              "      <td>Non-Food</td>\n",
              "    </tr>\n",
              "    <tr>\n",
              "      <th>998</th>\n",
              "      <td>/content/drive/MyDrive/Tatras projects/Food No...</td>\n",
              "      <td>Non-Food</td>\n",
              "    </tr>\n",
              "    <tr>\n",
              "      <th>999</th>\n",
              "      <td>/content/drive/MyDrive/Tatras projects/Food No...</td>\n",
              "      <td>Non-Food</td>\n",
              "    </tr>\n",
              "  </tbody>\n",
              "</table>\n",
              "<p>1000 rows × 2 columns</p>\n",
              "</div>"
            ],
            "text/plain": [
              "                                                 Image Food/Non-Food\n",
              "0    /content/drive/MyDrive/Tatras projects/Food No...          Food\n",
              "1    /content/drive/MyDrive/Tatras projects/Food No...          Food\n",
              "2    /content/drive/MyDrive/Tatras projects/Food No...          Food\n",
              "3    /content/drive/MyDrive/Tatras projects/Food No...          Food\n",
              "4    /content/drive/MyDrive/Tatras projects/Food No...          Food\n",
              "..                                                 ...           ...\n",
              "995  /content/drive/MyDrive/Tatras projects/Food No...      Non-Food\n",
              "996  /content/drive/MyDrive/Tatras projects/Food No...      Non-Food\n",
              "997  /content/drive/MyDrive/Tatras projects/Food No...      Non-Food\n",
              "998  /content/drive/MyDrive/Tatras projects/Food No...      Non-Food\n",
              "999  /content/drive/MyDrive/Tatras projects/Food No...      Non-Food\n",
              "\n",
              "[1000 rows x 2 columns]"
            ]
          },
          "metadata": {
            "tags": []
          },
          "execution_count": 16
        }
      ]
    },
    {
      "cell_type": "code",
      "metadata": {
        "colab": {
          "base_uri": "https://localhost:8080/"
        },
        "id": "SXSd7G_UVqwC",
        "outputId": "59a8b0fb-9440-462d-b499-12a12771da08"
      },
      "source": [
        "from tensorflow.keras.preprocessing.image import ImageDataGenerator\n",
        "from tensorflow.keras.applications.resnet50 import preprocess_input\n",
        "\n",
        "train_datagen = ImageDataGenerator(\n",
        "    preprocessing_function = preprocess_input,\n",
        "    featurewise_center=True,\n",
        "    featurewise_std_normalization=True,\n",
        "    rotation_range=20,\n",
        "    width_shift_range=0.2,\n",
        "    height_shift_range=0.2,\n",
        "    horizontal_flip=True,\n",
        ")\n",
        "\n",
        "train_generator = train_datagen.flow_from_directory(\n",
        "    directory='/content/drive/MyDrive/Tatras projects/Food Nonfood data /training',\n",
        "    class_mode='categorical',\n",
        "    target_size=(224, 224),\n",
        "    subset = 'training'\n",
        ")\n",
        "val_datagen = ImageDataGenerator(\n",
        "    preprocessing_function = preprocess_input,\n",
        "    featurewise_center=True,\n",
        "    featurewise_std_normalization=True,\n",
        "    rotation_range=20,\n",
        "    width_shift_range=0.2,\n",
        "    height_shift_range=0.2,\n",
        "    horizontal_flip=True,\n",
        ") \n",
        "val_generator = val_datagen.flow_from_directory(\n",
        "    directory='/content/drive/MyDrive/Tatras projects/Food Nonfood data /validation',\n",
        "    class_mode='categorical',\n",
        "    target_size=(224, 224),\n",
        "    subset = 'training'\n",
        ")"
      ],
      "execution_count": null,
      "outputs": [
        {
          "output_type": "stream",
          "text": [
            "Found 3000 images belonging to 2 classes.\n",
            "Found 1000 images belonging to 2 classes.\n"
          ],
          "name": "stdout"
        }
      ]
    },
    {
      "cell_type": "code",
      "metadata": {
        "colab": {
          "base_uri": "https://localhost:8080/"
        },
        "id": "RVeqkR7lnOCR",
        "outputId": "7f59941f-67be-4094-c3c1-68dd1315a35a"
      },
      "source": [
        "x, y = train_generator.next()\n",
        "x.shape"
      ],
      "execution_count": null,
      "outputs": [
        {
          "output_type": "stream",
          "text": [
            "/usr/local/lib/python3.7/dist-packages/keras_preprocessing/image/image_data_generator.py:720: UserWarning: This ImageDataGenerator specifies `featurewise_center`, but it hasn't been fit on any training data. Fit it first by calling `.fit(numpy_data)`.\n",
            "  warnings.warn('This ImageDataGenerator specifies '\n",
            "/usr/local/lib/python3.7/dist-packages/keras_preprocessing/image/image_data_generator.py:728: UserWarning: This ImageDataGenerator specifies `featurewise_std_normalization`, but it hasn't been fit on any training data. Fit it first by calling `.fit(numpy_data)`.\n",
            "  warnings.warn('This ImageDataGenerator specifies '\n"
          ],
          "name": "stderr"
        },
        {
          "output_type": "execute_result",
          "data": {
            "text/plain": [
              "(32, 224, 224, 3)"
            ]
          },
          "metadata": {
            "tags": []
          },
          "execution_count": 9
        }
      ]
    },
    {
      "cell_type": "code",
      "metadata": {
        "colab": {
          "base_uri": "https://localhost:8080/"
        },
        "id": "RQHUT8rpnUtw",
        "outputId": "1c0934d9-3372-4909-fb6b-c15f80ac8e7d"
      },
      "source": [
        "y"
      ],
      "execution_count": null,
      "outputs": [
        {
          "output_type": "execute_result",
          "data": {
            "text/plain": [
              "array([[0., 1.],\n",
              "       [1., 0.],\n",
              "       [1., 0.],\n",
              "       [1., 0.],\n",
              "       [0., 1.],\n",
              "       [1., 0.],\n",
              "       [0., 1.],\n",
              "       [0., 1.],\n",
              "       [0., 1.],\n",
              "       [0., 1.],\n",
              "       [0., 1.],\n",
              "       [0., 1.],\n",
              "       [0., 1.],\n",
              "       [1., 0.],\n",
              "       [1., 0.],\n",
              "       [0., 1.],\n",
              "       [0., 1.],\n",
              "       [1., 0.],\n",
              "       [1., 0.],\n",
              "       [1., 0.],\n",
              "       [1., 0.],\n",
              "       [1., 0.],\n",
              "       [1., 0.],\n",
              "       [0., 1.],\n",
              "       [0., 1.],\n",
              "       [1., 0.],\n",
              "       [1., 0.],\n",
              "       [0., 1.],\n",
              "       [1., 0.],\n",
              "       [1., 0.],\n",
              "       [1., 0.],\n",
              "       [0., 1.]], dtype=float32)"
            ]
          },
          "metadata": {
            "tags": []
          },
          "execution_count": 10
        }
      ]
    },
    {
      "cell_type": "code",
      "metadata": {
        "colab": {
          "base_uri": "https://localhost:8080/"
        },
        "id": "eJyBLnBanbx7",
        "outputId": "a6d64126-0877-4a48-ce38-4926cffef121"
      },
      "source": [
        "train_generator.num_classes"
      ],
      "execution_count": null,
      "outputs": [
        {
          "output_type": "execute_result",
          "data": {
            "text/plain": [
              "2"
            ]
          },
          "metadata": {
            "tags": []
          },
          "execution_count": 11
        }
      ]
    },
    {
      "cell_type": "code",
      "metadata": {
        "id": "afdEJFkhnfM8"
      },
      "source": [
        ""
      ],
      "execution_count": null,
      "outputs": []
    },
    {
      "cell_type": "markdown",
      "metadata": {
        "id": "U8Re8TyjLmvz"
      },
      "source": [
        "### Xception model"
      ]
    },
    {
      "cell_type": "code",
      "metadata": {
        "colab": {
          "base_uri": "https://localhost:8080/"
        },
        "id": "nvo2ngjAg3ln",
        "outputId": "f0303a04-931b-4cff-8982-147cf1faefd4"
      },
      "source": [
        "import tensorflow as tf\n",
        "from tensorflow.keras.applications import Xception\n",
        "\n",
        "feature_extractor = Xception(weights='imagenet', \n",
        "                             input_shape=(224, 224, 3),\n",
        "                             include_top=False)\n",
        "\n",
        "# Either set last 1 or 2 layers to trainable or add 1 or 2 trainable Dense() layers at the end/top of architecture\n",
        "feature_extractor.trainable = False\n",
        "\n",
        "input_ = tf.keras.Input(shape=(224, 224, 3))\n",
        "\n",
        "x = feature_extractor(input_, training=False)\n",
        "x = tf.keras.layers.GlobalAveragePooling2D()(x)\n",
        "\n",
        "# x = tf.keras.layers.Dense(64, activation='relu')(x)\n",
        "# x = tf.keras.layers.Dense(32, activation='relu')(x)\n",
        "output_ = tf.keras.layers.Dense(1, activation='sigmoid')(x)\n",
        "\n",
        "model = tf.keras.Model(input_, output_)\n",
        "\n",
        "model.compile(optimizer='adam',\n",
        "             loss='binary_crossentropy',\n",
        "             metrics=['accuracy'])\n",
        "\n",
        "# print\n",
        "model.summary()\n"
      ],
      "execution_count": null,
      "outputs": [
        {
          "output_type": "stream",
          "text": [
            "Model: \"model_2\"\n",
            "_________________________________________________________________\n",
            "Layer (type)                 Output Shape              Param #   \n",
            "=================================================================\n",
            "input_7 (InputLayer)         [(None, 224, 224, 3)]     0         \n",
            "_________________________________________________________________\n",
            "xception (Functional)        (None, 7, 7, 2048)        20861480  \n",
            "_________________________________________________________________\n",
            "global_average_pooling2d_2 ( (None, 2048)              0         \n",
            "_________________________________________________________________\n",
            "dense_4 (Dense)              (None, 64)                131136    \n",
            "_________________________________________________________________\n",
            "dense_5 (Dense)              (None, 32)                2080      \n",
            "_________________________________________________________________\n",
            "dense_6 (Dense)              (None, 1)                 33        \n",
            "=================================================================\n",
            "Total params: 20,994,729\n",
            "Trainable params: 133,249\n",
            "Non-trainable params: 20,861,480\n",
            "_________________________________________________________________\n"
          ],
          "name": "stdout"
        }
      ]
    },
    {
      "cell_type": "code",
      "metadata": {
        "colab": {
          "base_uri": "https://localhost:8080/"
        },
        "id": "3XT1tcOFV6m1",
        "outputId": "0d922288-cc6c-4cb2-c6bc-2141e745af26"
      },
      "source": [
        "\n",
        "model.fit(train_generator, epochs=20, validation_data=val_generator)\n",
        "\n",
        "\n",
        "model.save('./cnn_food_model')'\n",
        "\n",
        "\n"
      ],
      "execution_count": null,
      "outputs": [
        {
          "output_type": "stream",
          "text": [
            "Downloading data from https://storage.googleapis.com/tensorflow/keras-applications/xception/xception_weights_tf_dim_ordering_tf_kernels_notop.h5\n",
            "83689472/83683744 [==============================] - 1s 0us/step\n"
          ],
          "name": "stdout"
        },
        {
          "output_type": "stream",
          "text": [
            "/usr/local/lib/python3.7/dist-packages/keras_preprocessing/image/image_data_generator.py:720: UserWarning: This ImageDataGenerator specifies `featurewise_center`, but it hasn't been fit on any training data. Fit it first by calling `.fit(numpy_data)`.\n",
            "  warnings.warn('This ImageDataGenerator specifies '\n",
            "/usr/local/lib/python3.7/dist-packages/keras_preprocessing/image/image_data_generator.py:728: UserWarning: This ImageDataGenerator specifies `featurewise_std_normalization`, but it hasn't been fit on any training data. Fit it first by calling `.fit(numpy_data)`.\n",
            "  warnings.warn('This ImageDataGenerator specifies '\n"
          ],
          "name": "stderr"
        },
        {
          "output_type": "stream",
          "text": [
            "Epoch 1/20\n",
            "94/94 [==============================] - 891s 9s/step - loss: 1.4097 - accuracy: 0.6253 - val_loss: 0.8808 - val_accuracy: 0.6860\n",
            "Epoch 2/20\n",
            "94/94 [==============================] - 769s 8s/step - loss: 0.8214 - accuracy: 0.7007 - val_loss: 0.7631 - val_accuracy: 0.7060\n",
            "Epoch 3/20\n",
            "94/94 [==============================] - 805s 9s/step - loss: 0.7496 - accuracy: 0.7230 - val_loss: 0.6910 - val_accuracy: 0.7530\n",
            "Epoch 4/20\n",
            "94/94 [==============================] - 795s 8s/step - loss: 0.6769 - accuracy: 0.7283 - val_loss: 0.6726 - val_accuracy: 0.7350\n",
            "Epoch 5/20\n",
            "94/94 [==============================] - 768s 8s/step - loss: 0.5976 - accuracy: 0.7620 - val_loss: 0.5841 - val_accuracy: 0.7690\n",
            "Epoch 6/20\n",
            "94/94 [==============================] - 766s 8s/step - loss: 0.6187 - accuracy: 0.7620 - val_loss: 0.6474 - val_accuracy: 0.7480\n",
            "Epoch 7/20\n",
            "94/94 [==============================] - 772s 8s/step - loss: 0.6122 - accuracy: 0.7530 - val_loss: 0.5842 - val_accuracy: 0.7690\n",
            "Epoch 8/20\n",
            "94/94 [==============================] - 771s 8s/step - loss: 0.5956 - accuracy: 0.7673 - val_loss: 0.5572 - val_accuracy: 0.7680\n",
            "Epoch 9/20\n",
            "94/94 [==============================] - 765s 8s/step - loss: 0.5550 - accuracy: 0.7863 - val_loss: 0.6638 - val_accuracy: 0.7480\n",
            "Epoch 10/20\n",
            "94/94 [==============================] - 773s 8s/step - loss: 0.5347 - accuracy: 0.7770 - val_loss: 0.5381 - val_accuracy: 0.7910\n",
            "Epoch 11/20\n",
            "94/94 [==============================] - 786s 8s/step - loss: 0.5051 - accuracy: 0.7907 - val_loss: 0.5712 - val_accuracy: 0.7880\n",
            "Epoch 12/20\n",
            "94/94 [==============================] - 781s 8s/step - loss: 0.4816 - accuracy: 0.7990 - val_loss: 0.5524 - val_accuracy: 0.7810\n",
            "Epoch 13/20\n",
            "94/94 [==============================] - 770s 8s/step - loss: 0.5007 - accuracy: 0.7860 - val_loss: 0.4649 - val_accuracy: 0.8060\n",
            "Epoch 14/20\n",
            "94/94 [==============================] - 772s 8s/step - loss: 0.5081 - accuracy: 0.7930 - val_loss: 0.5465 - val_accuracy: 0.7810\n",
            "Epoch 15/20\n",
            "94/94 [==============================] - 769s 8s/step - loss: 0.5098 - accuracy: 0.8007 - val_loss: 0.5465 - val_accuracy: 0.7730\n",
            "Epoch 16/20\n",
            "94/94 [==============================] - 763s 8s/step - loss: 0.5134 - accuracy: 0.7893 - val_loss: 0.5336 - val_accuracy: 0.7960\n",
            "Epoch 17/20\n",
            "94/94 [==============================] - 771s 8s/step - loss: 0.5620 - accuracy: 0.7820 - val_loss: 0.8748 - val_accuracy: 0.7220\n",
            "Epoch 18/20\n",
            "94/94 [==============================] - 773s 8s/step - loss: 0.5040 - accuracy: 0.7987 - val_loss: 0.5009 - val_accuracy: 0.8060\n",
            "Epoch 19/20\n",
            "94/94 [==============================] - 785s 8s/step - loss: 0.5001 - accuracy: 0.8013 - val_loss: 0.5035 - val_accuracy: 0.7880\n",
            "Epoch 20/20\n",
            "94/94 [==============================] - 770s 8s/step - loss: 0.5387 - accuracy: 0.7947 - val_loss: 0.5071 - val_accuracy: 0.7890\n"
          ],
          "name": "stdout"
        },
        {
          "output_type": "stream",
          "text": [
            "/usr/local/lib/python3.7/dist-packages/tensorflow/python/keras/utils/generic_utils.py:497: CustomMaskWarning: Custom mask layers require a config and must override get_config. When loading, the custom mask layer must be passed to the custom_objects argument.\n",
            "  category=CustomMaskWarning)\n"
          ],
          "name": "stderr"
        },
        {
          "output_type": "stream",
          "text": [
            "INFO:tensorflow:Assets written to: ./cnn_food_model/assets\n"
          ],
          "name": "stdout"
        }
      ]
    },
    {
      "cell_type": "code",
      "metadata": {
        "id": "FL_BsvQu1Spd"
      },
      "source": [
        "\n",
        "pic = load_img(\"/content/drive/MyDrive/Tatras projects/Food Nonfood data /training/food/1.jpg\",target_size=(224,224,3), grayscale=False)\n",
        "pic_array = img_to_array(pic)\n",
        "pic_array = pic_array/255\n",
        "# pic_array\n",
        "# print(pic_array.shape)\n",
        "pic_array = (np.expand_dims(pic_array,0))\n",
        "# print(pic_array.shape)\n",
        "prediction = model.predict(pic_array)\n",
        "pred_class = decode_predictions(prediction, top=1)\n",
        "print(pred_class)"
      ],
      "execution_count": null,
      "outputs": []
    },
    {
      "cell_type": "code",
      "metadata": {
        "colab": {
          "base_uri": "https://localhost:8080/"
        },
        "id": "Co2n0EqKn96K",
        "outputId": "49c4667b-f050-480e-8208-1aa482a93751"
      },
      "source": [
        "train_generator.class_indices"
      ],
      "execution_count": null,
      "outputs": [
        {
          "output_type": "execute_result",
          "data": {
            "text/plain": [
              "{'food': 0, 'non_food': 1}"
            ]
          },
          "metadata": {
            "tags": []
          },
          "execution_count": 16
        }
      ]
    },
    {
      "cell_type": "markdown",
      "metadata": {
        "id": "L33I6yFHL2Of"
      },
      "source": [
        "### ResNet50"
      ]
    },
    {
      "cell_type": "code",
      "metadata": {
        "id": "npCkY6odV_kj"
      },
      "source": [
        "from tensorflow.keras.applications import ResNet50\n",
        "from keras.applications.imagenet_utils import decode_predictions\n",
        "import tensorflow as tf\n",
        "from tensorflow.keras.models import Model\n",
        "\n",
        "\n",
        "base_model = ResNet50(weights='imagenet', input_shape=(224, 224, 3), include_top=False)\n",
        "                            \n",
        "# feature_extractor.trainable = False\n",
        "\n",
        "# input_ = tf.keras.Input(shape=(224, 224, 3))\n",
        "\n",
        "# x = feature_extractor(input_, training=True)\n",
        "# x = tf.keras.layers.GlobalAveragePooling2D()(x)\n",
        "\n",
        "# output_ = tf.keras.layers.Dense(1, activation='sigmoid')(x)\n",
        "\n",
        "# model = tf.keras.Model(input_, output_)\n",
        "\n",
        "# model.compile(optimizer='adam',\n",
        "#              loss='binary_crossentropy',\n",
        "#              metrics=['accuracy'])\n",
        "\n",
        "# model.fit(train_generator, epochs=1, validation_data=val_generator)  #change epochs to 20\n",
        "\n",
        "# pic = load_img(\"/content/drive/MyDrive/Tatras projects/Food Nonfood data /training/food/1.jpg\",target_size=(224,224,3), grayscale=False)\n",
        "# pic_array = img_to_array(pic)\n",
        "# pic_array = pic_array/255\n",
        "# # pic_array\n",
        "# # print(pic_array.shape)\n",
        "# pic_array = (np.expand_dims(pic_array,0))\n",
        "# # print(pic_array.shape)\n",
        "# prediction = model.predict(pic_array)\n",
        "# pred_class = decode_predictions(prediction, top=1)\n",
        "# print(pred_class)\n",
        "\n",
        "# model.save('/content/drive/MyDrive/Tatras projects/Food Nonfood data ')\n",
        "# model_json = model.to_json()\n",
        "# with open(\"model.json\", \"w\") as json_file:\n",
        "#     json_file.write(model_json)\n",
        "# # serialize weights to HDF5\n",
        "# model.save_weights(\"model.h5\")\n",
        "# print(\"Saved model to disk\")\n",
        " \n",
        "x = base_model.output\n",
        "x = tf.keras.layers.GlobalAveragePooling2D()(x)\n",
        "x = tf.keras.layers.Dense(1024,activation='relu')(x)\n",
        "predictions = tf.keras.layers.Dense(train_generator.num_classes,activation= 'softmax')(x)\n",
        "model = Model( base_model.input, outputs=predictions)\n",
        "for layer in base_model.layers:\n",
        "  layer.trainable = False\n",
        "model.compile(optimizer = 'adam',loss = 'categorical_crossentropy',metrics=['accuracy'])\n",
        "# model.fit(train_generator,epochs = 1)\n",
        "# model.summary()\n"
      ],
      "execution_count": null,
      "outputs": []
    },
    {
      "cell_type": "code",
      "metadata": {
        "colab": {
          "base_uri": "https://localhost:8080/"
        },
        "id": "CDB073KUicQj",
        "outputId": "8f7b3f25-2616-4ab6-fef4-523cf1d16557"
      },
      "source": [
        "model.fit(train_generator,epochs = 1)"
      ],
      "execution_count": null,
      "outputs": [
        {
          "output_type": "stream",
          "text": [
            "/usr/local/lib/python3.7/dist-packages/keras_preprocessing/image/image_data_generator.py:720: UserWarning: This ImageDataGenerator specifies `featurewise_center`, but it hasn't been fit on any training data. Fit it first by calling `.fit(numpy_data)`.\n",
            "  warnings.warn('This ImageDataGenerator specifies '\n",
            "/usr/local/lib/python3.7/dist-packages/keras_preprocessing/image/image_data_generator.py:728: UserWarning: This ImageDataGenerator specifies `featurewise_std_normalization`, but it hasn't been fit on any training data. Fit it first by calling `.fit(numpy_data)`.\n",
            "  warnings.warn('This ImageDataGenerator specifies '\n"
          ],
          "name": "stderr"
        },
        {
          "output_type": "stream",
          "text": [
            "94/94 [==============================] - 494s 5s/step - loss: 0.2297 - accuracy: 0.9673\n"
          ],
          "name": "stdout"
        },
        {
          "output_type": "execute_result",
          "data": {
            "text/plain": [
              "<tensorflow.python.keras.callbacks.History at 0x7f4c5bae3250>"
            ]
          },
          "metadata": {
            "tags": []
          },
          "execution_count": 14
        }
      ]
    },
    {
      "cell_type": "markdown",
      "metadata": {
        "id": "qO4tY7EkaZ9i"
      },
      "source": [
        "### Testing for a single image"
      ]
    },
    {
      "cell_type": "code",
      "metadata": {
        "id": "4xRRdJ8BeyYx"
      },
      "source": [
        ""
      ],
      "execution_count": null,
      "outputs": []
    },
    {
      "cell_type": "code",
      "metadata": {
        "id": "3KSYqKbYwC6S"
      },
      "source": [
        "from keras.preprocessing.image import load_img , img_to_array\n",
        "pic = load_img(\"/content/drive/MyDrive/Tatras projects/Food Nonfood data /validation/food/121.jpg\",target_size=(224,224,3), grayscale=False)\n",
        "pic1 = load_img(\"/content/drive/MyDrive/Tatras projects/Food Nonfood data /validation/non_food/132.jpg\",target_size=(224,224,3), grayscale=False)"
      ],
      "execution_count": null,
      "outputs": []
    },
    {
      "cell_type": "code",
      "metadata": {
        "colab": {
          "base_uri": "https://localhost:8080/",
          "height": 241
        },
        "id": "O1YkXX_FGPLZ",
        "outputId": "f308ebbd-82bc-414f-d4da-097d6c598d7b"
      },
      "source": [
        "pic"
      ],
      "execution_count": null,
      "outputs": [
        {
          "output_type": "execute_result",
          "data": {
            "image/png": "[encoded data removed]",
            "text/plain": [
              "<PIL.Image.Image image mode=RGB size=224x224 at 0x7F4C49E0E250>"
            ]
          },
          "metadata": {
            "tags": []
          },
          "execution_count": 134
        }
      ]
    },
    {
      "cell_type": "code",
      "metadata": {
        "colab": {
          "base_uri": "https://localhost:8080/",
          "height": 241
        },
        "id": "WPiiCXwcO1s9",
        "outputId": "1a9575d6-c10e-41d3-989f-c6c0c3dceff4"
      },
      "source": [
        "pic1"
      ],
      "execution_count": null,
      "outputs": [
        {
          "output_type": "execute_result",
          "data": {
            "image/png": "[encoded data removed]",
            "text/plain": [
              "<PIL.Image.Image image mode=RGB size=224x224 at 0x7F4C4D776C10>"
            ]
          },
          "metadata": {
            "tags": []
          },
          "execution_count": 135
        }
      ]
    },
    {
      "cell_type": "code",
      "metadata": {
        "colab": {
          "base_uri": "https://localhost:8080/"
        },
        "id": "a34c_kcYGkK6",
        "outputId": "c7508cdc-0933-4bd0-a10b-3bb902c6390d"
      },
      "source": [
        "pic.getpixel"
      ],
      "execution_count": null,
      "outputs": [
        {
          "output_type": "execute_result",
          "data": {
            "text/plain": [
              "<bound method Image.getpixel of <PIL.Image.Image image mode=RGB size=224x224 at 0x7F4C49E0E250>>"
            ]
          },
          "metadata": {
            "tags": []
          },
          "execution_count": 136
        }
      ]
    },
    {
      "cell_type": "code",
      "metadata": {
        "colab": {
          "base_uri": "https://localhost:8080/"
        },
        "id": "UoanQIGyO7JH",
        "outputId": "6d378bf6-a9e3-476a-9f31-b09587b72791"
      },
      "source": [
        "pic1.getpixel"
      ],
      "execution_count": null,
      "outputs": [
        {
          "output_type": "execute_result",
          "data": {
            "text/plain": [
              "<bound method Image.getpixel of <PIL.Image.Image image mode=RGB size=224x224 at 0x7F4C4D776C10>>"
            ]
          },
          "metadata": {
            "tags": []
          },
          "execution_count": 137
        }
      ]
    },
    {
      "cell_type": "code",
      "metadata": {
        "id": "1Vj40FgIGnBS"
      },
      "source": [
        "pic_array = img_to_array(pic)"
      ],
      "execution_count": null,
      "outputs": []
    },
    {
      "cell_type": "code",
      "metadata": {
        "id": "Ju9OkUFePAKS"
      },
      "source": [
        "pic_array1 = img_to_array(pic1)"
      ],
      "execution_count": null,
      "outputs": []
    },
    {
      "cell_type": "code",
      "metadata": {
        "colab": {
          "base_uri": "https://localhost:8080/"
        },
        "id": "1ULGtsIuIItb",
        "outputId": "8e022b9c-4a28-4ea2-8bd4-841bfcb18c0a"
      },
      "source": [
        "pic_array"
      ],
      "execution_count": null,
      "outputs": [
        {
          "output_type": "execute_result",
          "data": {
            "text/plain": [
              "array([[[  6.,   7.,  12.],\n",
              "        [  6.,   7.,  12.],\n",
              "        [  6.,   7.,  12.],\n",
              "        ...,\n",
              "        [211., 124.,  44.],\n",
              "        [213., 125.,  38.],\n",
              "        [214., 125.,  41.]],\n",
              "\n",
              "       [[  6.,   7.,  12.],\n",
              "        [  6.,   7.,  12.],\n",
              "        [  6.,   7.,  12.],\n",
              "        ...,\n",
              "        [212., 123.,  43.],\n",
              "        [211., 122.,  40.],\n",
              "        [212., 121.,  38.]],\n",
              "\n",
              "       [[  6.,   7.,  12.],\n",
              "        [  6.,   7.,  12.],\n",
              "        [  6.,   7.,  12.],\n",
              "        ...,\n",
              "        [210., 121.,  41.],\n",
              "        [211., 120.,  41.],\n",
              "        [211., 120.,  37.]],\n",
              "\n",
              "       ...,\n",
              "\n",
              "       [[228., 142.,   0.],\n",
              "        [233., 151.,   5.],\n",
              "        [245., 187.,  53.],\n",
              "        ...,\n",
              "        [172., 156.,  96.],\n",
              "        [178., 162., 103.],\n",
              "        [183., 168., 103.]],\n",
              "\n",
              "       [[226., 146.,   5.],\n",
              "        [229., 148.,   7.],\n",
              "        [233., 167.,  11.],\n",
              "        ...,\n",
              "        [177., 160., 104.],\n",
              "        [181., 164., 108.],\n",
              "        [186., 170., 110.]],\n",
              "\n",
              "       [[224., 142.,   0.],\n",
              "        [231., 147.,   0.],\n",
              "        [225., 144.,   9.],\n",
              "        ...,\n",
              "        [181., 164., 110.],\n",
              "        [185., 168., 114.],\n",
              "        [189., 173., 114.]]], dtype=float32)"
            ]
          },
          "metadata": {
            "tags": []
          },
          "execution_count": 140
        }
      ]
    },
    {
      "cell_type": "code",
      "metadata": {
        "colab": {
          "base_uri": "https://localhost:8080/"
        },
        "id": "GjbqxIvwPJFS",
        "outputId": "c2278c29-d4ca-4be4-f877-75a8e5d93897"
      },
      "source": [
        "pic_array1"
      ],
      "execution_count": null,
      "outputs": [
        {
          "output_type": "execute_result",
          "data": {
            "text/plain": [
              "array([[[ 44.,  60.,  24.],\n",
              "        [ 41.,  52.,  22.],\n",
              "        [ 40.,  53.,  23.],\n",
              "        ...,\n",
              "        [114.,  67.,  51.],\n",
              "        [114.,  65.,  48.],\n",
              "        [119.,  68.,  49.]],\n",
              "\n",
              "       [[ 66.,  89.,  43.],\n",
              "        [ 53.,  57.,  22.],\n",
              "        [ 58.,  61.,  30.],\n",
              "        ...,\n",
              "        [117.,  69.,  49.],\n",
              "        [115.,  67.,  45.],\n",
              "        [119.,  68.,  51.]],\n",
              "\n",
              "       [[ 54.,  70.,  31.],\n",
              "        [ 55.,  67.,  27.],\n",
              "        [ 65.,  80.,  41.],\n",
              "        ...,\n",
              "        [111.,  75.,  59.],\n",
              "        [110.,  73.,  55.],\n",
              "        [110.,  72.,  53.]],\n",
              "\n",
              "       ...,\n",
              "\n",
              "       [[ 58.,  64.,  64.],\n",
              "        [ 57.,  62.,  65.],\n",
              "        [ 60.,  69.,  68.],\n",
              "        ...,\n",
              "        [188., 167., 112.],\n",
              "        [179., 160., 101.],\n",
              "        [156., 140.,  80.]],\n",
              "\n",
              "       [[ 51.,  55.,  56.],\n",
              "        [ 50.,  55.,  59.],\n",
              "        [ 48.,  56.,  58.],\n",
              "        ...,\n",
              "        [183., 163., 104.],\n",
              "        [176., 155.,  90.],\n",
              "        [141., 138.,  87.]],\n",
              "\n",
              "       [[ 57.,  58.,  62.],\n",
              "        [ 39.,  42.,  47.],\n",
              "        [ 47.,  57.,  59.],\n",
              "        ...,\n",
              "        [170., 155., 100.],\n",
              "        [179., 163., 103.],\n",
              "        [148., 143., 101.]]], dtype=float32)"
            ]
          },
          "metadata": {
            "tags": []
          },
          "execution_count": 141
        }
      ]
    },
    {
      "cell_type": "code",
      "metadata": {
        "id": "RKsOWTxABTx0",
        "colab": {
          "base_uri": "https://localhost:8080/"
        },
        "outputId": "e6747a9f-d1fc-47f1-859f-787295b08bc3"
      },
      "source": [
        "# pic_array = pic_array/255.\n",
        "pic_array"
      ],
      "execution_count": null,
      "outputs": [
        {
          "output_type": "execute_result",
          "data": {
            "text/plain": [
              "array([[[  6.,   7.,  12.],\n",
              "        [  6.,   7.,  12.],\n",
              "        [  6.,   7.,  12.],\n",
              "        ...,\n",
              "        [211., 124.,  44.],\n",
              "        [213., 125.,  38.],\n",
              "        [214., 125.,  41.]],\n",
              "\n",
              "       [[  6.,   7.,  12.],\n",
              "        [  6.,   7.,  12.],\n",
              "        [  6.,   7.,  12.],\n",
              "        ...,\n",
              "        [212., 123.,  43.],\n",
              "        [211., 122.,  40.],\n",
              "        [212., 121.,  38.]],\n",
              "\n",
              "       [[  6.,   7.,  12.],\n",
              "        [  6.,   7.,  12.],\n",
              "        [  6.,   7.,  12.],\n",
              "        ...,\n",
              "        [210., 121.,  41.],\n",
              "        [211., 120.,  41.],\n",
              "        [211., 120.,  37.]],\n",
              "\n",
              "       ...,\n",
              "\n",
              "       [[228., 142.,   0.],\n",
              "        [233., 151.,   5.],\n",
              "        [245., 187.,  53.],\n",
              "        ...,\n",
              "        [172., 156.,  96.],\n",
              "        [178., 162., 103.],\n",
              "        [183., 168., 103.]],\n",
              "\n",
              "       [[226., 146.,   5.],\n",
              "        [229., 148.,   7.],\n",
              "        [233., 167.,  11.],\n",
              "        ...,\n",
              "        [177., 160., 104.],\n",
              "        [181., 164., 108.],\n",
              "        [186., 170., 110.]],\n",
              "\n",
              "       [[224., 142.,   0.],\n",
              "        [231., 147.,   0.],\n",
              "        [225., 144.,   9.],\n",
              "        ...,\n",
              "        [181., 164., 110.],\n",
              "        [185., 168., 114.],\n",
              "        [189., 173., 114.]]], dtype=float32)"
            ]
          },
          "metadata": {
            "tags": []
          },
          "execution_count": 142
        }
      ]
    },
    {
      "cell_type": "code",
      "metadata": {
        "colab": {
          "base_uri": "https://localhost:8080/"
        },
        "id": "cjOSeTO2PO2v",
        "outputId": "12ce28ed-3a43-4cee-94a8-385c97408e48"
      },
      "source": [
        "# pic_array1 = pic_array1/255.\n",
        "pic_array1"
      ],
      "execution_count": null,
      "outputs": [
        {
          "output_type": "execute_result",
          "data": {
            "text/plain": [
              "array([[[ 44.,  60.,  24.],\n",
              "        [ 41.,  52.,  22.],\n",
              "        [ 40.,  53.,  23.],\n",
              "        ...,\n",
              "        [114.,  67.,  51.],\n",
              "        [114.,  65.,  48.],\n",
              "        [119.,  68.,  49.]],\n",
              "\n",
              "       [[ 66.,  89.,  43.],\n",
              "        [ 53.,  57.,  22.],\n",
              "        [ 58.,  61.,  30.],\n",
              "        ...,\n",
              "        [117.,  69.,  49.],\n",
              "        [115.,  67.,  45.],\n",
              "        [119.,  68.,  51.]],\n",
              "\n",
              "       [[ 54.,  70.,  31.],\n",
              "        [ 55.,  67.,  27.],\n",
              "        [ 65.,  80.,  41.],\n",
              "        ...,\n",
              "        [111.,  75.,  59.],\n",
              "        [110.,  73.,  55.],\n",
              "        [110.,  72.,  53.]],\n",
              "\n",
              "       ...,\n",
              "\n",
              "       [[ 58.,  64.,  64.],\n",
              "        [ 57.,  62.,  65.],\n",
              "        [ 60.,  69.,  68.],\n",
              "        ...,\n",
              "        [188., 167., 112.],\n",
              "        [179., 160., 101.],\n",
              "        [156., 140.,  80.]],\n",
              "\n",
              "       [[ 51.,  55.,  56.],\n",
              "        [ 50.,  55.,  59.],\n",
              "        [ 48.,  56.,  58.],\n",
              "        ...,\n",
              "        [183., 163., 104.],\n",
              "        [176., 155.,  90.],\n",
              "        [141., 138.,  87.]],\n",
              "\n",
              "       [[ 57.,  58.,  62.],\n",
              "        [ 39.,  42.,  47.],\n",
              "        [ 47.,  57.,  59.],\n",
              "        ...,\n",
              "        [170., 155., 100.],\n",
              "        [179., 163., 103.],\n",
              "        [148., 143., 101.]]], dtype=float32)"
            ]
          },
          "metadata": {
            "tags": []
          },
          "execution_count": 143
        }
      ]
    },
    {
      "cell_type": "code",
      "metadata": {
        "colab": {
          "base_uri": "https://localhost:8080/"
        },
        "id": "ORRjsaulIPxh",
        "outputId": "fc6ac37c-bd6a-40be-bac2-249ea6965191"
      },
      "source": [
        "import numpy as np\n",
        "print(pic_array.shape)\n",
        "pic_array = (np.expand_dims(pic_array,0))\n",
        "print(pic_array.shape)\n",
        "pic_array = preprocess_input(pic_array) "
      ],
      "execution_count": null,
      "outputs": [
        {
          "output_type": "stream",
          "text": [
            "(224, 224, 3)\n",
            "(1, 224, 224, 3)\n"
          ],
          "name": "stdout"
        }
      ]
    },
    {
      "cell_type": "code",
      "metadata": {
        "colab": {
          "base_uri": "https://localhost:8080/"
        },
        "id": "rgkvArEEPS5o",
        "outputId": "1d340c90-a9ac-4544-aaa4-6376e3991ae3"
      },
      "source": [
        "print(pic_array1.shape)\n",
        "pic_array1 = (np.expand_dims(pic_array1,0))\n",
        "print(pic_array1.shape)\n",
        "pic_array1 = preprocess_input(pic_array1)"
      ],
      "execution_count": null,
      "outputs": [
        {
          "output_type": "stream",
          "text": [
            "(224, 224, 3)\n",
            "(1, 224, 224, 3)\n"
          ],
          "name": "stdout"
        }
      ]
    },
    {
      "cell_type": "code",
      "metadata": {
        "id": "xeObKB8IBdnZ"
      },
      "source": [
        "prediction = model.predict(pic_array)"
      ],
      "execution_count": null,
      "outputs": []
    },
    {
      "cell_type": "code",
      "metadata": {
        "colab": {
          "base_uri": "https://localhost:8080/"
        },
        "id": "o0c2UikuVzJN",
        "outputId": "3772c0f7-d7d6-4985-f885-c4b6287b47a9"
      },
      "source": [
        "prediction"
      ],
      "execution_count": null,
      "outputs": [
        {
          "output_type": "execute_result",
          "data": {
            "text/plain": [
              "array([[1.000000e+00, 7.286352e-13]], dtype=float32)"
            ]
          },
          "metadata": {
            "tags": []
          },
          "execution_count": 147
        }
      ]
    },
    {
      "cell_type": "code",
      "metadata": {
        "id": "DgqmikR8SGSr"
      },
      "source": [
        "from keras.applications.imagenet_utils import decode_predictions"
      ],
      "execution_count": null,
      "outputs": []
    },
    {
      "cell_type": "code",
      "metadata": {
        "id": "Vgz47c1mSeXK"
      },
      "source": [
        "prediction1 = model.predict(pic_array1)"
      ],
      "execution_count": null,
      "outputs": []
    },
    {
      "cell_type": "code",
      "metadata": {
        "colab": {
          "base_uri": "https://localhost:8080/"
        },
        "id": "oyecV2tEVVMS",
        "outputId": "7dee9a5e-4703-43ca-f496-e73192c0b00f"
      },
      "source": [
        "prediction1"
      ],
      "execution_count": null,
      "outputs": [
        {
          "output_type": "execute_result",
          "data": {
            "text/plain": [
              "array([[1.4952793e-08, 1.0000000e+00]], dtype=float32)"
            ]
          },
          "metadata": {
            "tags": []
          },
          "execution_count": 150
        }
      ]
    },
    {
      "cell_type": "code",
      "metadata": {
        "colab": {
          "base_uri": "https://localhost:8080/"
        },
        "id": "3WMN9vKrxPlZ",
        "outputId": "9d1a4deb-a2aa-4f35-ec17-2ed76bf6d86b"
      },
      "source": [
        "np.argmax(prediction)"
      ],
      "execution_count": null,
      "outputs": [
        {
          "output_type": "execute_result",
          "data": {
            "text/plain": [
              "0"
            ]
          },
          "metadata": {
            "tags": []
          },
          "execution_count": 151
        }
      ]
    },
    {
      "cell_type": "code",
      "metadata": {
        "colab": {
          "base_uri": "https://localhost:8080/"
        },
        "id": "txI4h2kexS-y",
        "outputId": "b9a3eb32-7cc2-4894-9499-ea957b811bf1"
      },
      "source": [
        "np.argmax(prediction1)"
      ],
      "execution_count": null,
      "outputs": [
        {
          "output_type": "execute_result",
          "data": {
            "text/plain": [
              "1"
            ]
          },
          "metadata": {
            "tags": []
          },
          "execution_count": 152
        }
      ]
    },
    {
      "cell_type": "code",
      "metadata": {
        "colab": {
          "base_uri": "https://localhost:8080/"
        },
        "id": "8Fm_ClhVdbbX",
        "outputId": "197a0d1b-da35-42b4-a9f9-943197af5bde"
      },
      "source": [
        "train_generator.class_indices"
      ],
      "execution_count": null,
      "outputs": [
        {
          "output_type": "execute_result",
          "data": {
            "text/plain": [
              "{'food': 0, 'non_food': 1}"
            ]
          },
          "metadata": {
            "tags": []
          },
          "execution_count": 132
        }
      ]
    },
    {
      "cell_type": "markdown",
      "metadata": {
        "id": "n2y6OY3XH636"
      },
      "source": [
        "### Testing --> Ignore"
      ]
    },
    {
      "cell_type": "code",
      "metadata": {
        "id": "uL35ldjjWAMp"
      },
      "source": [
        "import numpy as np\n",
        "from keras.preprocessing.image import image\n",
        "from keras.preprocessing.image import img_to_array\n",
        "from keras.applications.resnet50 import preprocess_input\n",
        "from keras.applications.imagenet_utils import decode_predictions\n",
        "import matplotlib.pyplot as plt"
      ],
      "execution_count": null,
      "outputs": []
    },
    {
      "cell_type": "code",
      "metadata": {
        "colab": {
          "base_uri": "https://localhost:8080/",
          "height": 269
        },
        "id": "DbmdZdftFArn",
        "outputId": "2bd5caa5-3c04-4dd7-ec11-edd2464ad23c"
      },
      "source": [
        "img = image.load_img('/content/drive/MyDrive/Tatras projects/Food Nonfood data /training/food/0.jpg', target_size = (224, 224))\n",
        "plt.imshow(img)\n",
        "img = image.img_to_array(img)\n",
        "img = np.expand_dims(img, axis=0)\n",
        "img = preprocess_input(img)"
      ],
      "execution_count": null,
      "outputs": [
        {
          "output_type": "display_data",
          "data": {
            "image/png": "[encoded data removed]",
            "text/plain": [
              "<Figure size 432x288 with 1 Axes>"
            ]
          },
          "metadata": {
            "tags": [],
            "needs_background": "light"
          }
        }
      ]
    },
    {
      "cell_type": "code",
      "metadata": {
        "id": "eydhwCiVFmo1"
      },
      "source": [
        "from tensorflow.keras.applications import ResNet50"
      ],
      "execution_count": null,
      "outputs": []
    },
    {
      "cell_type": "code",
      "metadata": {
        "colab": {
          "base_uri": "https://localhost:8080/"
        },
        "id": "Ba8nV3jLErde",
        "outputId": "8c8728c8-820b-4383-b5bf-0517d65f1a85"
      },
      "source": [
        "model = ResNet50(weights='imagenet')\n",
        "preds = model.predict(img)\n",
        "print('Predicted:', decode_predictions(preds, top=1)[0])\n"
      ],
      "execution_count": null,
      "outputs": [
        {
          "output_type": "stream",
          "text": [
            "Downloading data from https://storage.googleapis.com/tensorflow/keras-applications/resnet/resnet50_weights_tf_dim_ordering_tf_kernels.h5\n",
            "102973440/102967424 [==============================] - 1s 0us/step\n",
            "Downloading data from https://storage.googleapis.com/download.tensorflow.org/data/imagenet_class_index.json\n",
            "40960/35363 [==================================] - 0s 0us/step\n",
            "49152/35363 [=========================================] - 0s 0us/step\n",
            "Predicted: [('n04263257', 'soup_bowl', 0.5050246)]\n"
          ],
          "name": "stdout"
        }
      ]
    },
    {
      "cell_type": "code",
      "metadata": {
        "id": "QXEIkRj-FRcm",
        "colab": {
          "base_uri": "https://localhost:8080/"
        },
        "outputId": "9e943485-10e4-4303-8ec9-7ad0913b0a33"
      },
      "source": [
        "testloss , accuracy = model.evaluate(val_generator,verbose = 2)\n"
      ],
      "execution_count": null,
      "outputs": [
        {
          "output_type": "stream",
          "text": [
            "/usr/local/lib/python3.7/dist-packages/keras_preprocessing/image/image_data_generator.py:720: UserWarning: This ImageDataGenerator specifies `featurewise_center`, but it hasn't been fit on any training data. Fit it first by calling `.fit(numpy_data)`.\n",
            "  warnings.warn('This ImageDataGenerator specifies '\n",
            "/usr/local/lib/python3.7/dist-packages/keras_preprocessing/image/image_data_generator.py:728: UserWarning: This ImageDataGenerator specifies `featurewise_std_normalization`, but it hasn't been fit on any training data. Fit it first by calling `.fit(numpy_data)`.\n",
            "  warnings.warn('This ImageDataGenerator specifies '\n"
          ],
          "name": "stderr"
        },
        {
          "output_type": "stream",
          "text": [
            "32/32 - 186s - loss: 0.1057 - accuracy: 0.9750\n"
          ],
          "name": "stdout"
        }
      ]
    },
    {
      "cell_type": "code",
      "metadata": {
        "colab": {
          "base_uri": "https://localhost:8080/"
        },
        "id": "Eul9unXL-bM_",
        "outputId": "899d28e2-4f57-49eb-ffa1-61955292b746"
      },
      "source": [
        "print(accuracy)"
      ],
      "execution_count": null,
      "outputs": [
        {
          "output_type": "stream",
          "text": [
            "0.9750000238418579\n"
          ],
          "name": "stdout"
        }
      ]
    },
    {
      "cell_type": "code",
      "metadata": {
        "id": "PEFsCaOAcBFI"
      },
      "source": [
        ""
      ],
      "execution_count": null,
      "outputs": []
    }
  ]
}